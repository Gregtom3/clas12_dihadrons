{
 "cells": [
  {
   "cell_type": "code",
   "execution_count": 1,
   "id": "accurate-aviation",
   "metadata": {},
   "outputs": [
    {
     "name": "stderr",
     "output_type": "stream",
     "text": [
      "Matplotlib created a temporary config/cache directory at /tmp/matplotlib-8v5dukqu because the default path (/home/jovyan/.cache/matplotlib) is not a writable directory; it is highly recommended to set the MPLCONFIGDIR environment variable to a writable directory, in particular to speed up the import of Matplotlib and to better support multiprocessing.\n"
     ]
    },
    {
     "name": "stdout",
     "output_type": "stream",
     "text": [
      "Welcome to JupyROOT 6.22/06\n"
     ]
    }
   ],
   "source": [
    "%run ../../multiplicity/src/binning.py\n",
    "%run ../../multiplicity/src/plot.py\n",
    "ROOT.EnableImplicitMT(8)"
   ]
  },
  {
   "cell_type": "code",
   "execution_count": 2,
   "id": "saved-andrew",
   "metadata": {},
   "outputs": [],
   "source": [
    "def get_tfile_ttree(pion_pair,version):\n",
    "    if version == \"data\":\n",
    "        if pion_pair == [211,111]:\n",
    "            filesuffix = \"Fall2018_RGA_inbending_merged_cuts.root\"\n",
    "            #filesuffix = \"nSidis_RGA_5036.root\"\n",
    "        elif pion_pair == [-211,111]:\n",
    "            filesuffix = \"Spring2019_RGA_outbending_merged_cuts.root\"\n",
    "    elif version == \"MC\":\n",
    "        if pion_pair == [211,111]:\n",
    "            filesuffix = \"MC_RGA_inbending_merged_cuts.root\"\n",
    "            #filesuffix = \"MC_RGA_3051_0.root\"\n",
    "        elif pion_pair == [-211,111]:\n",
    "            filesuffix = \"MC_RGA_outbending_merged_cuts.root\"\n",
    "\n",
    "    pid_str_1 = str(pion_pair[0]).replace(\"-211\",\"piminus\").replace(\"211\",\"piplus\").replace(\"111\",\"pi0\")\n",
    "    pid_str_2 = str(pion_pair[1]).replace(\"-211\",\"piminus\").replace(\"211\",\"piplus\").replace(\"111\",\"pi0\")\n",
    "\n",
    "    dihadron_str = f\"{pid_str_1}_{pid_str_2}\"\n",
    "\n",
    "    tfile = ROOT.TFile(f\"/volatile/clas12/users/gmat/clas12analysis.sidis.data/clas12_dihadrons/projects/pipi0_paper_RGA_only/data/{dihadron_str}/{filesuffix}\")\n",
    "    ttree = tfile.Get(\"dihadron_cuts\")\n",
    "    ttree.SetAlias(\"rec_passDihadron\",\"x>0\")\n",
    "    ttree.SetAlias(\"rec_x\",\"x\")\n",
    "    ttree.SetAlias(\"rec_Q2\",\"Q2\")\n",
    "    return tfile,ttree"
   ]
  },
  {
   "cell_type": "code",
   "execution_count": 3,
   "id": "flying-faculty",
   "metadata": {},
   "outputs": [],
   "source": [
    "pion_pair=[211,111]\n",
    "tfile_data,tdata = get_tfile_ttree(pion_pair,\"data\")\n",
    "tfile_mc,tmc = get_tfile_ttree(pion_pair,\"MC\")"
   ]
  },
  {
   "cell_type": "code",
   "execution_count": 4,
   "id": "excessive-cheese",
   "metadata": {},
   "outputs": [],
   "source": [
    "#######################################################################\n",
    "# 2d Rectangular Binning and default Custom Binning\n",
    "#######################################################################\n",
    "\n",
    "rect_bin_factory = RectBinFactory()\n",
    "rect_bin_factory.make_bins(\"th_21\",np.linspace(0.1,0.6,6))\n",
    "rect_bin_factory.make_bins(\"th_22\",np.linspace(0.1,0.6,6))\n",
    "\n",
    "custom_bin_factory = CustomBinFactory([\"x\",\"Q2\"])\n",
    "\n",
    "custom_bin_factory.add_curve(\"low_Q2\",\"Q2>0\")\n",
    "custom_bin_factory.add_curve(\"high_Q2\",\"Q2<10\")\n",
    "\n",
    "\n",
    "custom_bin_factory.make_bin([\"low_Q2\",\"high_Q2\"],\"x>0\",\"x<1\")"
   ]
  },
  {
   "cell_type": "code",
   "execution_count": 5,
   "id": "creative-brazilian",
   "metadata": {},
   "outputs": [],
   "source": [
    "#######################################################################\n",
    "# Load all Binnings into the BinManager\n",
    "#######################################################################\n",
    "\n",
    "bin_manager = BinManager()\n",
    "bin_manager.load_factory(rect_bin_factory)\n",
    "bin_manager.load_factory(custom_bin_factory)"
   ]
  },
  {
   "cell_type": "code",
   "execution_count": 6,
   "id": "human-currency",
   "metadata": {},
   "outputs": [],
   "source": [
    "bin_manager.has_custom_bins=False"
   ]
  },
  {
   "cell_type": "code",
   "execution_count": 7,
   "id": "suffering-onion",
   "metadata": {},
   "outputs": [],
   "source": [
    "histograms=make_multiple_bin_histos(bin_manager, tdata, tmc, \n",
    "                         [#(\";x;Q^{2} [GeV^{2}]\",100,0,1,100,1,10),\n",
    "                         (\";#theta(#gamma1);#theta(#gamma2)\",100,0.05,0.65,100,0.05,0.65),\n",
    "                         (\";#phi_{h};Counts\",100,-3.3,3.3)],\n",
    "                                    plot_variable=\"phi_h\",\n",
    "                                    extra_cut=\"x>0\",\n",
    "                                   do_full_tcut=False)"
   ]
  },
  {
   "cell_type": "code",
   "execution_count": 10,
   "id": "essential-public",
   "metadata": {},
   "outputs": [
    {
     "name": "stderr",
     "output_type": "stream",
     "text": [
      "Error in <TList::Clear>: A list is accessing an object (0x55b8f71cf040) already deleted (list name = TList)\n",
      "Error in <TList::Clear>: A list is accessing an object (0x55b9008a9650) already deleted (list name = TList)\n",
      "Error in <TList::Clear>: A list is accessing an object (0x55b90572c930) already deleted (list name = TList)\n",
      "Error in <TList::Clear>: A list is accessing an object (0x55b8f2367330) already deleted (list name = TList)\n",
      "Error in <TList::Clear>: A list is accessing an object (0x55b84b16cc90) already deleted (list name = TList)\n",
      "Error in <TList::Clear>: A list is accessing an object (0x55b8fe1ff870) already deleted (list name = TList)\n",
      "Error in <TList::Clear>: A list is accessing an object (0x55b8f93528e0) already deleted (list name = TList)\n",
      "Error in <TList::Clear>: A list is accessing an object (0x55b8f4a69ea0) already deleted (list name = TList)\n",
      "Error in <TList::Clear>: A list is accessing an object (0x55b8dc7c8dc0) already deleted (list name = TList)\n",
      "Error in <TList::Clear>: A list is accessing an object (0x55b8886e2c40) already deleted (list name = TList)\n",
      "Error in <TList::Clear>: A list is accessing an object (0x55b89284ffc0) already deleted (list name = TList)\n",
      "Error in <TList::Clear>: A list is accessing an object (0x55b890195950) already deleted (list name = TList)\n",
      "Error in <TList::Clear>: A list is accessing an object (0x55b84b954460) already deleted (list name = TList)\n",
      "Error in <TList::Clear>: A list is accessing an object (0x55b8784196f0) already deleted (list name = TList)\n",
      "Error in <TList::Clear>: A list is accessing an object (0x55b8aa5fc860) already deleted (list name = TList)\n",
      "Error in <TList::Clear>: A list is accessing an object (0x55b84af8afa0) already deleted (list name = TList)\n",
      "Error in <TList::Clear>: A list is accessing an object (0x55b84bdf4ce0) already deleted (list name = TList)\n",
      "Error in <TList::Clear>: A list is accessing an object (0x55b8eadd46b0) already deleted (list name = TList)\n",
      "Error in <TList::Clear>: A list is accessing an object (0x55b8d7ea2580) already deleted (list name = TList)\n",
      "Error in <TList::Clear>: A list is accessing an object (0x55b8783fb7e0) already deleted (list name = TList)\n",
      "Error in <TList::Clear>: A list is accessing an object (0x55b899d3b330) already deleted (list name = TList)\n",
      "Error in <TList::Clear>: A list is accessing an object (0x55b8bd99f100) already deleted (list name = TList)\n",
      "Error in <TList::Clear>: A list is accessing an object (0x55b8b3d07d90) already deleted (list name = TList)\n",
      "Error in <TList::Clear>: A list is accessing an object (0x55bbac53d4e0) already deleted (list name = TList)\n",
      "Error in <TList::Clear>: A list is accessing an object (0x55bbc823a800) already deleted (list name = TList)\n"
     ]
    }
   ],
   "source": [
    "import os\n",
    "from ROOT import TCanvas\n",
    "\n",
    "latex_template = r\"\"\"\n",
    "\\documentclass[12pt]{article}\n",
    "\\usepackage{graphicx}\n",
    "\\usepackage[margin=0.5in]{geometry} \n",
    "\\begin{document}\n",
    "%s\n",
    "\\end{document}\n",
    "\"\"\"\n",
    "\n",
    "figure_template = r\"\"\"\n",
    "\\begin{figure}[h]\n",
    "\\centering\n",
    "\\includegraphics[width=0.95\\textwidth]{%s}\n",
    "\\caption{Plot Number = %s}\n",
    "\\end{figure}\n",
    "\"\"\"\n",
    "\n",
    "# Create a PDF for each canvas and write them to a LaTeX document\n",
    "figures = \"\"\n",
    "for m in range(1, 26):\n",
    "    canvas = plot_map(bin_manager, histograms, tdata, tmc, m)#,scale_same=True)\n",
    "    canvas.SaveAs(f\"tmp_plots/plot_{m}.pdf\")  # Save TCanvas as PDF\n",
    "    figures += figure_template % (f\"tmp_plots/plot_{m}.pdf\", str(m))\n",
    "\n",
    "latex_doc = latex_template % figures\n",
    "\n",
    "# Write LaTeX document to a file\n",
    "with open(\"data_v_monte_carlo_phi_h.tex\", 'w') as f:\n",
    "    f.write(latex_doc)"
   ]
  },
  {
   "cell_type": "code",
   "execution_count": 11,
   "id": "clean-diana",
   "metadata": {},
   "outputs": [
    {
     "data": {
      "text/plain": [
       "0"
      ]
     },
     "execution_count": 11,
     "metadata": {},
     "output_type": "execute_result"
    },
    {
     "name": "stdout",
     "output_type": "stream",
     "text": [
      "This is pdfTeX, Version 3.14159265-2.6-1.40.20 (TeX Live 2019/Debian) (preloaded format=pdflatex)\n",
      " restricted \\write18 enabled.\n",
      "entering extended mode\n",
      "(./data_v_monte_carlo_phi_h.tex\n",
      "LaTeX2e <2020-02-02> patch level 2\n",
      "L3 programming layer <2020-02-14>\n",
      "(/usr/share/texlive/texmf-dist/tex/latex/base/article.cls\n",
      "Document Class: article 2019/12/20 v1.4l Standard LaTeX document class\n",
      "(/usr/share/texlive/texmf-dist/tex/latex/base/size12.clo))\n",
      "(/usr/share/texlive/texmf-dist/tex/latex/graphics/graphicx.sty\n",
      "(/usr/share/texlive/texmf-dist/tex/latex/graphics/keyval.sty)\n",
      "(/usr/share/texlive/texmf-dist/tex/latex/graphics/graphics.sty\n",
      "(/usr/share/texlive/texmf-dist/tex/latex/graphics/trig.sty)\n",
      "(/usr/share/texlive/texmf-dist/tex/latex/graphics-cfg/graphics.cfg)\n",
      "(/usr/share/texlive/texmf-dist/tex/latex/graphics-def/pdftex.def)))\n",
      "(/usr/share/texlive/texmf-dist/tex/latex/geometry/geometry.sty\n",
      "(/usr/share/texlive/texmf-dist/tex/generic/iftex/ifvtex.sty\n",
      "(/usr/share/texlive/texmf-dist/tex/generic/iftex/iftex.sty)))\n",
      "(/usr/share/texlive/texmf-dist/tex/latex/l3backend/l3backend-pdfmode.def)\n",
      "No file data_v_monte_carlo_phi_h.aux.\n",
      "(/usr/share/texlive/texmf-dist/tex/context/base/mkii/supp-pdf.mkii\n",
      "[Loading MPS to PDF converter (version 2006.09.02).]\n",
      ") (/usr/share/texlive/texmf-dist/tex/latex/epstopdf-pkg/epstopdf-base.sty\n",
      "(/usr/share/texlive/texmf-dist/tex/latex/latexconfig/epstopdf-sys.cfg))\n",
      "*geometry* driver: auto-detecting\n",
      "*geometry* detected driver: pdftex\n",
      "\n",
      "LaTeX Warning: `h' float specifier changed to `ht'.\n",
      "\n",
      "\n",
      "LaTeX Warning: `h' float specifier changed to `ht'.\n",
      "\n",
      "\n",
      "LaTeX Warning: `h' float specifier changed to `ht'.\n",
      "\n",
      "\n",
      "LaTeX Warning: `h' float specifier changed to `ht'.\n",
      "\n",
      "\n",
      "LaTeX Warning: `h' float specifier changed to `ht'.\n",
      "\n",
      "\n",
      "LaTeX Warning: `h' float specifier changed to `ht'.\n",
      "\n",
      "\n",
      "LaTeX Warning: `h' float specifier changed to `ht'.\n",
      "\n",
      "\n",
      "LaTeX Warning: `h' float specifier changed to `ht'.\n",
      "\n",
      "\n",
      "LaTeX Warning: `h' float specifier changed to `ht'.\n",
      "\n",
      "\n",
      "LaTeX Warning: `h' float specifier changed to `ht'.\n",
      "\n",
      "\n",
      "LaTeX Warning: `h' float specifier changed to `ht'.\n",
      "\n",
      "\n",
      "LaTeX Warning: `h' float specifier changed to `ht'.\n",
      "\n",
      "\n",
      "LaTeX Warning: `h' float specifier changed to `ht'.\n",
      "\n",
      "\n",
      "LaTeX Warning: `h' float specifier changed to `ht'.\n",
      "\n",
      "\n",
      "LaTeX Warning: `h' float specifier changed to `ht'.\n",
      "\n",
      "\n",
      "LaTeX Warning: `h' float specifier changed to `ht'.\n",
      "\n",
      "\n",
      "LaTeX Warning: `h' float specifier changed to `ht'.\n",
      "\n",
      "\n",
      "LaTeX Warning: `h' float specifier changed to `ht'.\n",
      "\n",
      "\n",
      "LaTeX Warning: `h' float specifier changed to `ht'.\n",
      "\n",
      "\n",
      "LaTeX Warning: `h' float specifier changed to `ht'.\n",
      "\n",
      "\n",
      "LaTeX Warning: `h' float specifier changed to `ht'.\n",
      "\n",
      "\n",
      "LaTeX Warning: `h' float specifier changed to `ht'.\n",
      "\n",
      "\n",
      "LaTeX Warning: `h' float specifier changed to `ht'.\n",
      "\n",
      "\n",
      "LaTeX Warning: `h' float specifier changed to `ht'.\n",
      "\n",
      "[1{/var/lib/texmf/fonts/map/pdftex/updmap/pdftex.map} <./tmp_plots/plot_1.pdf, \n",
      "page is rotated 90 degrees>] [2 <./tmp_plots/plot_2.pdf, page is rotated 90 deg\n",
      "rees> <./tmp_plots/plot_3.pdf, page is rotated 90 degrees>] [3 <./tmp_plots/plo\n",
      "t_4.pdf, page is rotated 90 degrees> <./tmp_plots/plot_5.pdf, page is rotated 9\n",
      "0 degrees>] [4 <./tmp_plots/plot_6.pdf, page is rotated 90 degrees> <./tmp_plot\n",
      "s/plot_7.pdf, page is rotated 90 degrees>] [5 <./tmp_plots/plot_8.pdf, page is \n",
      "rotated 90 degrees> <./tmp_plots/plot_9.pdf, page is rotated 90 degrees>]\n",
      "[6 <./tmp_plots/plot_10.pdf, page is rotated 90 degrees> <./tmp_plots/plot_11.p\n",
      "df, page is rotated 90 degrees>] [7 <./tmp_plots/plot_12.pdf, page is rotated 9\n",
      "0 degrees> <./tmp_plots/plot_13.pdf, page is rotated 90 degrees>] [8 <./tmp_plo\n",
      "ts/plot_14.pdf, page is rotated 90 degrees> <./tmp_plots/plot_15.pdf, page is r\n",
      "otated 90 degrees>] [9 <./tmp_plots/plot_16.pdf, page is rotated 90 degrees> <.\n",
      "/tmp_plots/plot_17.pdf, page is rotated 90 degrees>] [10 <./tmp_plots/plot_18.p\n",
      "df, page is rotated 90 degrees> <./tmp_plots/plot_19.pdf, page is rotated 90 de\n",
      "grees>] [11 <./tmp_plots/plot_20.pdf, page is rotated 90 degrees> <./tmp_plots/\n",
      "plot_21.pdf, page is rotated 90 degrees>] [12 <./tmp_plots/plot_22.pdf, page is\n",
      " rotated 90 degrees> <./tmp_plots/plot_23.pdf, page is rotated 90 degrees>]\n",
      "[13 <./tmp_plots/plot_24.pdf, page is rotated 90 degrees> <./tmp_plots/plot_25.\n",
      "pdf, page is rotated 90 degrees>] (./data_v_monte_carlo_phi_h.aux) )</usr/share\n",
      "/texlive/texmf-dist/fonts/type1/public/amsfonts/cm/cmr12.pfb>\n",
      "Output written on data_v_monte_carlo_phi_h.pdf (13 pages, 1598978 bytes).\n",
      "Transcript written on data_v_monte_carlo_phi_h.log.\n"
     ]
    }
   ],
   "source": [
    "# Compile LaTeX file to PDF\n",
    "os.system(\"pdflatex data_v_monte_carlo_phi_h.tex\")"
   ]
  }
 ],
 "metadata": {
  "kernelspec": {
   "display_name": "Python 3",
   "language": "python",
   "name": "python3"
  },
  "language_info": {
   "codemirror_mode": {
    "name": "ipython",
    "version": 3
   },
   "file_extension": ".py",
   "mimetype": "text/x-python",
   "name": "python",
   "nbconvert_exporter": "python",
   "pygments_lexer": "ipython3",
   "version": "3.8.6"
  }
 },
 "nbformat": 4,
 "nbformat_minor": 5
}

{
 "cells": [
  {
   "cell_type": "code",
   "execution_count": 3,
   "id": "bibliographic-geography",
   "metadata": {},
   "outputs": [],
   "source": [
    "import ROOT\n",
    "f=ROOT.TFile(\"../../projects/ana_v1/volatile/data/piplus_piminus/MC_RGA_3051_0.root\")\n",
    "t=f.Get(\"dihadron\")\n",
    "c=ROOT.TCanvas()"
   ]
  },
  {
   "cell_type": "code",
   "execution_count": 2,
   "id": "multiple-multimedia",
   "metadata": {},
   "outputs": [
    {
     "data": {
      "text/plain": [
       "['A',\n",
       " 'fgID',\n",
       " 'run',\n",
       " 'Pol',\n",
       " 'hel',\n",
       " 'MCmatch',\n",
       " 'isGoodEventWithoutML',\n",
       " 'is_CFR_1',\n",
       " 'is_CFR_2',\n",
       " 'x',\n",
       " 'Q2',\n",
       " 'W',\n",
       " 'y',\n",
       " 'M1',\n",
       " 'M2',\n",
       " 'M12',\n",
       " 'Mh',\n",
       " 'phi_h',\n",
       " 'phi_R0',\n",
       " 'phi_R1',\n",
       " 'th',\n",
       " 'z1',\n",
       " 'z2',\n",
       " 'xF1',\n",
       " 'xF2',\n",
       " 'z',\n",
       " 'xF',\n",
       " 'Mx',\n",
       " 'phi_h1',\n",
       " 'phi_h2',\n",
       " 'delta_phi_h',\n",
       " 'pT1',\n",
       " 'pT2',\n",
       " 'pTtot',\n",
       " 'P1',\n",
       " 'P2',\n",
       " 'Ptot',\n",
       " 'truex',\n",
       " 'trueQ2',\n",
       " 'trueW',\n",
       " 'truey',\n",
       " 'trueM1',\n",
       " 'trueM2',\n",
       " 'trueM12',\n",
       " 'trueMh',\n",
       " 'truephi_h',\n",
       " 'truephi_R0',\n",
       " 'truephi_R1',\n",
       " 'trueth',\n",
       " 'truez1',\n",
       " 'truez2',\n",
       " 'truexF1',\n",
       " 'truexF2',\n",
       " 'truez',\n",
       " 'truexF',\n",
       " 'trueMx',\n",
       " 'truephi_h1',\n",
       " 'truephi_h2',\n",
       " 'truedelta_phi_h',\n",
       " 'truepT1',\n",
       " 'truepT2',\n",
       " 'truepTtot',\n",
       " 'trueP1',\n",
       " 'trueP2',\n",
       " 'truePtot',\n",
       " 'truepid_1',\n",
       " 'truepid_2',\n",
       " 'truepid_11',\n",
       " 'truepid_12',\n",
       " 'truepid_21',\n",
       " 'truepid_22',\n",
       " 'trueparentpid_1',\n",
       " 'trueparentpid_2',\n",
       " 'trueparentid_1',\n",
       " 'trueparentid_2',\n",
       " 'trueparentparentpid_1',\n",
       " 'trueparentparentpid_2',\n",
       " 'trueparentparentid_1',\n",
       " 'trueparentparentid_2',\n",
       " 'p_11',\n",
       " 'p_12',\n",
       " 'p_21',\n",
       " 'p_22',\n",
       " 'fggID']"
      ]
     },
     "execution_count": 2,
     "metadata": {},
     "output_type": "execute_result"
    }
   ],
   "source": [
    "[b.GetName() for b in t.GetListOfBranches()]"
   ]
  },
  {
   "cell_type": "code",
   "execution_count": 7,
   "id": "checked-israel",
   "metadata": {},
   "outputs": [
    {
     "data": {
      "image/png": "[encoded data removed]",
      "text/plain": [
       "<IPython.core.display.Image object>"
      ]
     },
     "metadata": {},
     "output_type": "display_data"
    }
   ],
   "source": [
    "t.Draw(\"xF\",\"trueparentpid_1==113&&trueparentpid_2==113&&trueparentid_1==trueparentid_2\")\n",
    "c.Draw()"
   ]
  },
  {
   "cell_type": "code",
   "execution_count": null,
   "id": "asian-contribution",
   "metadata": {},
   "outputs": [],
   "source": []
  }
 ],
 "metadata": {
  "kernelspec": {
   "display_name": "Python 3",
   "language": "python",
   "name": "python3"
  },
  "language_info": {
   "codemirror_mode": {
    "name": "ipython",
    "version": 3
   },
   "file_extension": ".py",
   "mimetype": "text/x-python",
   "name": "python",
   "nbconvert_exporter": "python",
   "pygments_lexer": "ipython3",
   "version": "3.8.6"
  }
 },
 "nbformat": 4,
 "nbformat_minor": 5
}

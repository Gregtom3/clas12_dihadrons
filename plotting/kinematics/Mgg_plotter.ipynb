{
 "cells": [
  {
   "cell_type": "code",
   "execution_count": 1,
   "id": "supposed-sending",
   "metadata": {},
   "outputs": [
    {
     "name": "stdout",
     "output_type": "stream",
     "text": [
      "Welcome to JupyROOT 6.22/06\n"
     ]
    }
   ],
   "source": [
    "import ROOT\n",
    "import numpy as np\n",
    "import os"
   ]
  },
  {
   "cell_type": "code",
   "execution_count": 7,
   "id": "cardiovascular-jones",
   "metadata": {},
   "outputs": [],
   "source": [
    "def get_tfile_ttree(pion_pair,version):\n",
    "    if version == \"data\":\n",
    "        if pion_pair == [211,111]:\n",
    "            filesuffix = \"Fall2018_RGA_inbending_merged.root\"\n",
    "        elif pion_pair == [-211,111]:\n",
    "            filesuffix = \"Spring2019_RGA_outbending_merged.root\"\n",
    "    elif version == \"MC\":\n",
    "        if pion_pair == [211,111]:\n",
    "            filesuffix = \"MC_RGA_inbending_merged.root\"\n",
    "        elif pion_pair == [-211,111]:\n",
    "            filesuffix = \"MC_RGA_outbending_merged.root\"\n",
    "\n",
    "    pid_str_1 = str(pion_pair[0]).replace(\"-211\",\"piminus\").replace(\"211\",\"piplus\").replace(\"111\",\"pi0\")\n",
    "    pid_str_2 = str(pion_pair[1]).replace(\"-211\",\"piminus\").replace(\"211\",\"piplus\").replace(\"111\",\"pi0\")\n",
    "\n",
    "    dihadron_str = f\"{pid_str_1}_{pid_str_2}\"\n",
    "\n",
    "    tfile = ROOT.TFile(f\"/volatile/clas12/users/gmat/clas12analysis.sidis.data/clas12_dihadrons/projects/pipi0_paper_RGA_only/data/{dihadron_str}/{filesuffix}\")\n",
    "    ttree = tfile.Get(\"dihadron\")\n",
    "    return tfile,ttree"
   ]
  },
  {
   "cell_type": "markdown",
   "id": "connected-administrator",
   "metadata": {},
   "source": [
    "# Machine Learning vs. No Machine Learning"
   ]
  },
  {
   "cell_type": "code",
   "execution_count": 8,
   "id": "narrow-alaska",
   "metadata": {},
   "outputs": [],
   "source": [
    "colors = []\n",
    "def col(R,G,B,A=0.7):\n",
    "    CI = ROOT.TColor.GetFreeColorIndex()\n",
    "    C = ROOT.TColor(CI , R/255., G/255. , B/255.,\"\",A)\n",
    "    colors.append(C)\n",
    "    return CI"
   ]
  },
  {
   "cell_type": "code",
   "execution_count": 9,
   "id": "surprising-thread",
   "metadata": {},
   "outputs": [],
   "source": [
    "pion_pair=[211,111]\n",
    "version = \"data\"\n",
    "tfile,ttree = get_tfile_ttree(pion_pair,version)"
   ]
  },
  {
   "cell_type": "code",
   "execution_count": 22,
   "id": "removable-greek",
   "metadata": {},
   "outputs": [
    {
     "name": "stderr",
     "output_type": "stream",
     "text": [
      "Warning in <TCanvas::Constructor>: Deleting canvas with same name: c\n",
      "Warning in <TFile::Append>: Replacing existing TH1: h1 (Potential memory leak).\n",
      "Warning in <TFile::Append>: Replacing existing TH1: h2 (Potential memory leak).\n",
      "Warning in <TFile::Append>: Replacing existing TH1: h3 (Potential memory leak).\n",
      "Warning in <TFile::Append>: Replacing existing TH1: h4 (Potential memory leak).\n",
      "Warning in <TFile::Append>: Replacing existing TH1: h5 (Potential memory leak).\n",
      "Info in <TCanvas::Print>: pdf file diphoton2.pdf has been created\n"
     ]
    },
    {
     "data": {
      "image/png": "[encoded data removed]",
      "text/plain": [
       "<IPython.core.display.Image object>"
      ]
     },
     "metadata": {},
     "output_type": "display_data"
    }
   ],
   "source": [
    "c=ROOT.TCanvas(\"c\",\"c\",500,500)\n",
    "ROOT.gStyle.SetHistLineWidth(2)\n",
    "#ROOT.gStyle.SetLegendBorderSize(0)\n",
    "h1=ROOT.TH1F(\"h1\",\";M_{#gamma#gamma} [GeV];Counts\",100,0.04,0.5); \n",
    "h2=ROOT.TH1F(\"h2\",\";Mdiphoton [GeV];Counts\",100,0.04,0.5); \n",
    "h3=ROOT.TH1F(\"h3\",\";Mdiphoton [GeV];Counts\",100,0.04,0.5); \n",
    "h4=ROOT.TH1F(\"h4\",\";Mdiphoton [GeV];Counts\",100,0.04,0.5); \n",
    "h5=ROOT.TH1F(\"h5\",\";Mdiphoton [GeV];Counts\",100,0.04,0.5);\n",
    "\n",
    "\n",
    "\n",
    "ROOT.gStyle.SetHistLineWidth(2)\n",
    "\n",
    "# Coloring\n",
    "h1.SetLineColor(col(176,181,133))\n",
    "h1.SetFillColor(col(225,232,159))\n",
    "\n",
    "h2.SetLineColor(col(116,85,75))\n",
    "h2.SetFillColor(col(173,121,113))\n",
    "\n",
    "h3.SetLineColor(col(132,109,118))\n",
    "h3.SetFillColor(col(179,148,160))\n",
    "\n",
    "h4.SetLineColor(col(117,126,138))\n",
    "h4.SetFillColor(col(161,183,187))\n",
    "\n",
    "h5.SetLineColor(col(122,155,132))\n",
    "h5.SetFillColor(col(168,213,179))\n",
    "\n",
    "N=int(1e10)\n",
    "isGoodEvent=\"z<0.95&&xF1>0&&xF2>0&&Mx>1.5&&P1>1.25\"\n",
    "ttree.Draw(\"M2>>h1\",isGoodEvent,\"hist\",N)\n",
    "ttree.Draw(\"M2>>h3\",\"isGoodEventWithML\",\"hist same\",N)\n",
    "ttree.Draw(\"M2>>h5\",\"isGoodEventWithoutML\",\"hist same\",N)\n",
    "\n",
    "h2.Scale(1/h1.Integral())\n",
    "h3.Scale(1/h1.Integral())\n",
    "h4.Scale(1/h1.Integral())\n",
    "h5.Scale(1/h1.Integral())\n",
    "h1.Scale(1/h1.Integral())\n",
    "\n",
    "legend=ROOT.TLegend(0.37,0.66,0.88,0.88)\n",
    "#legend=ROOT.TLegend(0.6,0.8,0.88,0.88)\n",
    "legend.AddEntry(h1,\"Total\",\"f\")\n",
    "#legend.AddEntry(h2,\"Background\",\"f\")\n",
    "legend.AddEntry(h3,\"GBT p>0.9 cut\",\"f\")\n",
    "#legend.AddEntry(h4,\"GBT p>0.9 Bkg\",\"f\")\n",
    "legend.AddEntry(h5,\"Traditional #pi^{0} cuts\",\"f\")\n",
    "legend.Draw(\"same\")\n",
    "\n",
    "h1.GetYaxis().SetRangeUser(0,0.1)\n",
    "h1.GetYaxis().SetNdivisions(508)\n",
    "h1.GetYaxis().SetLabelSize(0)\n",
    "h1.GetYaxis().SetTitle(\"arbitrary units\")\n",
    "h1.GetXaxis().SetTitleSize(0.04)\n",
    "ROOT.gStyle.SetOptStat(0)\n",
    "c.SetGridy(1)\n",
    "ymax=0\n",
    "for i in range(h1.GetNbinsX()):\n",
    "    if(h1.GetBinContent(i+1)>ymax):\n",
    "        ymax=h1.GetBinContent(i+1)\n",
    "h1.GetYaxis().SetRangeUser(0,ymax*1.05)\n",
    "\n",
    "latex=ROOT.TLatex()\n",
    "latex.SetTextSize(0.03)\n",
    "latex.SetTextFont(42)\n",
    "latex.DrawLatexNDC(0.5,0.47,\"CLAS12 RG-A Inbending\")\n",
    "latex.DrawLatexNDC(0.5,0.43,\"#bf{10.6#it{GeV}} e+p#rightarrow e'+#gamma#gamma+#pi^{+}+X\")\n",
    "\n",
    "h1.GetXaxis().SetNdivisions(508)\n",
    "c.RedrawAxis()\n",
    "c.Draw()\n",
    "c.SaveAs(\"diphoton2.pdf\")"
   ]
  },
  {
   "cell_type": "markdown",
   "id": "limiting-championship",
   "metadata": {},
   "source": [
    "# Signal Peak"
   ]
  },
  {
   "cell_type": "code",
   "execution_count": 70,
   "id": "patent-phase",
   "metadata": {},
   "outputs": [],
   "source": [
    "pion_pair=[211,111]\n",
    "version = \"MC\"\n",
    "tfile,ttree = get_tfile_ttree(pion_pair,version)"
   ]
  },
  {
   "cell_type": "code",
   "execution_count": 78,
   "id": "alternative-morgan",
   "metadata": {},
   "outputs": [
    {
     "name": "stderr",
     "output_type": "stream",
     "text": [
      "Warning in <TCanvas::Constructor>: Deleting canvas with same name: c\n",
      "Warning in <TFile::Append>: Replacing existing TH1: h1 (Potential memory leak).\n",
      "Warning in <TFile::Append>: Replacing existing TH1: h2 (Potential memory leak).\n",
      "Warning in <TFile::Append>: Replacing existing TH1: h3 (Potential memory leak).\n",
      "Warning in <TFile::Append>: Replacing existing TH1: h4 (Potential memory leak).\n",
      "Warning in <TFile::Append>: Replacing existing TH1: h5 (Potential memory leak).\n"
     ]
    },
    {
     "data": {
      "image/png": "[encoded data removed]",
      "text/plain": [
       "<IPython.core.display.Image object>"
      ]
     },
     "metadata": {},
     "output_type": "display_data"
    }
   ],
   "source": [
    "c=ROOT.TCanvas(\"c\",\"c\",500,500)\n",
    "ROOT.gStyle.SetHistLineWidth(2)\n",
    "#ROOT.gStyle.SetLegendBorderSize(0)\n",
    "h1=ROOT.TH1F(\"h1\",\";M_{#gamma#gamma} [GeV];Counts\",100,0.04,0.5); \n",
    "h2=ROOT.TH1F(\"h2\",\";Mdiphoton [GeV];Counts\",100,0.04,0.5); \n",
    "h3=ROOT.TH1F(\"h3\",\";Mdiphoton [GeV];Counts\",100,0.04,0.5); \n",
    "h4=ROOT.TH1F(\"h4\",\";Mdiphoton [GeV];Counts\",100,0.04,0.5); \n",
    "h5=ROOT.TH1F(\"h5\",\";Mdiphoton [GeV];Counts\",100,0.04,0.5);\n",
    "\n",
    "\n",
    "ROOT.gStyle.SetHistLineWidth(2)\n",
    "\n",
    "# Coloring\n",
    "h1.SetLineColor(1)\n",
    "\n",
    "h2.SetLineColor(col(116,85,75))\n",
    "h2.SetFillColor(col(173,121,113))\n",
    "\n",
    "h3.SetLineColor(col(132,109,118))\n",
    "h3.SetFillColor(col(179,148,160))\n",
    "\n",
    "h4.SetLineColor(col(117,126,138))\n",
    "h4.SetFillColor(col(161,183,187))\n",
    "\n",
    "h5.SetLineColor(col(122,155,132))\n",
    "h5.SetFillColor(col(168,213,179))\n",
    "\n",
    "ttree.Draw(\"M2>>h5\",\"trueparentpid_2==111\",\"hist\")\n",
    "ttree.Draw(\"M2>>h3\",\"trueparentpid_2!=111\",\"hist same\")\n",
    "ttree.Draw(\"M2>>h1\",\"\",\"hist same\")\n",
    "\n",
    "h2.Scale(1/h1.Integral())\n",
    "h3.Scale(1/h1.Integral())\n",
    "h4.Scale(1/h1.Integral())\n",
    "h5.Scale(1/h1.Integral())\n",
    "h1.Scale(1/h1.Integral())\n",
    "\n",
    "legend=ROOT.TLegend(0.37,0.66,0.88,0.88)\n",
    "#legend=ROOT.TLegend(0.6,0.8,0.88,0.88)\n",
    "legend.AddEntry(h1,\"Total\",\"l\")\n",
    "#legend.AddEntry(h2,\"Background\",\"f\")\n",
    "legend.AddEntry(h3,\"True #pi^{0}\",\"f\")\n",
    "#legend.AddEntry(h4,\"GBT p>0.9 Bkg\",\"f\")\n",
    "legend.AddEntry(h5,\"False #pi^{0}\",\"f\")\n",
    "legend.Draw(\"same\")\n",
    "\n",
    "h5.GetYaxis().SetRangeUser(0,0.08)\n",
    "h1.GetYaxis().SetNdivisions(508)\n",
    "h1.GetYaxis().SetLabelSize(0)\n",
    "h1.GetYaxis().SetTitle(\"arbitrary units\")\n",
    "h1.GetXaxis().SetTitleSize(0.04)\n",
    "ROOT.gStyle.SetOptStat(0)\n",
    "c.SetGridy(1)\n",
    "ymax=0\n",
    "for i in range(h1.GetNbinsX()):\n",
    "    if(h1.GetBinContent(i+1)>ymax):\n",
    "        ymax=h1.GetBinContent(i+1)\n",
    "h1.GetYaxis().SetRangeUser(0,ymax*1.05)\n",
    "\n",
    "latex=ROOT.TLatex()\n",
    "latex.SetTextSize(0.03)\n",
    "latex.SetTextFont(42)\n",
    "latex.DrawLatexNDC(0.5,0.465,\"Monte Carlo Inbending Sample\")\n",
    "latex.DrawLatexNDC(0.5,0.425,\"#bf{10.6#it{GeV}} e+p#rightarrow e'+#gamma#gamma+#pi^{+}+X\")\n",
    "latex.DrawLatexNDC(0.5,0.385,\"SIDIS cuts, PID purity cuts\")\n",
    "\n",
    "h1.GetXaxis().SetNdivisions(508)\n",
    "c.RedrawAxis()\n",
    "c.Draw()"
   ]
  },
  {
   "cell_type": "markdown",
   "id": "arctic-corruption",
   "metadata": {},
   "source": [
    "# Plotting Fit Functions"
   ]
  },
  {
   "cell_type": "code",
   "execution_count": 12,
   "id": "abroad-mother",
   "metadata": {},
   "outputs": [],
   "source": [
    "def par_str(val,err):\n",
    "    num_sig_digits = int(round(-np.log10(err)))+1\n",
    "    rounded_val = f'%.{num_sig_digits}f'%val#round(val, num_sig_digits)\n",
    "    rounded_err = round(err, num_sig_digits)\n",
    "    v = rounded_val\n",
    "    e = rounded_err*np.round(10**num_sig_digits)\n",
    "    return f\"{v}({int(e)})\""
   ]
  },
  {
   "cell_type": "code",
   "execution_count": 80,
   "id": "regular-carpet",
   "metadata": {},
   "outputs": [],
   "source": [
    "pion_pair=[211,111]\n",
    "version = \"data\"\n",
    "tfile,ttree = get_tfile_ttree(pion_pair,version)"
   ]
  },
  {
   "cell_type": "code",
   "execution_count": 82,
   "id": "dramatic-bhutan",
   "metadata": {},
   "outputs": [
    {
     "name": "stderr",
     "output_type": "stream",
     "text": [
      "Warning in <TCanvas::Constructor>: Deleting canvas with same name: c\n",
      "Warning in <TFile::Append>: Replacing existing TH1: h (Potential memory leak).\n",
      "Info in <ROOT::Math::ParameterSettings>: lower/upper bounds outside current parameter value. The value will be set to (low+up)/2 \n",
      "Info in <ROOT::Math::ParameterSettings>: lower/upper bounds outside current parameter value. The value will be set to (low+up)/2 \n"
     ]
    },
    {
     "data": {
      "image/png": "[encoded data removed]",
      "text/plain": [
       "<IPython.core.display.Image object>"
      ]
     },
     "metadata": {},
     "output_type": "display_data"
    }
   ],
   "source": [
    "# Predefine the settings for your plot\n",
    "canvas_size = 500\n",
    "nbins = 200\n",
    "range_low = 0\n",
    "range_high = 0.6\n",
    "fit_range = (0.07, 0.4)\n",
    "fit_limits = [(0.129, 0.135), (0.0001, 0.2)]\n",
    "gaus_color = 2\n",
    "signal_color = 9\n",
    "bkg_color = ROOT.kOrange-3\n",
    "text_font = 42\n",
    "text_size = 0.03\n",
    "version = \"MC\"  # Change to \"Data\" for data\n",
    "mu_param = 1\n",
    "sigma_param = 2\n",
    "\n",
    "# Create canvas and histogram\n",
    "c = ROOT.TCanvas(\"c\", \"c\", canvas_size, canvas_size)\n",
    "h = ROOT.TH1F(\"h\", \"\", nbins, range_low, range_high)\n",
    "\n",
    "# Draw your tree variable to the histogram\n",
    "ttree.Draw(\"M2>>h\", \"\", \"\")\n",
    "\n",
    "# Set the line color and width\n",
    "h.SetLineColor(1)\n",
    "h.SetLineWidth(2)\n",
    "\n",
    "# Set the style options\n",
    "ROOT.gStyle.SetOptStat(0)\n",
    "ROOT.gPad.SetLeftMargin(0.2)\n",
    "ROOT.gPad.SetBottomMargin(0.2)\n",
    "\n",
    "# Set title sizes and labels for both axes\n",
    "h.GetXaxis().SetTitleSize(0.05)\n",
    "h.GetXaxis().SetTitle(\"M_{#gamma#gamma} [GeV]\")\n",
    "h.GetYaxis().SetTitleSize(0.05)\n",
    "h.GetYaxis().SetTitle(\"Counts\")\n",
    "\n",
    "# Normalize the histogram\n",
    "h.Scale(1/h.Integral())\n",
    "\n",
    "# Draw the histogram\n",
    "h.Draw(\"hist\")\n",
    "\n",
    "# Draw additional information on the plot\n",
    "latex = ROOT.TLatex()\n",
    "latex.SetTextSize(text_size)\n",
    "latex.SetTextFont(text_font)\n",
    "latex.DrawLatexNDC(0.5,0.49, \"Monte Carlo Inbending Sample\" if version==\"MC\" else \"Fall 2018 Inbending Sample\")\n",
    "latex.DrawLatexNDC(0.5,0.45,\"#bf{10.6#it{GeV}} e+p#rightarrow e'+#gamma#gamma+#pi^{+}+X\")\n",
    "latex.DrawLatexNDC(0.5,0.41,\"SIDIS cuts, PID purity cuts\")\n",
    "\n",
    "# Fit the histogram with a combination of a Gaussian and a fourth degree polynomial\n",
    "tf1 = ROOT.TF1(\"tf1\", \"[0]*TMath::Gaus(x,[1],[2]) + [3] + [4]*x + [5]*x*x + [6]*x*x*x + [7]*x*x*x*x\", *fit_range)\n",
    "tf1.SetParLimits(mu_param, *fit_limits[0])\n",
    "tf1.SetParLimits(sigma_param, *fit_limits[1])\n",
    "h.Fit(\"tf1\", \"RQ\")\n",
    "\n",
    "# Draw the fitted function\n",
    "tf1.SetLineColor(gaus_color)\n",
    "tf1.Draw(\"same\")\n",
    "\n",
    "# Create and draw functions representing signal and background\n",
    "tf1_signal = ROOT.TF1(\"tf1_signal\", f\"{tf1.GetParameter(0)}*TMath::Gaus(x,{tf1.GetParameter(1)},{tf1.GetParameter(2)})\", *fit_range)\n",
    "tf1_signal.SetLineColor(signal_color)\n",
    "tf1_signal.Draw(\"same\")\n",
    "\n",
    "tf1_bkg = ROOT.TF1(\"tf1_bkg\", f\"{tf1.GetParameter(3)} + {tf1.GetParameter(4)}*x + {tf1.GetParameter(5)}*x*x + {tf1.GetParameter(6)}*x*x*x + {tf1.GetParameter(7)}*x*x*x*x\", *fit_range)\n",
    "tf1_bkg.SetLineColor(bkg_color)\n",
    "tf1_bkg.Draw(\"same\")\n",
    "\n",
    "# Add fit parameters to the plot\n",
    "latex2 = ROOT.TLatex()\n",
    "latex2.SetTextSize(text_size)\n",
    "ymax = 0.85\n",
    "dy = 0.04\n",
    "parNames = [\"A\", \"#mu\", \"#sigma\", \"a_{0}\", \"a_{1}\", \"a_{2}\", \"a_{3}\", \"a_{4}\"]\n",
    "for i in range(8):\n",
    "    latex2.DrawLatexNDC(0.6, ymax-i*dy, parNames[i]+\" = {} \".format(par_str(tf1.GetParameter(i),tf1.GetParError(i))))\n",
    "\n",
    "# Calculate and display signal purity and fit quality\n",
    "mu = tf1.GetParameter(mu_param)\n",
    "sigma = tf1.GetParameter(sigma_param)\n",
    "int_s = tf1_signal.Integral(mu-2*sigma, mu+2*sigma)\n",
    "int_b = tf1_bkg.Integral(mu-2*sigma, mu+2*sigma)\n",
    "latex2.DrawLatexNDC(0.45, 0.37, \"Purity = S/N = {}\".format(np.round(int_s/(int_s+int_b), 3)))\n",
    "latex2.DrawLatexNDC(0.55, 0.3, \"#chi^{2}/ndf = \"+f\"{np.round(tf1.GetChisquare(), 1)}/{tf1.GetNDF()} = {np.round(tf1.GetChisquare()/tf1.GetNDF(), 1)}\")\n",
    "\n",
    "# Draw the canvas\n",
    "c.Draw()\n"
   ]
  },
  {
   "cell_type": "code",
   "execution_count": null,
   "id": "agricultural-heater",
   "metadata": {},
   "outputs": [],
   "source": []
  }
 ],
 "metadata": {
  "kernelspec": {
   "display_name": "Python 3",
   "language": "python",
   "name": "python3"
  },
  "language_info": {
   "codemirror_mode": {
    "name": "ipython",
    "version": 3
   },
   "file_extension": ".py",
   "mimetype": "text/x-python",
   "name": "python",
   "nbconvert_exporter": "python",
   "pygments_lexer": "ipython3",
   "version": "3.8.6"
  }
 },
 "nbformat": 4,
 "nbformat_minor": 5
}

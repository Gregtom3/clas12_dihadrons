{
 "cells": [
  {
   "cell_type": "code",
   "execution_count": 31,
   "id": "therapeutic-float",
   "metadata": {},
   "outputs": [
    {
     "name": "stdout",
     "output_type": "stream",
     "text": [
      "LaTeX file '/work/clas12/users/gmat/clas12/clas12_dihadrons/projects/ana_v3_RGB/plots/asym/asym.tex' has been generated.\n"
     ]
    }
   ],
   "source": [
    "import os\n",
    "import re\n",
    "from pathlib import Path\n",
    "\n",
    "dir = \"/work/clas12/users/gmat/clas12/clas12_dihadrons/projects/ana_v3_RGB/plots/asym\"  # Directory where the files are located\n",
    "prefix=\"RGA_RGB_with_cuts\"\n",
    "\n",
    "# Search for files with the specified pattern\n",
    "pattern = re.compile(prefix+r\"_(.+?)_(.+?)\\.png\")\n",
    "files = [f for f in os.listdir(dir) if re.match(pattern, f)]\n",
    "\n",
    "# Group files by BINVAR\n",
    "groups = {}\n",
    "for file in files:\n",
    "    match = re.match(pattern, file)\n",
    "    binvar, channel = match.groups()\n",
    "    if binvar not in groups:\n",
    "        groups[binvar] = []\n",
    "    groups[binvar].append((channel, file))\n",
    "\n",
    "# Generate LaTeX file\n",
    "latex_file = f\"{dir}/asym.tex\"\n",
    "with open(latex_file, \"w\") as f:\n",
    "    f.write(\"\\\\documentclass{article}\\n\")\n",
    "    f.write(\"\\\\usepackage{graphicx}\\n\")\n",
    "    f.write(\"\\\\usepackage{geometry}\\n\")\n",
    "    f.write(\"\\\\usepackage{fancyhdr}\\n\")\n",
    "    f.write(\"\\\\geometry{margin=1cm}\\n\") # Set the margin to 1 cm\n",
    "    f.write(\"\\\\usepackage{subcaption}\\n\")\n",
    "    f.write(\"\\\\usepackage[font=large]{caption}\\n\") # Set the caption font size to large\n",
    "    f.write(\"\\\\begin{document}\\n\")\n",
    "    f.write(\"\\\\pagestyle{fancy}\\n\")\n",
    "    f.write(\"\\\\fancyhf{}\\n\")\n",
    "    f.write(\"\\\\fancyhead[L]{\\\\leftmark\\\\,\\\\,\\\\,\\\\,\\\\rightmark}\\n\")\n",
    "    f.write(\"\\\\fancyhead[R]{\\\\thepage}\\n\")\n",
    "    # Add a table of contents\n",
    "    f.write(\"\\\\tableofcontents\\n\")\n",
    "    for binvar, file_list in groups.items():\n",
    "        f.write(f\"\\\\section{{{binvar}}}\\n\")\n",
    "        for channel, file in file_list:\n",
    "            CHANNEL = channel.replace(\"piplus\", \"$\\\\pi^{+}$\").replace(\"piminus\", \"$\\\\pi^{-}$\").replace(\"pi0\", \"$\\\\pi^{0}$\").replace(\"_\", \"\")\n",
    "            f.write(\"\\\\begin{figure}[h!]\\n\")\n",
    "            f.write(\"\\\\centering\\n\")\n",
    "            f.write(f\"\\\\includegraphics[width=0.95\\\\textwidth]{{{Path(dir) / file}}}\\n\")\n",
    "            f.write(f\"\\\\caption{{{CHANNEL}, RGA, RGB comparison BINVAR = {binvar}}}\\n\")\n",
    "            f.write(\"\\\\end{figure}\\n\")\n",
    "        f.write(\"\\\\clearpage\\n\")\n",
    "\n",
    "    f.write(\"\\\\end{document}\\n\")\n",
    "\n",
    "print(f\"LaTeX file '{latex_file}' has been generated.\")"
   ]
  },
  {
   "cell_type": "code",
   "execution_count": 32,
   "id": "north-resolution",
   "metadata": {},
   "outputs": [],
   "source": [
    "# Get the directory part of the LaTeX filename\n",
    "latex_dirname = \"../../projects/ana_v3_RGB/plots/\"\n",
    "\n",
    "# Save the current working directory\n",
    "cwd = os.getcwd()\n",
    "\n",
    "# Change the current working directory to the LaTeX directory\n",
    "os.chdir(latex_dirname)\n",
    "\n",
    "# Compile the LaTeX file into a PDF\n",
    "os.system(f\"pdflatex {latex_file}\")\n",
    "os.system(f\"pdflatex {latex_file}\")\n",
    "\n",
    "# Change the current working directory back to the original\n",
    "os.chdir(cwd)"
   ]
  },
  {
   "cell_type": "code",
   "execution_count": null,
   "id": "adequate-nothing",
   "metadata": {},
   "outputs": [],
   "source": []
  }
 ],
 "metadata": {
  "kernelspec": {
   "display_name": "Python 3",
   "language": "python",
   "name": "python3"
  },
  "language_info": {
   "codemirror_mode": {
    "name": "ipython",
    "version": 3
   },
   "file_extension": ".py",
   "mimetype": "text/x-python",
   "name": "python",
   "nbconvert_exporter": "python",
   "pygments_lexer": "ipython3",
   "version": "3.8.6"
  }
 },
 "nbformat": 4,
 "nbformat_minor": 5
}

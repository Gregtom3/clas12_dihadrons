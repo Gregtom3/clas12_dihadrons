{
 "cells": [
  {
   "cell_type": "code",
   "execution_count": 2,
   "id": "indie-metallic",
   "metadata": {},
   "outputs": [],
   "source": [
    "import os\n",
    "import re\n",
    "from pathlib import Path"
   ]
  },
  {
   "cell_type": "code",
   "execution_count": 37,
   "id": "frank-christopher",
   "metadata": {},
   "outputs": [],
   "source": [
    "def get_plot_list(prefix, filedir):\n",
    "    ret_list=[]\n",
    "    for f in os.listdir(filedir):\n",
    "        if(not f.endswith(\".png\") and not f.endswith(\".pdf\")):\n",
    "            continue\n",
    "        f=f.replace(prefix,\"\").replace(\".png\",\"\").replace(\".pdf\",\"\")\n",
    "        subdata=f.split(\"_\")\n",
    "        for i,sub in enumerate(subdata):\n",
    "            if\n",
    "    return ret_list\n"
   ]
  },
  {
   "cell_type": "code",
   "execution_count": 38,
   "id": "local-ballot",
   "metadata": {},
   "outputs": [],
   "source": [
    "latex_dirname = \"/work/clas12/users/gmat/clas12/clas12_dihadrons/projects/ana_v1/plots\"\n",
    "filedir = f\"{latex_dirname}/asym_pw\"  # Directory where the files are located\n",
    "prefix=\"RGA_RGB_with_cuts_\"\n",
    "latex_out=\"test.tex\""
   ]
  },
  {
   "cell_type": "code",
   "execution_count": 40,
   "id": "global-title",
   "metadata": {},
   "outputs": [
    {
     "data": {
      "text/plain": [
       "{'z': {'piminus': {'piminus': {}, 'pi0': {}},\n",
       "  'piplus': {'pi0': {}, 'piminus': {}, 'piplus': {}}},\n",
       " 'x': {'piplus': {'piplus': {}, 'piminus': {}, 'pi0': {}},\n",
       "  'piminus': {'pi0': {}, 'piminus': {}}},\n",
       " 'xF': {'piminus': {'piminus': {}, 'pi0': {}},\n",
       "  'piplus': {'piminus': {}, 'piplus': {}, 'pi0': {}}},\n",
       " 'Mx': {'piplus': {'piminus': {}, 'piplus': {}, 'pi0': {}},\n",
       "  'piminus': {'piminus': {}, 'pi0': {}}},\n",
       " 'Mh': {'piplus': {'piplus': {}, 'pi0': {}, 'piminus': {}},\n",
       "  'piminus': {'piminus': {}, 'pi0': {}}},\n",
       " 'pTtot': {'piplus': {'piplus': {}, 'pi0': {}, 'piminus': {}},\n",
       "  'piminus': {'pi0': {}, 'piminus': {}}}}"
      ]
     },
     "metadata": {},
     "output_type": "display_data"
    }
   ],
   "source": [
    "result = get_plot_dict(prefix, filedir)\n",
    "display(result)"
   ]
  },
  {
   "cell_type": "code",
   "execution_count": 46,
   "id": "attempted-plaintiff",
   "metadata": {},
   "outputs": [
    {
     "name": "stdout",
     "output_type": "stream",
     "text": [
      "A\n",
      "A\n",
      "A\n",
      "A\n",
      "A\n",
      "A\n",
      "A\n",
      "A\n",
      "A\n",
      "A\n",
      "A\n",
      "A\n",
      "A\n",
      "A\n",
      "A\n",
      "A\n",
      "A\n",
      "A\n",
      "A\n",
      "A\n",
      "A\n",
      "A\n",
      "A\n",
      "A\n",
      "A\n",
      "A\n",
      "A\n",
      "A\n",
      "A\n",
      "A\n",
      "A\n",
      "A\n",
      "A\n",
      "A\n",
      "A\n",
      "A\n",
      "A\n",
      "A\n",
      "A\n",
      "A\n",
      "A\n",
      "A\n",
      "A\n",
      "A\n",
      "A\n",
      "A\n",
      "A\n",
      "A\n"
     ]
    },
    {
     "data": {
      "text/plain": [
       "{'z': {'piminus': {'piminus': {}, 'pi0': {}},\n",
       "  'piplus': {'pi0': {}, 'piminus': {}, 'piplus': {}}},\n",
       " 'x': {'piplus': {'piplus': {}, 'piminus': {}, 'pi0': {}},\n",
       "  'piminus': {'pi0': {}, 'piminus': {}}},\n",
       " 'xF': {'piminus': {'piminus': {}, 'pi0': {}},\n",
       "  'piplus': {'piminus': {}, 'piplus': {}, 'pi0': {}}},\n",
       " 'Mx': {'piplus': {'piminus': {}, 'piplus': {}, 'pi0': {}},\n",
       "  'piminus': {'piminus': {}, 'pi0': {}}},\n",
       " 'Mh': {'piplus': {'piplus': {}, 'pi0': {}, 'piminus': {}},\n",
       "  'piminus': {'piminus': {}, 'pi0': {}}},\n",
       " 'pTtot': {'piplus': {'piplus': {}, 'pi0': {}, 'piminus': {}},\n",
       "  'piminus': {'pi0': {}, 'piminus': {}}}}"
      ]
     },
     "metadata": {},
     "output_type": "display_data"
    }
   ],
   "source": [
    "def convert_headers_to_lists(data_dict):\n",
    "    for key, value in data_dict.items():\n",
    "        if isinstance(value, dict):\n",
    "            convert_headers_to_lists(value)\n",
    "        else:\n",
    "            # Check if the value is a list of strings\n",
    "            print(\"H\")\n",
    "            if len(value) == 0:\n",
    "                # Empty list, remove it from the dictionary\n",
    "                del data_dict[key]\n",
    "            elif len(value) == 1:\n",
    "                # Only one element, replace the key with the single element\n",
    "                data_dict[key] = value[0]\n",
    "            else:\n",
    "                # Multiple elements, replace the key with the list\n",
    "                data_dict[key] = value\n",
    "convert_headers_to_lists(result)\n",
    "display(result)"
   ]
  },
  {
   "cell_type": "code",
   "execution_count": 21,
   "id": "independent-going",
   "metadata": {},
   "outputs": [
    {
     "ename": "FileNotFoundError",
     "evalue": "[Errno 2] No such file or directory: '<built-in function dir>/asym.tex'",
     "output_type": "error",
     "traceback": [
      "\u001b[0;31m---------------------------------------------------------------------------\u001b[0m",
      "\u001b[0;31mFileNotFoundError\u001b[0m                         Traceback (most recent call last)",
      "\u001b[0;32m<ipython-input-21-b1239dc6e71b>\u001b[0m in \u001b[0;36m<module>\u001b[0;34m\u001b[0m\n\u001b[1;32m     14\u001b[0m \u001b[0;31m# Generate LaTeX file\u001b[0m\u001b[0;34m\u001b[0m\u001b[0;34m\u001b[0m\u001b[0;34m\u001b[0m\u001b[0m\n\u001b[1;32m     15\u001b[0m \u001b[0mlatex_file\u001b[0m \u001b[0;34m=\u001b[0m \u001b[0;34mf\"{dir}/asym.tex\"\u001b[0m\u001b[0;34m\u001b[0m\u001b[0;34m\u001b[0m\u001b[0m\n\u001b[0;32m---> 16\u001b[0;31m \u001b[0;32mwith\u001b[0m \u001b[0mopen\u001b[0m\u001b[0;34m(\u001b[0m\u001b[0mlatex_file\u001b[0m\u001b[0;34m,\u001b[0m \u001b[0;34m\"w\"\u001b[0m\u001b[0;34m)\u001b[0m \u001b[0;32mas\u001b[0m \u001b[0mf\u001b[0m\u001b[0;34m:\u001b[0m\u001b[0;34m\u001b[0m\u001b[0;34m\u001b[0m\u001b[0m\n\u001b[0m\u001b[1;32m     17\u001b[0m     \u001b[0mf\u001b[0m\u001b[0;34m.\u001b[0m\u001b[0mwrite\u001b[0m\u001b[0;34m(\u001b[0m\u001b[0;34m\"\\\\documentclass{article}\\n\"\u001b[0m\u001b[0;34m)\u001b[0m\u001b[0;34m\u001b[0m\u001b[0;34m\u001b[0m\u001b[0m\n\u001b[1;32m     18\u001b[0m     \u001b[0mf\u001b[0m\u001b[0;34m.\u001b[0m\u001b[0mwrite\u001b[0m\u001b[0;34m(\u001b[0m\u001b[0;34m\"\\\\usepackage{graphicx}\\n\"\u001b[0m\u001b[0;34m)\u001b[0m\u001b[0;34m\u001b[0m\u001b[0;34m\u001b[0m\u001b[0m\n",
      "\u001b[0;31mFileNotFoundError\u001b[0m: [Errno 2] No such file or directory: '<built-in function dir>/asym.tex'"
     ]
    }
   ],
   "source": [
    "\n",
    "# Generate LaTeX file\n",
    "latex_file = f\"{filedir}/{latex_out}\"\n",
    "with open(latex_file, \"w\") as f:\n",
    "    f.write(\"\\\\documentclass{article}\\n\")\n",
    "    f.write(\"\\\\usepackage{graphicx}\\n\")\n",
    "    f.write(\"\\\\usepackage{geometry}\\n\")\n",
    "    f.write(\"\\\\usepackage{fancyhdr}\\n\")\n",
    "    f.write(\"\\\\geometry{margin=1cm}\\n\") # Set the margin to 1 cm\n",
    "    f.write(\"\\\\usepackage{subcaption}\\n\")\n",
    "    f.write(\"\\\\usepackage[font=large]{caption}\\n\") # Set the caption font size to large\n",
    "    f.write(\"\\\\begin{document}\\n\")\n",
    "    f.write(\"\\\\pagestyle{fancy}\\n\")\n",
    "    f.write(\"\\\\fancyhf{}\\n\")\n",
    "    f.write(\"\\\\fancyhead[L]{\\\\leftmark\\\\,\\\\,\\\\,\\\\,\\\\rightmark}\\n\")\n",
    "    f.write(\"\\\\fancyhead[R]{\\\\thepage}\\n\")\n",
    "    # Add a table of contents\n",
    "    f.write(\"\\\\tableofcontents\\n\")\n",
    "    for binvar, file_list in groups.items():\n",
    "        f.write(f\"\\\\section{{{binvar}}}\\n\")\n",
    "        for channel, file in file_list:\n",
    "            CHANNEL = channel.replace(\"piplus\", \"$\\\\pi^{+}$\").replace(\"piminus\", \"$\\\\pi^{-}$\").replace(\"pi0\", \"$\\\\pi^{0}$\").replace(\"_\", \"\")\n",
    "            f.write(\"\\\\begin{figure}[h!]\\n\")\n",
    "            f.write(\"\\\\centering\\n\")\n",
    "            f.write(f\"\\\\includegraphics[width=0.95\\\\textwidth]{{{Path(dir) / file}}}\\n\")\n",
    "            f.write(f\"\\\\caption{{{CHANNEL}, RGA, RGB comparison BINVAR = {binvar}}}\\n\")\n",
    "            f.write(\"\\\\end{figure}\\n\")\n",
    "        f.write(\"\\\\clearpage\\n\")\n",
    "\n",
    "    f.write(\"\\\\end{document}\\n\")\n",
    "\n",
    "print(f\"LaTeX file '{latex_file}' has been generated.\")\n",
    "\n",
    "# Save the current working directory\n",
    "cwd = os.getcwd()\n",
    "\n",
    "# Change the current working directory to the LaTeX directory\n",
    "os.chdir(latex_dirname)\n",
    "\n",
    "# Compile the LaTeX file into a PDF\n",
    "os.system(f\"pdflatex {latex_file}\")\n",
    "os.system(f\"pdflatex {latex_file}\")\n",
    "\n",
    "# Change the current working directory back to the original\n",
    "os.chdir(cwd)"
   ]
  },
  {
   "cell_type": "code",
   "execution_count": 3,
   "id": "weekly-march",
   "metadata": {},
   "outputs": [],
   "source": []
  },
  {
   "cell_type": "code",
   "execution_count": null,
   "id": "dangerous-greeting",
   "metadata": {},
   "outputs": [],
   "source": []
  }
 ],
 "metadata": {
  "kernelspec": {
   "display_name": "Python 3",
   "language": "python",
   "name": "python3"
  },
  "language_info": {
   "codemirror_mode": {
    "name": "ipython",
    "version": 3
   },
   "file_extension": ".py",
   "mimetype": "text/x-python",
   "name": "python",
   "nbconvert_exporter": "python",
   "pygments_lexer": "ipython3",
   "version": "3.8.6"
  }
 },
 "nbformat": 4,
 "nbformat_minor": 5
}

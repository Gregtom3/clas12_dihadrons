{
 "cells": [
  {
   "cell_type": "code",
   "execution_count": 1,
   "id": "owned-midwest",
   "metadata": {},
   "outputs": [],
   "source": [
    "TLorentzVector *q = new TLorentzVector();"
   ]
  },
  {
   "cell_type": "code",
   "execution_count": 5,
   "id": "running-bosnia",
   "metadata": {},
   "outputs": [
    {
     "name": "stdout",
     "output_type": "stream",
     "text": [
      "(double) 0.0000000\n"
     ]
    }
   ],
   "source": [
    "(*q) * (*q)"
   ]
  },
  {
   "cell_type": "code",
   "execution_count": null,
   "id": "serious-sculpture",
   "metadata": {},
   "outputs": [],
   "source": []
  }
 ],
 "metadata": {
  "kernelspec": {
   "display_name": "ROOT C++",
   "language": "c++",
   "name": "root"
  },
  "language_info": {
   "codemirror_mode": "text/x-c++src",
   "file_extension": ".C",
   "mimetype": " text/x-c++src",
   "name": "c++"
  }
 },
 "nbformat": 4,
 "nbformat_minor": 5
}

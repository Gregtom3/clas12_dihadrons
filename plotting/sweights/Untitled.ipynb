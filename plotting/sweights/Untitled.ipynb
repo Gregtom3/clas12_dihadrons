{
 "cells": [
  {
   "cell_type": "code",
   "execution_count": 1,
   "id": "narrative-adoption",
   "metadata": {},
   "outputs": [
    {
     "name": "stdout",
     "output_type": "stream",
     "text": [
      "\n",
      "\u001b[1mRooFit v3.60 -- Developed by Wouter Verkerke and David Kirkby\u001b[0m \n",
      "                Copyright (C) 2000-2013 NIKHEF, University of California & Stanford University\n",
      "                All rights reserved, please read http://roofit.sourceforge.net/license.txt\n",
      "\n",
      "[#1] INFO:DataHandling -- RooTreeDataStore::loadValues(data) Skipping event #4 because M2 cannot accommodate the value 0.550296\n",
      "[#1] INFO:DataHandling -- RooTreeDataStore::loadValues(data) Skipping event #10 because M2 cannot accommodate the value 0.694259\n",
      "[#1] INFO:DataHandling -- RooTreeDataStore::loadValues(data) Skipping event #12 because M2 cannot accommodate the value 0.660196\n",
      "[#1] INFO:DataHandling -- RooTreeDataStore::loadValues(data) Skipping event #13 because M2 cannot accommodate the value 0.421362\n",
      "[#1] INFO:DataHandling -- RooTreeDataStore::loadValues(data) Skipping ...\n",
      "[#0] WARNING:DataHandling -- RooTreeDataStore::loadValues(data) Ignored 4619 out-of-range events\n"
     ]
    }
   ],
   "source": [
    "TFile* file = TFile::Open(\"/volatile/clas12/users/gmat/clas12analysis.sidis.data/clas12_dihadrons/projects/pipi0_paper_RGA_only/data/piplus_pi0/nSidis_RGA_5036.root\");\n",
    "TTree* tree = (TTree*)file->Get(\"dihadron_cuts\");\n",
    "\n",
    "RooRealVar M2(\"M2\", \"M2\", 0.06, 0.3);\n",
    "RooRealVar Mh(\"Mh\", \"Mh\", 0, 200);\n",
    "\n",
    "RooDataSet data(\"data\", \"dataset from tree\", tree, RooArgSet(M2, Mh));\n",
    "\n",
    "RooRealVar mean(\"mean\", \"Mean of Gaussian\", 0.135, 0.06, 0.3);\n",
    "RooRealVar sigma(\"sigma\", \"Width of Gaussian\", 0.05, 0.01, 0.2);\n",
    "RooGaussian gauss(\"gauss\",\"Signal component 1\",M2,mean,sigma);\n",
    "\n",
    "RooRealVar a0(\"a0\", \"a0\", -0.1, -1, 1);\n",
    "RooRealVar a1(\"a1\", \"a1\", 0.004, -1, 1);\n",
    "RooRealVar a2(\"a2\", \"a2\", 0.0001, -1, 1);\n",
    "RooPolynomial background(\"background\", \"Background 2nd order polynomial\", M2, RooArgList(a0, a1, a2));\n",
    "\n",
    "RooRealVar nsignal(\"nsignal\", \"signal yield\", tree->GetEntries()/2, 0, tree->GetEntries());\n",
    "RooRealVar nbackground(\"nbackground\", \"background yield\", tree->GetEntries()/2, 0, tree->GetEntries());\n",
    "RooAddPdf model(\"model\", \"g+b\", RooArgList(gauss, background), RooArgList(nsignal, nbackground));"
   ]
  },
  {
   "cell_type": "code",
   "execution_count": null,
   "id": "played-relaxation",
   "metadata": {},
   "outputs": [],
   "source": [
    "model.fitTo(data, RooFit::PrintLevel(3));"
   ]
  },
  {
   "cell_type": "code",
   "execution_count": null,
   "id": "electronic-feeling",
   "metadata": {},
   "outputs": [],
   "source": []
  }
 ],
 "metadata": {
  "kernelspec": {
   "display_name": "ROOT C++",
   "language": "c++",
   "name": "root"
  },
  "language_info": {
   "codemirror_mode": "text/x-c++src",
   "file_extension": ".C",
   "mimetype": " text/x-c++src",
   "name": "c++"
  }
 },
 "nbformat": 4,
 "nbformat_minor": 5
}

{
 "cells": [
  {
   "cell_type": "code",
   "execution_count": 1,
   "id": "joint-explorer",
   "metadata": {},
   "outputs": [
    {
     "name": "stdout",
     "output_type": "stream",
     "text": [
      "Welcome to JupyROOT 6.22/06\n"
     ]
    },
    {
     "name": "stderr",
     "output_type": "stream",
     "text": [
      "/opt/root/lib/ROOT/_facade.py:121: UserWarning: Pandas requires version '2.7.3' or newer of 'numexpr' (version '2.7.2' currently installed).\n",
      "  return _orig_ihook(name, *args, **kwds)\n",
      "Matplotlib created a temporary config/cache directory at /tmp/matplotlib-pjgd6i9h because the default path (/home/jovyan/.cache/matplotlib) is not a writable directory; it is highly recommended to set the MPLCONFIGDIR environment variable to a writable directory, in particular to speed up the import of Matplotlib and to better support multiprocessing.\n"
     ]
    }
   ],
   "source": [
    "import ROOT\n",
    "from tqdm import tqdm\n",
    "import pandas as pd\n",
    "%run ../../utils/helper.ipynb"
   ]
  },
  {
   "cell_type": "code",
   "execution_count": 38,
   "id": "defensive-competition",
   "metadata": {},
   "outputs": [],
   "source": [
    "channels=[\"piplus_piplus\",\"piplus_piminus\",\"piminus_piminus\",\"piplus_pi0\",\"pi0_pi0\",\"piminus_pi0\"]\n",
    "versions=[\"Fall2018_RGA_inbending\",\"Fall2018_RGA_outbending\",\"Spring2019_RGA_inbending\",\"MC_RGA_inbending\",\"MC_RGA_outbending\"]\n",
    "_channels=[\"$\"+c.replace(\"_\",\"\").replace(\"piplus\",\"\\pi^{+}\").replace(\"piminus\",\"\\pi^{-}\").replace(\"pi0\",\"\\pi^{0}\")+\"$\" for c in channels]\n",
    "_versions=[\"Fall 2018 RG-A Inbending\", \"Fall 2018 RG-A Outbending\",\"Spring 2019 RG-A Inbending\", \"MC RG-A Inbending\",\"MC RG-A Outbending\"]\n",
    "cuts=[\"v6\",\"v3\",\"v6\",\"v4\",\"v1\",\"v7\"]"
   ]
  },
  {
   "cell_type": "code",
   "execution_count": 39,
   "id": "conditional-yacht",
   "metadata": {},
   "outputs": [],
   "source": [
    "def get_MC_cut(channel):\n",
    "    if(channel==\"piplus_piminus\"):\n",
    "        return \"truepid_1==211&&truepid_2==-211\"\n",
    "    elif(channel==\"piplus_piplus\"):\n",
    "        return \"truepid_1==211&&truepid_2==211\"\n",
    "    elif(channel==\"piplus_pi0\"):\n",
    "        return \"truepid_1==211&&trueparentpid_2==111\"\n",
    "    elif(channel==\"piminus_pi0\"):\n",
    "        return \"truepid_1==-211&&trueparentpid_2==111\"\n",
    "    elif(channel==\"pi0_pi0\"):\n",
    "        return \"trueparentpid_1==111&&trueparentpid_2==111\"\n",
    "    elif(channel==\"piminus_piminus\"):\n",
    "        return \"truepid_1==-211&&truepid_2==-211\""
   ]
  },
  {
   "cell_type": "code",
   "execution_count": 40,
   "id": "beneficial-invasion",
   "metadata": {},
   "outputs": [],
   "source": [
    "def get_my_cuts(channel,flag,cut_name):\n",
    "    \n",
    "    ML_cuts=[]\n",
    "    for p in pars:\n",
    "        if(\"p_\" in p):\n",
    "            ML_cuts.append(f\"{p}>0.9\")\n",
    "\n",
    "    Trad_cuts=[\"isGoodEventWithoutML==1\"]\n",
    "\n",
    "    Base_cuts=[]\n",
    "    if(\"pi0\" in channel):\n",
    "        ML_cuts.append(\"M2>0.106&&M2<0.164\")\n",
    "        Trad_cuts.append(\"M2>0.106&&M2<0.164\")\n",
    "        Base_cuts.append(\"M2>0.106&&M2<0.164\")\n",
    "        if(\"pi0_pi0\" in channel):\n",
    "            ML_cuts.append(\"M1>0.106&&M1<0.164\")\n",
    "            Trad_cuts.append(\"M1>0.106&&M1<0.164\")\n",
    "            Base_cuts.append(\"M1>0.106&&M1<0.164\")\n",
    "    \n",
    "    _v,_lo,_hi,_ = get_cuts(channel,cut_name)\n",
    "    for v,lo,hi in zip(_v,_lo,_hi):\n",
    "        if(\"p_\" in v):\n",
    "            continue\n",
    "        ML_cuts.append(f\"{v}>{lo}&&{v}<{hi}\")\n",
    "        Trad_cuts.append(f\"{v}>{lo}&&{v}<{hi}\")\n",
    "        Base_cuts.append(f\"{v}>{lo}&&{v}<{hi}\")\n",
    "        \n",
    "    if(flag==\"true\"):\n",
    "        ML_cuts.append(get_MC_cut(channel))\n",
    "        Trad_cuts.append(get_MC_cut(channel))\n",
    "        Base_cuts.append(get_MC_cut(channel))\n",
    "    elif(flag==\"false\"):\n",
    "        ML_cuts.append(\"!(\"+get_MC_cut(channel)+\")\")\n",
    "        Trad_cuts.append(\"!(\"+get_MC_cut(channel)+\")\")\n",
    "        Base_cuts.append(\"!(\"+get_MC_cut(channel)+\")\")\n",
    "\n",
    "    ML_cuts=\"&&\".join(ML_cuts)\n",
    "    Trad_cuts=\"&&\".join(Trad_cuts)\n",
    "    Base_cuts=\"&&\".join(Base_cuts)\n",
    "\n",
    "    return ML_cuts,Trad_cuts,Base_cuts"
   ]
  },
  {
   "cell_type": "code",
   "execution_count": 41,
   "id": "corporate-import",
   "metadata": {},
   "outputs": [
    {
     "name": "stderr",
     "output_type": "stream",
     "text": [
      "6it [04:46, 47.74s/it]\n",
      "6it [17:51, 178.57s/it]\n",
      "6it [09:32, 95.39s/it] \n",
      "6it [15:09, 151.53s/it]\n",
      "6it [11:30, 115.02s/it]\n"
     ]
    }
   ],
   "source": [
    "data = []\n",
    "for v,_v in zip(versions,_versions):\n",
    "    for cut,c,_c in tqdm(zip(cuts,channels,_channels)):\n",
    "        root_file = \"../../projects/ana_v2/volatile/data/\"+c+f\"/{v}_merged.root\"\n",
    "        file = ROOT.TFile(root_file)\n",
    "        tree = file.Get(\"dihadron\")\n",
    "        \n",
    "        if(\"MC\" in v):\n",
    "            for flag in [\"\",\"true\",\"false\"]:\n",
    "                ML_cuts,Trad_cuts,Base_cuts = get_my_cuts(c,flag,cut)\n",
    "                data.append({\"version\": _v+\" \"+flag+\" pid\", \"channel\": _c, \"entries\": tree.GetEntries(Base_cuts), \"Egcut_entries\": tree.GetEntries(Trad_cuts), \"ML_entries\": tree.GetEntries(ML_cuts)})\n",
    "        else:\n",
    "            ML_cuts,Trad_cuts,Base_cuts = get_my_cuts(c,\"\",cut)\n",
    "            data.append({\"version\": _v, \"channel\": _c, \"entries\": tree.GetEntries(Base_cuts), \"Egcut_entries\": tree.GetEntries(Trad_cuts), \"ML_entries\": tree.GetEntries(ML_cuts)})"
   ]
  },
  {
   "cell_type": "code",
   "execution_count": 42,
   "id": "psychological-firmware",
   "metadata": {},
   "outputs": [],
   "source": [
    "df = pd.DataFrame(data)"
   ]
  },
  {
   "cell_type": "code",
   "execution_count": 43,
   "id": "optional-stanley",
   "metadata": {},
   "outputs": [
    {
     "data": {
      "text/plain": [
       "0"
      ]
     },
     "execution_count": 43,
     "metadata": {},
     "output_type": "execute_result"
    },
    {
     "name": "stdout",
     "output_type": "stream",
     "text": [
      "This is pdfTeX, Version 3.14159265-2.6-1.40.20 (TeX Live 2019/Debian) (preloaded format=pdflatex)\n",
      " restricted \\write18 enabled.\n",
      "entering extended mode\n",
      "(./dihadron_counts_tables_2.tex\n",
      "LaTeX2e <2020-02-02> patch level 2\n",
      "L3 programming layer <2020-02-14>\n",
      "(/usr/share/texlive/texmf-dist/tex/latex/base/article.cls\n",
      "Document Class: article 2019/12/20 v1.4l Standard LaTeX document class\n",
      "(/usr/share/texlive/texmf-dist/tex/latex/base/size10.clo))\n",
      "(/usr/share/texlive/texmf-dist/tex/latex/xcolor/xcolor.sty\n",
      "(/usr/share/texlive/texmf-dist/tex/latex/graphics-cfg/color.cfg)\n",
      "(/usr/share/texlive/texmf-dist/tex/latex/graphics-def/pdftex.def)\n",
      "(/usr/share/texlive/texmf-dist/tex/latex/colortbl/colortbl.sty\n",
      "(/usr/share/texlive/texmf-dist/tex/latex/tools/array.sty)))\n",
      "(/usr/share/texlive/texmf-dist/tex/latex/geometry/geometry.sty\n",
      "(/usr/share/texlive/texmf-dist/tex/latex/graphics/keyval.sty)\n",
      "(/usr/share/texlive/texmf-dist/tex/generic/iftex/ifvtex.sty\n",
      "(/usr/share/texlive/texmf-dist/tex/generic/iftex/iftex.sty)))\n",
      "(/usr/share/texlive/texmf-dist/tex/latex/l3backend/l3backend-pdfmode.def)\n",
      "(./dihadron_counts_tables_2.aux)\n",
      "(/usr/share/texlive/texmf-dist/tex/context/base/mkii/supp-pdf.mkii\n",
      "[Loading MPS to PDF converter (version 2006.09.02).]\n",
      ")\n",
      "*geometry* driver: auto-detecting\n",
      "*geometry* detected driver: pdftex\n",
      "[1{/var/lib/texmf/fonts/map/pdftex/updmap/pdftex.map}] [2]\n",
      "(./dihadron_counts_tables_2.aux) )</usr/share/texlive/texmf-dist/fonts/type1/pu\n",
      "blic/amsfonts/cm/cmbx12.pfb></usr/share/texlive/texmf-dist/fonts/type1/public/a\n",
      "msfonts/cm/cmmi10.pfb></usr/share/texlive/texmf-dist/fonts/type1/public/amsfont\n",
      "s/cm/cmr10.pfb></usr/share/texlive/texmf-dist/fonts/type1/public/amsfonts/cm/cm\n",
      "r7.pfb></usr/share/texlive/texmf-dist/fonts/type1/public/amsfonts/cm/cmsy7.pfb>\n",
      "Output written on dihadron_counts_tables_2.pdf (2 pages, 58624 bytes).\n",
      "Transcript written on dihadron_counts_tables_2.log.\n"
     ]
    }
   ],
   "source": [
    "# Define alternating colors for table rows\n",
    "color1 = \"blue!10\"\n",
    "color2 = \"blue!20\"\n",
    "\n",
    "# Group DataFrame by version\n",
    "grouped = df.groupby(\"version\")\n",
    "\n",
    "# Write LaTeX tables to file\n",
    "with open(\"dihadron_counts_tables_2.tex\", \"w\") as f:\n",
    "    f.write(\"\\\\documentclass{article}\\n\")\n",
    "    f.write(\"\\\\usepackage[table]{xcolor}\\n\")\n",
    "    f.write(\"\\\\usepackage[margin=1in]{geometry}\\n\")\n",
    "    f.write(\"\\\\begin{document}\\n\")\n",
    "\n",
    "    for version, group in grouped:\n",
    "        # Create list of colors for each row\n",
    "        colors = [color1, color2] * ((len(group) // 2) + 1)\n",
    "\n",
    "        # Write LaTeX table code to file\n",
    "        f.write(f\"\\\\section*{{{version}}}\\n\")\n",
    "        f.write(\"\\\\begin{center}\\n\")\n",
    "        f.write(\"\\\\begin{tabular}{ccccc}\\n\")\n",
    "        f.write(\"\\\\hline\\n\")\n",
    "        f.write(\"Version & Channel & Total Entries & Legacy Entries & ML Entries \\\\\\\\\\n\")\n",
    "        f.write(\"\\\\hline\\n\")\n",
    "        for i, row in group.iterrows():\n",
    "            color = colors[i % len(colors)]\n",
    "            f.write(\"\\\\cellcolor{\" + color + \"}\" + str(row[\"version\"]) + \" & \")\n",
    "            f.write(\"\\\\cellcolor{\" + color + \"}\" + str(row[\"channel\"]) + \" & \")\n",
    "            entries_str = \"{:.1f}M\".format(row[\"entries\"] / 1e6) if row[\"entries\"] >= 1e6 else \"{:.1f}K\".format(row[\"entries\"] / 1e3)\n",
    "            f.write(\"\\\\cellcolor{\" + color + \"}\" + entries_str + \" & \")\n",
    "            Eg_entries_str = \"{:.1f}M\".format(row[\"Egcut_entries\"] / 1e6) if row[\"Egcut_entries\"] >= 1e6 else \"{:.1f}K\".format(row[\"Egcut_entries\"] / 1e3)\n",
    "            f.write(\"\\\\cellcolor{\" + color + \"}\" + (Eg_entries_str if \"0\" in row[\"channel\"] else \"---\") + \" & \")\n",
    "            ml_entries_str = \"{:.1f}M\".format(row[\"ML_entries\"] / 1e6) if row[\"ML_entries\"] >= 1e6 else \"{:.1f}K\".format(row[\"ML_entries\"] / 1e3)\n",
    "            f.write(\"\\\\cellcolor{\" + color + \"}\" + (ml_entries_str if \"0\" in row[\"channel\"] else \"---\") + \" \\\\\\\\\\n\")\n",
    "            f.write(\"\\\\hline\\n\")\n",
    "        \n",
    "        f.write(\"\\\\end{tabular}\\n\")\n",
    "        f.write(\"\\\\end{center}\\n\")\n",
    "\n",
    "    f.write(\"\\\\end{document}\\n\")\n",
    "\n",
    "# Convert LaTeX file to PDF using pdflatex\n",
    "import os\n",
    "os.system(\"pdflatex dihadron_counts_tables_2.tex\")"
   ]
  },
  {
   "cell_type": "markdown",
   "id": "living-ecology",
   "metadata": {},
   "source": [
    "# Comparing EventTree\n",
    "---"
   ]
  },
  {
   "cell_type": "code",
   "execution_count": 4,
   "id": "offensive-people",
   "metadata": {},
   "outputs": [],
   "source": [
    "import ROOT\n",
    "import numpy as np"
   ]
  },
  {
   "cell_type": "code",
   "execution_count": 9,
   "id": "intensive-raleigh",
   "metadata": {},
   "outputs": [],
   "source": [
    "def get_n_dihadrons(runNumber=None,file_name=None):\n",
    "    if(runNumber!=None):\n",
    "        file = ROOT.TFile(f\"../../projects/ana_v1/volatile/data/piplus_piminus/nSidis_RGA_{runNumber}.root\")\n",
    "    elif(file_name!=None):\n",
    "        file = ROOT.TFile(file_name)\n",
    "    tree = file.Get(\"EventTree\")\n",
    "    N=tree.GetEntries()\n",
    "    Npiplus=0\n",
    "    Npiminus=0\n",
    "    Ndihadrons=0\n",
    "    for i,iev in enumerate(tree):\n",
    "        pid=np.array(iev.pid)\n",
    "        piplus_mask = pid == 211\n",
    "        piminus_mask = pid == -211\n",
    "        _nplus = np.count_nonzero(piplus_mask)\n",
    "        _nminus = np.count_nonzero(piminus_mask)\n",
    "        Npiplus += _nplus\n",
    "        Npiminus += _nminus\n",
    "        Ndihadrons += _nplus*_nminus\n",
    "    print(\"Number of Events:\",N)\n",
    "    print(\"Number of Piplus:\",Npiplus)\n",
    "    print(\"Number of Piminus:\",Npiminus)\n",
    "    print(\"Number of Dihadrons:\",Ndihadrons)\n",
    "    print(\"Dihadrons per event:\",np.round(Ndihadrons/N,2))"
   ]
  },
  {
   "cell_type": "code",
   "execution_count": 36,
   "id": "operating-electricity",
   "metadata": {},
   "outputs": [
    {
     "name": "stdout",
     "output_type": "stream",
     "text": [
      "Number of Events: 41747\n",
      "Number of Piplus: 47065\n",
      "Number of Piminus: 42633\n",
      "Number of Dihadrons: 48135\n",
      "Dihadrons per event: 1.15\n"
     ]
    }
   ],
   "source": [
    "get_n_dihadrons(5036)\n",
    "N_5036=43208697"
   ]
  },
  {
   "cell_type": "code",
   "execution_count": 34,
   "id": "starting-consent",
   "metadata": {},
   "outputs": [
    {
     "name": "stdout",
     "output_type": "stream",
     "text": [
      "0.0009661712316851397\n"
     ]
    }
   ],
   "source": [
    "print(41747/N_5036)"
   ]
  },
  {
   "cell_type": "code",
   "execution_count": 20,
   "id": "forced-movement",
   "metadata": {},
   "outputs": [
    {
     "name": "stdout",
     "output_type": "stream",
     "text": [
      "Number of Events: 238240\n",
      "Number of Piplus: 249913\n",
      "Number of Piminus: 251574\n",
      "Number of Dihadrons: 264286\n",
      "Dihadrons per event: 1.11\n"
     ]
    }
   ],
   "source": [
    "get_n_dihadrons(5556)\n",
    "N_5556=112105269"
   ]
  },
  {
   "cell_type": "code",
   "execution_count": 35,
   "id": "educational-willow",
   "metadata": {},
   "outputs": [
    {
     "name": "stdout",
     "output_type": "stream",
     "text": [
      "0.0021251454291590878\n"
     ]
    }
   ],
   "source": [
    "print(238240/N_5556)"
   ]
  },
  {
   "cell_type": "markdown",
   "id": "distinct-answer",
   "metadata": {},
   "source": [
    "---"
   ]
  },
  {
   "cell_type": "code",
   "execution_count": 12,
   "id": "immune-contact",
   "metadata": {},
   "outputs": [
    {
     "name": "stdout",
     "output_type": "stream",
     "text": [
      "Number of Events: 76192\n",
      "Number of Piplus: 85071\n",
      "Number of Piminus: 77636\n",
      "Number of Dihadrons: 86768\n",
      "Dihadrons per event: 1.14\n"
     ]
    }
   ],
   "source": [
    "get_n_dihadrons(file_name=\"../../macros/hipo2tree_5354.root\")"
   ]
  },
  {
   "cell_type": "code",
   "execution_count": 13,
   "id": "lucky-sector",
   "metadata": {},
   "outputs": [
    {
     "name": "stdout",
     "output_type": "stream",
     "text": [
      "Number of Events: 216597\n",
      "Number of Piplus: 227307\n",
      "Number of Piminus: 228904\n",
      "Number of Dihadrons: 240624\n",
      "Dihadrons per event: 1.11\n"
     ]
    }
   ],
   "source": [
    "get_n_dihadrons(file_name=\"../../macros/hipo2tree_5649.root\")"
   ]
  },
  {
   "cell_type": "markdown",
   "id": "intellectual-satin",
   "metadata": {},
   "source": [
    "---"
   ]
  },
  {
   "cell_type": "code",
   "execution_count": 31,
   "id": "hindu-september",
   "metadata": {},
   "outputs": [],
   "source": [
    "import sys\n",
    "sys.path.append(\"/work/clas12/users/gmat/packages/clas12root/rcdb/python/\")\n",
    "import rcdb\n",
    "# Import necessary modules\n",
    "import os\n",
    "import re\n",
    "from tqdm import tqdm\n",
    "from rcdb.provider import RCDBProvider\n",
    "from rcdb.model import ConditionType\n",
    "\n",
    "db = RCDBProvider(\"mysql://rcdb@clasdb/rcdb\")"
   ]
  },
  {
   "cell_type": "code",
   "execution_count": 37,
   "id": "photographic-router",
   "metadata": {},
   "outputs": [],
   "source": [
    "def get_total_events_from_dir(directory):\n",
    "    files = os.listdir(directory)\n",
    "\n",
    "    run_numbers = []\n",
    "    run_events = []\n",
    "    for filename in tqdm(files):\n",
    "        if \"nSidis_00\" in filename and filename.endswith(\".hipo\"):\n",
    "            run_number = int(filename.split(\"nSidis_00\")[1][:4])\n",
    "            run_numbers.append(run_number)\n",
    "            run_events.append(get_events_from_run(run_number))\n",
    "    print(\"Nfiles =\",len(run_numbers))\n",
    "    print(\"Total Events = {:.3e}\".format(np.sum(run_events)))\n",
    "    return run_numbers,run_events"
   ]
  },
  {
   "cell_type": "code",
   "execution_count": 38,
   "id": "convertible-mandate",
   "metadata": {},
   "outputs": [],
   "source": [
    "def get_events_from_run(run):\n",
    "    DB = db.get_run(run)\n",
    "    return DB.get_condition(\"event_count\").value"
   ]
  },
  {
   "cell_type": "code",
   "execution_count": 39,
   "id": "final-mexican",
   "metadata": {},
   "outputs": [],
   "source": [
    "f18_inbending_dir = \"/cache/clas12/rg-a/production/recon/fall2018/torus-1/pass1/v1/dst/train/nSidis/\"\n",
    "f18_outbending_dir = \"/cache/clas12/rg-a/production/recon/fall2018/torus+1/pass1/v1/dst/train/nSidis/\""
   ]
  },
  {
   "cell_type": "code",
   "execution_count": 40,
   "id": "dynamic-friendship",
   "metadata": {},
   "outputs": [
    {
     "name": "stderr",
     "output_type": "stream",
     "text": [
      "100%|████████████████████████████████████████| 174/174 [00:03<00:00, 46.93it/s]\n"
     ]
    },
    {
     "name": "stdout",
     "output_type": "stream",
     "text": [
      "Nfiles = 174\n",
      "Total Events = 1.030e+10\n"
     ]
    }
   ],
   "source": [
    "rn_inb,re_inb=get_total_events_from_dir(f18_inbending_dir)"
   ]
  },
  {
   "cell_type": "code",
   "execution_count": 41,
   "id": "fixed-yahoo",
   "metadata": {},
   "outputs": [
    {
     "name": "stderr",
     "output_type": "stream",
     "text": [
      "100%|████████████████████████████████████████| 186/186 [00:04<00:00, 45.45it/s]\n"
     ]
    },
    {
     "name": "stdout",
     "output_type": "stream",
     "text": [
      "Nfiles = 186\n",
      "Total Events = 1.338e+10\n"
     ]
    }
   ],
   "source": [
    "rn_outb,re_outb=get_total_events_from_dir(f18_outbending_dir)"
   ]
  },
  {
   "cell_type": "code",
   "execution_count": 44,
   "id": "internal-recovery",
   "metadata": {},
   "outputs": [],
   "source": [
    "def find_closest(list1, list2):\n",
    "    min_diff = float('inf')\n",
    "    min_elem1 = None\n",
    "    min_elem2 = None\n",
    "    for elem1 in list1:\n",
    "        for elem2 in list2:\n",
    "            diff = abs(elem1 - elem2)\n",
    "            if diff < min_diff:\n",
    "                min_diff = diff\n",
    "                min_elem1 = elem1\n",
    "                min_elem2 = elem2\n",
    "    return list1.index(min_elem1)"
   ]
  },
  {
   "cell_type": "code",
   "execution_count": 47,
   "id": "powerful-philosophy",
   "metadata": {},
   "outputs": [
    {
     "name": "stdout",
     "output_type": "stream",
     "text": [
      "5354 5649\n"
     ]
    }
   ],
   "source": [
    "idx=find_closest(re_inb,re_outb)\n",
    "print(rn_inb[idx],rn_outb[idx])"
   ]
  },
  {
   "cell_type": "code",
   "execution_count": 48,
   "id": "worth-softball",
   "metadata": {},
   "outputs": [
    {
     "name": "stdout",
     "output_type": "stream",
     "text": [
      "Number of Events: 76187\n",
      "Number of Piplus: 85066\n",
      "Number of Piminus: 77631\n",
      "Number of Dihadrons: 86763\n",
      "Dihadrons per event: 1.14\n"
     ]
    }
   ],
   "source": [
    "get_n_dihadrons(5354)"
   ]
  },
  {
   "cell_type": "code",
   "execution_count": 50,
   "id": "blocked-november",
   "metadata": {},
   "outputs": [
    {
     "name": "stdout",
     "output_type": "stream",
     "text": [
      "100001531\n"
     ]
    }
   ],
   "source": [
    "print(re_inb[idx])"
   ]
  },
  {
   "cell_type": "code",
   "execution_count": 49,
   "id": "annual-appreciation",
   "metadata": {},
   "outputs": [
    {
     "name": "stdout",
     "output_type": "stream",
     "text": [
      "Number of Events: 216588\n",
      "Number of Piplus: 227298\n",
      "Number of Piminus: 228895\n",
      "Number of Dihadrons: 240615\n",
      "Dihadrons per event: 1.11\n"
     ]
    }
   ],
   "source": [
    "get_n_dihadrons(5649)"
   ]
  },
  {
   "cell_type": "code",
   "execution_count": 51,
   "id": "settled-identifier",
   "metadata": {},
   "outputs": [
    {
     "name": "stdout",
     "output_type": "stream",
     "text": [
      "100108833\n"
     ]
    }
   ],
   "source": [
    "print(re_outb[idx])"
   ]
  },
  {
   "cell_type": "markdown",
   "id": "bearing-jordan",
   "metadata": {},
   "source": [
    "---"
   ]
  },
  {
   "cell_type": "code",
   "execution_count": 4,
   "id": "infinite-awareness",
   "metadata": {},
   "outputs": [],
   "source": [
    "import hipopy.hipopy\n",
    "import numpy as np\n",
    "import ROOT\n",
    "from particle import Particle\n",
    "import matplotlib.pyplot as plt\n",
    "from tqdm import tqdm\n",
    "plt.style.use('science')\n",
    "plt.rcParams.update({\n",
    "    \"text.usetex\": True,\n",
    "    \"font.family\": \"Helvetica\"\n",
    "})"
   ]
  },
  {
   "cell_type": "code",
   "execution_count": 11,
   "id": "opposite-design",
   "metadata": {},
   "outputs": [],
   "source": [
    "def get_n_dihadrons_hipopy(file):\n",
    "    file = hipopy.hipopy.open(file,mode='r')\n",
    "    file.readBank('REC::Particle')\n",
    "    file.getNamesAndTypes('REC::Particle')\n",
    "    \n",
    "    Npiplus=0\n",
    "    Npiminus=0\n",
    "    Ndihadrons=0\n",
    "    N=0\n",
    "    for i,event in tqdm(enumerate(file)):\n",
    "        RECpid = np.array(file.getInts(\"REC::Particle\",\"pid\"))\n",
    "        if(np.sum(RECpid==11)==0):\n",
    "            continue\n",
    "        if(np.sum(RECpid==211)==0):\n",
    "            continue\n",
    "        if(np.sum(RECpid==-211)==0):\n",
    "            continue\n",
    "        n1=np.sum(RECpid==211)\n",
    "        n2=np.sum(RECpid==-211)\n",
    "        Npiplus+=n1\n",
    "        Npiminus+=n2\n",
    "        Ndihadrons+=(n1*n2)\n",
    "        N+=1\n",
    "    print(\"Number of Events:\",N)\n",
    "    print(\"Number of Piplus:\",Npiplus)\n",
    "    print(\"Number of Piminus:\",Npiminus)\n",
    "    print(\"Number of Dihadrons:\",Ndihadrons)\n",
    "    print(\"Dihadrons per event:\",np.round(Ndihadrons/N,2))"
   ]
  },
  {
   "cell_type": "code",
   "execution_count": 12,
   "id": "northern-magazine",
   "metadata": {},
   "outputs": [
    {
     "name": "stderr",
     "output_type": "stream",
     "text": [
      "693136it [53:41, 215.18it/s]\n"
     ]
    },
    {
     "ename": "KeyboardInterrupt",
     "evalue": "",
     "output_type": "error",
     "traceback": [
      "\u001b[0;31m---------------------------------------------------------------------------\u001b[0m",
      "\u001b[0;31mKeyboardInterrupt\u001b[0m                         Traceback (most recent call last)",
      "\u001b[0;32m<ipython-input-12-53d3195204b7>\u001b[0m in \u001b[0;36m<module>\u001b[0;34m\u001b[0m\n\u001b[0;32m----> 1\u001b[0;31m \u001b[0mget_n_dihadrons_hipopy\u001b[0m\u001b[0;34m(\u001b[0m\u001b[0;34m'/cache/clas12/rg-a/production/recon/fall2018/torus-1/pass1/v1/dst/train/nSidis/nSidis_005354.hipo'\u001b[0m\u001b[0;34m)\u001b[0m\u001b[0;34m\u001b[0m\u001b[0;34m\u001b[0m\u001b[0m\n\u001b[0m",
      "\u001b[0;32m<ipython-input-11-0f9d2a0eb055>\u001b[0m in \u001b[0;36mget_n_dihadrons_hipopy\u001b[0;34m(file)\u001b[0m\n\u001b[1;32m      8\u001b[0m     \u001b[0mNdihadrons\u001b[0m\u001b[0;34m=\u001b[0m\u001b[0;36m0\u001b[0m\u001b[0;34m\u001b[0m\u001b[0;34m\u001b[0m\u001b[0m\n\u001b[1;32m      9\u001b[0m     \u001b[0mN\u001b[0m\u001b[0;34m=\u001b[0m\u001b[0;36m0\u001b[0m\u001b[0;34m\u001b[0m\u001b[0;34m\u001b[0m\u001b[0m\n\u001b[0;32m---> 10\u001b[0;31m     \u001b[0;32mfor\u001b[0m \u001b[0mi\u001b[0m\u001b[0;34m,\u001b[0m\u001b[0mevent\u001b[0m \u001b[0;32min\u001b[0m \u001b[0mtqdm\u001b[0m\u001b[0;34m(\u001b[0m\u001b[0menumerate\u001b[0m\u001b[0;34m(\u001b[0m\u001b[0mfile\u001b[0m\u001b[0;34m)\u001b[0m\u001b[0;34m)\u001b[0m\u001b[0;34m:\u001b[0m\u001b[0;34m\u001b[0m\u001b[0;34m\u001b[0m\u001b[0m\n\u001b[0m\u001b[1;32m     11\u001b[0m         \u001b[0mRECpid\u001b[0m \u001b[0;34m=\u001b[0m \u001b[0mnp\u001b[0m\u001b[0;34m.\u001b[0m\u001b[0marray\u001b[0m\u001b[0;34m(\u001b[0m\u001b[0mfile\u001b[0m\u001b[0;34m.\u001b[0m\u001b[0mgetInts\u001b[0m\u001b[0;34m(\u001b[0m\u001b[0;34m\"REC::Particle\"\u001b[0m\u001b[0;34m,\u001b[0m\u001b[0;34m\"pid\"\u001b[0m\u001b[0;34m)\u001b[0m\u001b[0;34m)\u001b[0m\u001b[0;34m\u001b[0m\u001b[0;34m\u001b[0m\u001b[0m\n\u001b[1;32m     12\u001b[0m         \u001b[0;32mif\u001b[0m\u001b[0;34m(\u001b[0m\u001b[0mnp\u001b[0m\u001b[0;34m.\u001b[0m\u001b[0msum\u001b[0m\u001b[0;34m(\u001b[0m\u001b[0mRECpid\u001b[0m\u001b[0;34m==\u001b[0m\u001b[0;36m11\u001b[0m\u001b[0;34m)\u001b[0m\u001b[0;34m==\u001b[0m\u001b[0;36m0\u001b[0m\u001b[0;34m)\u001b[0m\u001b[0;34m:\u001b[0m\u001b[0;34m\u001b[0m\u001b[0;34m\u001b[0m\u001b[0m\n",
      "\u001b[0;32m~/.local/lib/python3.8/site-packages/tqdm/std.py\u001b[0m in \u001b[0;36m__iter__\u001b[0;34m(self)\u001b[0m\n\u001b[1;32m   1176\u001b[0m \u001b[0;34m\u001b[0m\u001b[0m\n\u001b[1;32m   1177\u001b[0m         \u001b[0;32mtry\u001b[0m\u001b[0;34m:\u001b[0m\u001b[0;34m\u001b[0m\u001b[0;34m\u001b[0m\u001b[0m\n\u001b[0;32m-> 1178\u001b[0;31m             \u001b[0;32mfor\u001b[0m \u001b[0mobj\u001b[0m \u001b[0;32min\u001b[0m \u001b[0miterable\u001b[0m\u001b[0;34m:\u001b[0m\u001b[0;34m\u001b[0m\u001b[0;34m\u001b[0m\u001b[0m\n\u001b[0m\u001b[1;32m   1179\u001b[0m                 \u001b[0;32myield\u001b[0m \u001b[0mobj\u001b[0m\u001b[0;34m\u001b[0m\u001b[0;34m\u001b[0m\u001b[0m\n\u001b[1;32m   1180\u001b[0m                 \u001b[0;31m# Update and possibly print the progressbar.\u001b[0m\u001b[0;34m\u001b[0m\u001b[0;34m\u001b[0m\u001b[0;34m\u001b[0m\u001b[0m\n",
      "\u001b[0;32m~/.local/lib/python3.8/site-packages/hipopy/hipopy.py\u001b[0m in \u001b[0;36m__next__\u001b[0;34m(self)\u001b[0m\n\u001b[1;32m    799\u001b[0m                 \u001b[0mself\u001b[0m\u001b[0;34m.\u001b[0m\u001b[0mhipofile\u001b[0m\u001b[0;34m.\u001b[0m\u001b[0mevent\u001b[0m\u001b[0;34m.\u001b[0m\u001b[0mgetStructure\u001b[0m\u001b[0;34m(\u001b[0m\u001b[0mself\u001b[0m\u001b[0;34m.\u001b[0m\u001b[0mhipofile\u001b[0m\u001b[0;34m.\u001b[0m\u001b[0mbanklist\u001b[0m\u001b[0;34m[\u001b[0m\u001b[0mbank\u001b[0m\u001b[0;34m]\u001b[0m\u001b[0;34m)\u001b[0m\u001b[0;31m#NOTE: NECESSARY OR YOU WILL NOT READ ANY DATA!\u001b[0m\u001b[0;34m\u001b[0m\u001b[0;34m\u001b[0m\u001b[0m\n\u001b[1;32m    800\u001b[0m                 \u001b[0;32mfor\u001b[0m \u001b[0mitem\u001b[0m \u001b[0;32min\u001b[0m \u001b[0mself\u001b[0m\u001b[0;34m.\u001b[0m\u001b[0mitems\u001b[0m\u001b[0;34m[\u001b[0m\u001b[0mbank\u001b[0m\u001b[0;34m]\u001b[0m\u001b[0;34m:\u001b[0m\u001b[0;34m\u001b[0m\u001b[0;34m\u001b[0m\u001b[0m\n\u001b[0;32m--> 801\u001b[0;31m                     \u001b[0mdata\u001b[0m \u001b[0;34m=\u001b[0m \u001b[0;34m[\u001b[0m\u001b[0;34m]\u001b[0m\u001b[0;34m\u001b[0m\u001b[0;34m\u001b[0m\u001b[0m\n\u001b[0m\u001b[1;32m    802\u001b[0m                     \u001b[0;32mif\u001b[0m   \u001b[0mself\u001b[0m\u001b[0;34m.\u001b[0m\u001b[0mitems\u001b[0m\u001b[0;34m[\u001b[0m\u001b[0mbank\u001b[0m\u001b[0;34m]\u001b[0m\u001b[0;34m[\u001b[0m\u001b[0mitem\u001b[0m\u001b[0;34m]\u001b[0m\u001b[0;34m==\u001b[0m\u001b[0;34m\"D\"\u001b[0m\u001b[0;34m:\u001b[0m \u001b[0mdata\u001b[0m \u001b[0;34m=\u001b[0m \u001b[0mself\u001b[0m\u001b[0;34m.\u001b[0m\u001b[0mhipofile\u001b[0m\u001b[0;34m.\u001b[0m\u001b[0mgetDoubles\u001b[0m\u001b[0;34m(\u001b[0m\u001b[0mbank\u001b[0m\u001b[0;34m,\u001b[0m\u001b[0mitem\u001b[0m\u001b[0;34m)\u001b[0m\u001b[0;34m\u001b[0m\u001b[0;34m\u001b[0m\u001b[0m\n\u001b[1;32m    803\u001b[0m                     \u001b[0;32melif\u001b[0m \u001b[0mself\u001b[0m\u001b[0;34m.\u001b[0m\u001b[0mitems\u001b[0m\u001b[0;34m[\u001b[0m\u001b[0mbank\u001b[0m\u001b[0;34m]\u001b[0m\u001b[0;34m[\u001b[0m\u001b[0mitem\u001b[0m\u001b[0;34m]\u001b[0m\u001b[0;34m==\u001b[0m\u001b[0;34m\"I\"\u001b[0m\u001b[0;34m:\u001b[0m \u001b[0mdata\u001b[0m \u001b[0;34m=\u001b[0m \u001b[0mself\u001b[0m\u001b[0;34m.\u001b[0m\u001b[0mhipofile\u001b[0m\u001b[0;34m.\u001b[0m\u001b[0mgetInts\u001b[0m\u001b[0;34m(\u001b[0m\u001b[0mbank\u001b[0m\u001b[0;34m,\u001b[0m\u001b[0mitem\u001b[0m\u001b[0;34m)\u001b[0m\u001b[0;34m\u001b[0m\u001b[0;34m\u001b[0m\u001b[0m\n",
      "\u001b[0;31mKeyboardInterrupt\u001b[0m: "
     ]
    },
    {
     "name": "stdout",
     "output_type": "stream",
     "text": [
      "Error in callback <bound method StreamCapture.post_execute of <JupyROOT.helpers.utils.StreamCapture object at 0x7f4dc69f0070>> (for post_execute):\n"
     ]
    },
    {
     "ename": "KeyboardInterrupt",
     "evalue": "",
     "output_type": "error",
     "traceback": [
      "\u001b[0;31m---------------------------------------------------------------------------\u001b[0m",
      "\u001b[0;31mKeyboardInterrupt\u001b[0m                         Traceback (most recent call last)",
      "\u001b[0;32m/opt/root/lib/JupyROOT/helpers/utils.py\u001b[0m in \u001b[0;36mpost_execute\u001b[0;34m(self)\u001b[0m\n\u001b[1;32m    335\u001b[0m             \u001b[0;32mreturn\u001b[0m \u001b[0;36m0\u001b[0m\u001b[0;34m\u001b[0m\u001b[0;34m\u001b[0m\u001b[0m\n\u001b[1;32m    336\u001b[0m         \u001b[0mself\u001b[0m\u001b[0;34m.\u001b[0m\u001b[0mflag\u001b[0m \u001b[0;34m=\u001b[0m \u001b[0;32mFalse\u001b[0m\u001b[0;34m\u001b[0m\u001b[0;34m\u001b[0m\u001b[0m\n\u001b[0;32m--> 337\u001b[0;31m         \u001b[0mself\u001b[0m\u001b[0;34m.\u001b[0m\u001b[0masyncCapturer\u001b[0m\u001b[0;34m.\u001b[0m\u001b[0mWait\u001b[0m\u001b[0;34m(\u001b[0m\u001b[0;34m)\u001b[0m\u001b[0;34m\u001b[0m\u001b[0;34m\u001b[0m\u001b[0m\n\u001b[0m\u001b[1;32m    338\u001b[0m         \u001b[0mself\u001b[0m\u001b[0;34m.\u001b[0m\u001b[0mioHandler\u001b[0m\u001b[0;34m.\u001b[0m\u001b[0mPoll\u001b[0m\u001b[0;34m(\u001b[0m\u001b[0;34m)\u001b[0m\u001b[0;34m\u001b[0m\u001b[0;34m\u001b[0m\u001b[0m\n\u001b[1;32m    339\u001b[0m         \u001b[0mself\u001b[0m\u001b[0;34m.\u001b[0m\u001b[0mioHandler\u001b[0m\u001b[0;34m.\u001b[0m\u001b[0mEndCapture\u001b[0m\u001b[0;34m(\u001b[0m\u001b[0;34m)\u001b[0m\u001b[0;34m\u001b[0m\u001b[0;34m\u001b[0m\u001b[0m\n",
      "\u001b[0;32m/opt/root/lib/JupyROOT/helpers/handlers.py\u001b[0m in \u001b[0;36mWait\u001b[0;34m(self)\u001b[0m\n\u001b[1;32m    132\u001b[0m     \u001b[0;32mdef\u001b[0m \u001b[0mWait\u001b[0m\u001b[0;34m(\u001b[0m\u001b[0mself\u001b[0m\u001b[0;34m)\u001b[0m\u001b[0;34m:\u001b[0m\u001b[0;34m\u001b[0m\u001b[0;34m\u001b[0m\u001b[0m\n\u001b[1;32m    133\u001b[0m         \u001b[0;32mwhile\u001b[0m \u001b[0mself\u001b[0m\u001b[0;34m.\u001b[0m\u001b[0mpoller\u001b[0m\u001b[0;34m.\u001b[0m\u001b[0mis_running\u001b[0m\u001b[0;34m:\u001b[0m\u001b[0;34m\u001b[0m\u001b[0;34m\u001b[0m\u001b[0m\n\u001b[0;32m--> 134\u001b[0;31m             \u001b[0mtimeSleep\u001b[0m\u001b[0;34m(\u001b[0m\u001b[0;36m.1\u001b[0m\u001b[0;34m)\u001b[0m\u001b[0;34m\u001b[0m\u001b[0;34m\u001b[0m\u001b[0m\n\u001b[0m\u001b[1;32m    135\u001b[0m \u001b[0;34m\u001b[0m\u001b[0m\n\u001b[1;32m    136\u001b[0m     \u001b[0;32mdef\u001b[0m \u001b[0mHasFinished\u001b[0m\u001b[0;34m(\u001b[0m\u001b[0mself\u001b[0m\u001b[0;34m)\u001b[0m\u001b[0;34m:\u001b[0m\u001b[0;34m\u001b[0m\u001b[0;34m\u001b[0m\u001b[0m\n",
      "\u001b[0;31mKeyboardInterrupt\u001b[0m: "
     ]
    }
   ],
   "source": [
    "get_n_dihadrons_hipopy('/cache/clas12/rg-a/production/recon/fall2018/torus-1/pass1/v1/dst/train/nSidis/nSidis_005354.hipo')"
   ]
  },
  {
   "cell_type": "code",
   "execution_count": null,
   "id": "lucky-telescope",
   "metadata": {},
   "outputs": [],
   "source": [
    "get_n_dihadrons_hipopy('/cache/clas12/rg-a/production/recon/fall2018/torus+1/pass1/v1/dst/train/nSidis/nSidis_005649.hipo')"
   ]
  },
  {
   "cell_type": "code",
   "execution_count": null,
   "id": "fluid-arizona",
   "metadata": {},
   "outputs": [],
   "source": []
  }
 ],
 "metadata": {
  "kernelspec": {
   "display_name": "Python 3",
   "language": "python",
   "name": "python3"
  },
  "language_info": {
   "codemirror_mode": {
    "name": "ipython",
    "version": 3
   },
   "file_extension": ".py",
   "mimetype": "text/x-python",
   "name": "python",
   "nbconvert_exporter": "python",
   "pygments_lexer": "ipython3",
   "version": "3.8.6"
  }
 },
 "nbformat": 4,
 "nbformat_minor": 5
}

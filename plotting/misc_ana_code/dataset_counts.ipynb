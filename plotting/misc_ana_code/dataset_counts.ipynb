{
 "cells": [
  {
   "cell_type": "code",
   "execution_count": 1,
   "id": "finished-heath",
   "metadata": {},
   "outputs": [
    {
     "name": "stdout",
     "output_type": "stream",
     "text": [
      "Welcome to JupyROOT 6.22/06\n"
     ]
    },
    {
     "name": "stderr",
     "output_type": "stream",
     "text": [
      "/opt/root/lib/ROOT/_facade.py:121: UserWarning: Pandas requires version '2.7.3' or newer of 'numexpr' (version '2.7.2' currently installed).\n",
      "  return _orig_ihook(name, *args, **kwds)\n",
      "Matplotlib created a temporary config/cache directory at /tmp/matplotlib-6z810_ww because the default path (/home/jovyan/.cache/matplotlib) is not a writable directory; it is highly recommended to set the MPLCONFIGDIR environment variable to a writable directory, in particular to speed up the import of Matplotlib and to better support multiprocessing.\n"
     ]
    }
   ],
   "source": [
    "import ROOT\n",
    "from tqdm import tqdm\n",
    "import pandas as pd\n",
    "%run ../../utils/helper.ipynb"
   ]
  },
  {
   "cell_type": "code",
   "execution_count": 6,
   "id": "southwest-detail",
   "metadata": {},
   "outputs": [],
   "source": [
    "channels=[\"piplus_piplus\",\"piplus_piminus\",\"piminus_piminus\",\"piplus_pi0\",\"piminus_pi0\"]\n",
    "versions=[\"Fall2018_RGA_inbending\",\"Fall2018_RGA_outbending\",\"Spring2019_RGA_inbending\",\"MC_RGA_inbending\",\"MC_RGA_outbending\"]\n",
    "_channels=[\"$\"+c.replace(\"_\",\"\").replace(\"piplus\",\"\\pi^{+}\").replace(\"piminus\",\"\\pi^{-}\").replace(\"pi0\",\"\\pi^{0}\")+\"$\" for c in channels]\n",
    "_versions=[\"Fall 2018 RG-A Inbending\", \"Fall 2018 RG-A Outbending\",\"Spring 2019 RG-A Inbending\", \"MC RG-A Inbending\",\"MC RG-A Outbending\"]"
   ]
  },
  {
   "cell_type": "code",
   "execution_count": 7,
   "id": "impaired-independence",
   "metadata": {},
   "outputs": [],
   "source": [
    "def get_MC_cut(channel):\n",
    "    if(channel==\"piplus_piminus\"):\n",
    "        return \"truepid_1==211&&truepid_2==-211\"\n",
    "    elif(channel==\"piplus_piplus\"):\n",
    "        return \"truepid_1==211&&truepid_2==211\"\n",
    "    elif(channel==\"piplus_pi0\"):\n",
    "        return \"truepid_1==211&&trueparentpid_2==111\"\n",
    "    elif(channel==\"piminus_pi0\"):\n",
    "        return \"truepid_1==-211&&trueparentpid_2==111\"\n",
    "    elif(channel==\"pi0_pi0\"):\n",
    "        return \"trueparentpid_1==111&&trueparentpid_2==111\"\n",
    "    elif(channel==\"piminus_piminus\"):\n",
    "        return \"truepid_1==-211&&truepid_2==-211\""
   ]
  },
  {
   "cell_type": "code",
   "execution_count": 8,
   "id": "million-avenue",
   "metadata": {},
   "outputs": [],
   "source": [
    "\n",
    "def fit_histogram(hist, fit_range=(0.07,0.4)):\n",
    "    hist = hist.Clone()\n",
    "    N = hist.Integral()\n",
    "    hist.Scale(1/N/hist.GetBinWidth(1))\n",
    "    \n",
    "    # Defining a custom fitting function: a Gaussian plus a 4th-degree polynomial\n",
    "    custom_func = ROOT.TF1(\"custom_func\", \"gaus(0) + pol4(3)\", fit_range[0], fit_range[1])\n",
    "    custom_func.SetParLimits(1,0.1,0.2)\n",
    "    custom_func.SetParLimits(2,0.01,0.2)\n",
    "    \n",
    "\n",
    "    # Fitting the histogram\n",
    "    fit_result = hist.Fit(custom_func, \"NQ0RS\")  # \"S\" option for silent and to get the fit result object\n",
    "\n",
    "    # Here the Gaussian is the first function, so its integral is calculated from its parameters\n",
    "    integral_gaus = custom_func.Integral(custom_func.GetParameter(1) - 2*custom_func.GetParameter(2),\n",
    "                                          custom_func.GetParameter(1) + 2*custom_func.GetParameter(2))\n",
    "    \n",
    "    return integral_gaus*N"
   ]
  },
  {
   "cell_type": "code",
   "execution_count": 17,
   "id": "spectacular-sheep",
   "metadata": {},
   "outputs": [],
   "source": [
    "def get_my_cuts(channel):\n",
    "#     pars,_lo,_hi,_ = get_cuts(channel,\"cut_v0\")\n",
    "#     ML_cuts=[]\n",
    "#     for p in pars:\n",
    "#         if(\"p_\" in p):\n",
    "#             ML_cuts.append(f\"{p}>0.9\")\n",
    "    \n",
    "#     Trad_cuts=[\"isGoodEventWithoutML==1\"]\n",
    "\n",
    "#     Base_cuts=[]\n",
    "#     if(\"pi0\" in channel):\n",
    "#         ML_cuts.append(\"M2>0.106&&M2<0.164\")\n",
    "#         Trad_cuts.append(\"M2>0.106&&M2<0.164\")\n",
    "#         Base_cuts.append(\"M2>0.106&&M2<0.164\")\n",
    "#         if(\"pi0_pi0\" in channel):\n",
    "#             ML_cuts.append(\"M1>0.106&&M1<0.164\")\n",
    "#             Trad_cuts.append(\"M1>0.106&&M1<0.164\")\n",
    "#             Base_cuts.append(\"M1>0.106&&M1<0.164\")\n",
    "#     if(cut_name!=None):\n",
    "#         _v,_lo,_hi,_ = get_cuts(channel,cut_name)\n",
    "#         for v,lo,hi in zip(_v,_lo,_hi):\n",
    "#             if(\"p_\" in v):\n",
    "#                 continue\n",
    "#             ML_cuts.append(f\"{v}>{lo}&&{v}<{hi}\")\n",
    "#             Trad_cuts.append(f\"{v}>{lo}&&{v}<{hi}\")\n",
    "#             Base_cuts.append(f\"{v}>{lo}&&{v}<{hi}\")\n",
    "\n",
    "\n",
    "#     ML_cuts=\"&&\".join(MLt_range=(0.07,0.4)_cuts)\n",
    "#     Trad_cuts=\"&&\".join(Trad_cuts)\n",
    "#     Base_cuts=\"&&\".join(Base_cuts)\n",
    "\n",
    "    if \"pi0\" in channel:\n",
    "        h1_ML = ROOT.TH1F(\"h1_ML\",\"\",100,0.07,0.4)\n",
    "        h1_Trad = ROOT.TH1F(\"h1_Trad\",\"\",100,0.07,0.4)\n",
    "        h1_Base = ROOT.TH1F(\"h1_Base\",\"\",100,0.07,0.4)\n",
    "        \n",
    "        tree.Draw(\"M2>>h1_ML\",\"isGoodEventWithML\",\"goff\")\n",
    "        tree.Draw(\"M2>>h1_Trad\",\"isGoodEventWithoutML\",\"goff\")\n",
    "        tree.Draw(\"M2>>h1_Base\",\"isGoodEventWithML||isGoodEventWithoutML\",\"goff\")\n",
    "        \n",
    "        N_ML = fit_histogram(h1_ML)\n",
    "        N_Trad = fit_histogram(h1_Trad)\n",
    "        N_Base = fit_histogram(h1_Base)\n",
    "    else:\n",
    "        N_ML = tree.GetEntries(\"isGoodEventWithML\")\n",
    "        N_Trad = tree.GetEntries(\"isGoodEventWithoutML\")\n",
    "        N_Base = tree.GetEntries(\"isGoodEventWithML||isGoodEventWithoutML\")\n",
    "    \n",
    "    return N_ML, N_Trad, N_Base"
   ]
  },
  {
   "cell_type": "code",
   "execution_count": 18,
   "id": "driving-optics",
   "metadata": {},
   "outputs": [
    {
     "name": "stderr",
     "output_type": "stream",
     "text": [
      "5it [00:35,  7.20s/it]\n",
      "5it [03:16, 39.28s/it]\n",
      "5it [01:22, 16.45s/it]\n",
      "5it [04:44, 56.80s/it]\n",
      "5it [00:46,  9.30s/it]\n",
      "Info in <ROOT::Math::ParameterSettings>: lower/upper bounds outside current parameter value. The value will be set to (low+up)/2 \n",
      "Info in <ROOT::Math::ParameterSettings>: lower/upper bounds outside current parameter value. The value will be set to (low+up)/2 \n",
      "Info in <ROOT::Math::ParameterSettings>: lower/upper bounds outside current parameter value. The value will be set to (low+up)/2 \n",
      "Info in <ROOT::Math::ParameterSettings>: lower/upper bounds outside current parameter value. The value will be set to (low+up)/2 \n",
      "Info in <ROOT::Math::ParameterSettings>: lower/upper bounds outside current parameter value. The value will be set to (low+up)/2 \n",
      "Info in <ROOT::Math::ParameterSettings>: lower/upper bounds outside current parameter value. The value will be set to (low+up)/2 \n",
      "Info in <ROOT::Math::ParameterSettings>: lower/upper bounds outside current parameter value. The value will be set to (low+up)/2 \n",
      "Info in <ROOT::Math::ParameterSettings>: lower/upper bounds outside current parameter value. The value will be set to (low+up)/2 \n",
      "Info in <ROOT::Math::ParameterSettings>: lower/upper bounds outside current parameter value. The value will be set to (low+up)/2 \n",
      "Info in <ROOT::Math::ParameterSettings>: lower/upper bounds outside current parameter value. The value will be set to (low+up)/2 \n",
      "Info in <ROOT::Math::ParameterSettings>: lower/upper bounds outside current parameter value. The value will be set to (low+up)/2 \n",
      "Info in <ROOT::Math::ParameterSettings>: lower/upper bounds outside current parameter value. The value will be set to (low+up)/2 \n",
      "Info in <ROOT::Math::ParameterSettings>: lower/upper bounds outside current parameter value. The value will be set to (low+up)/2 \n",
      "Info in <ROOT::Math::ParameterSettings>: lower/upper bounds outside current parameter value. The value will be set to (low+up)/2 \n",
      "Info in <ROOT::Math::ParameterSettings>: lower/upper bounds outside current parameter value. The value will be set to (low+up)/2 \n",
      "Info in <ROOT::Math::ParameterSettings>: lower/upper bounds outside current parameter value. The value will be set to (low+up)/2 \n",
      "Info in <ROOT::Math::ParameterSettings>: lower/upper bounds outside current parameter value. The value will be set to (low+up)/2 \n",
      "Info in <ROOT::Math::ParameterSettings>: lower/upper bounds outside current parameter value. The value will be set to (low+up)/2 \n",
      "Info in <ROOT::Math::ParameterSettings>: lower/upper bounds outside current parameter value. The value will be set to (low+up)/2 \n",
      "Info in <ROOT::Math::ParameterSettings>: lower/upper bounds outside current parameter value. The value will be set to (low+up)/2 \n",
      "Info in <ROOT::Math::ParameterSettings>: lower/upper bounds outside current parameter value. The value will be set to (low+up)/2 \n",
      "Info in <ROOT::Math::ParameterSettings>: lower/upper bounds outside current parameter value. The value will be set to (low+up)/2 \n",
      "Info in <ROOT::Math::ParameterSettings>: lower/upper bounds outside current parameter value. The value will be set to (low+up)/2 \n",
      "Info in <ROOT::Math::ParameterSettings>: lower/upper bounds outside current parameter value. The value will be set to (low+up)/2 \n",
      "Info in <ROOT::Math::ParameterSettings>: lower/upper bounds outside current parameter value. The value will be set to (low+up)/2 \n",
      "Info in <ROOT::Math::ParameterSettings>: lower/upper bounds outside current parameter value. The value will be set to (low+up)/2 \n",
      "Info in <ROOT::Math::ParameterSettings>: lower/upper bounds outside current parameter value. The value will be set to (low+up)/2 \n",
      "Info in <ROOT::Math::ParameterSettings>: lower/upper bounds outside current parameter value. The value will be set to (low+up)/2 \n",
      "Info in <ROOT::Math::ParameterSettings>: lower/upper bounds outside current parameter value. The value will be set to (low+up)/2 \n",
      "Info in <ROOT::Math::ParameterSettings>: lower/upper bounds outside current parameter value. The value will be set to (low+up)/2 \n",
      "Info in <ROOT::Math::ParameterSettings>: lower/upper bounds outside current parameter value. The value will be set to (low+up)/2 \n",
      "Info in <ROOT::Math::ParameterSettings>: lower/upper bounds outside current parameter value. The value will be set to (low+up)/2 \n",
      "Info in <ROOT::Math::ParameterSettings>: lower/upper bounds outside current parameter value. The value will be set to (low+up)/2 \n",
      "Info in <ROOT::Math::ParameterSettings>: lower/upper bounds outside current parameter value. The value will be set to (low+up)/2 \n",
      "Info in <ROOT::Math::ParameterSettings>: lower/upper bounds outside current parameter value. The value will be set to (low+up)/2 \n",
      "Info in <ROOT::Math::ParameterSettings>: lower/upper bounds outside current parameter value. The value will be set to (low+up)/2 \n",
      "Info in <ROOT::Math::ParameterSettings>: lower/upper bounds outside current parameter value. The value will be set to (low+up)/2 \n",
      "Info in <ROOT::Math::ParameterSettings>: lower/upper bounds outside current parameter value. The value will be set to (low+up)/2 \n",
      "Info in <ROOT::Math::ParameterSettings>: lower/upper bounds outside current parameter value. The value will be set to (low+up)/2 \n",
      "Info in <ROOT::Math::ParameterSettings>: lower/upper bounds outside current parameter value. The value will be set to (low+up)/2 \n",
      "Info in <ROOT::Math::ParameterSettings>: lower/upper bounds outside current parameter value. The value will be set to (low+up)/2 \n",
      "Info in <ROOT::Math::ParameterSettings>: lower/upper bounds outside current parameter value. The value will be set to (low+up)/2 \n",
      "Info in <ROOT::Math::ParameterSettings>: lower/upper bounds outside current parameter value. The value will be set to (low+up)/2 \n",
      "Info in <ROOT::Math::ParameterSettings>: lower/upper bounds outside current parameter value. The value will be set to (low+up)/2 \n",
      "Info in <ROOT::Math::ParameterSettings>: lower/upper bounds outside current parameter value. The value will be set to (low+up)/2 \n",
      "Info in <ROOT::Math::ParameterSettings>: lower/upper bounds outside current parameter value. The value will be set to (low+up)/2 \n",
      "Info in <ROOT::Math::ParameterSettings>: lower/upper bounds outside current parameter value. The value will be set to (low+up)/2 \n",
      "Info in <ROOT::Math::ParameterSettings>: lower/upper bounds outside current parameter value. The value will be set to (low+up)/2 \n",
      "Info in <ROOT::Math::ParameterSettings>: lower/upper bounds outside current parameter value. The value will be set to (low+up)/2 \n",
      "Info in <ROOT::Math::ParameterSettings>: lower/upper bounds outside current parameter value. The value will be set to (low+up)/2 \n",
      "Info in <ROOT::Math::ParameterSettings>: lower/upper bounds outside current parameter value. The value will be set to (low+up)/2 \n",
      "Info in <ROOT::Math::ParameterSettings>: lower/upper bounds outside current parameter value. The value will be set to (low+up)/2 \n",
      "Info in <ROOT::Math::ParameterSettings>: lower/upper bounds outside current parameter value. The value will be set to (low+up)/2 \n",
      "Info in <ROOT::Math::ParameterSettings>: lower/upper bounds outside current parameter value. The value will be set to (low+up)/2 \n",
      "Info in <ROOT::Math::ParameterSettings>: lower/upper bounds outside current parameter value. The value will be set to (low+up)/2 \n",
      "Info in <ROOT::Math::ParameterSettings>: lower/upper bounds outside current parameter value. The value will be set to (low+up)/2 \n",
      "Info in <ROOT::Math::ParameterSettings>: lower/upper bounds outside current parameter value. The value will be set to (low+up)/2 \n",
      "Info in <ROOT::Math::ParameterSettings>: lower/upper bounds outside current parameter value. The value will be set to (low+up)/2 \n",
      "Info in <ROOT::Math::ParameterSettings>: lower/upper bounds outside current parameter value. The value will be set to (low+up)/2 \n",
      "Info in <ROOT::Math::ParameterSettings>: lower/upper bounds outside current parameter value. The value will be set to (low+up)/2 \n"
     ]
    }
   ],
   "source": [
    "data = []\n",
    "for version,_version in zip(versions,_versions):\n",
    "    for channel,_channel in tqdm(zip(channels,_channels)):\n",
    "        root_file = \"../../projects/pipi0_paper_RGA_only/volatile/data/\"+f\"/{channel}/{version}_merged.root\"\n",
    "        file = ROOT.TFile(root_file)\n",
    "        tree = file.Get(\"dihadron\")\n",
    "        \n",
    "        N_ML, N_Trad, N_Base = get_my_cuts(channel)\n",
    "        data.append({\"version\": _version, \"channel\": _channel, \"entries\": N_Base, \"Egcut_entries\": N_Trad, \"ML_entries\": N_ML})"
   ]
  },
  {
   "cell_type": "code",
   "execution_count": 19,
   "id": "noticed-enzyme",
   "metadata": {},
   "outputs": [],
   "source": [
    "df = pd.DataFrame(data)"
   ]
  },
  {
   "cell_type": "code",
   "execution_count": 20,
   "id": "ideal-radar",
   "metadata": {},
   "outputs": [
    {
     "data": {
      "text/html": [
       "<div>\n",
       "<style scoped>\n",
       "    .dataframe tbody tr th:only-of-type {\n",
       "        vertical-align: middle;\n",
       "    }\n",
       "\n",
       "    .dataframe tbody tr th {\n",
       "        vertical-align: top;\n",
       "    }\n",
       "\n",
       "    .dataframe thead th {\n",
       "        text-align: right;\n",
       "    }\n",
       "</style>\n",
       "<table border=\"1\" class=\"dataframe\">\n",
       "  <thead>\n",
       "    <tr style=\"text-align: right;\">\n",
       "      <th></th>\n",
       "      <th>version</th>\n",
       "      <th>channel</th>\n",
       "      <th>entries</th>\n",
       "      <th>Egcut_entries</th>\n",
       "      <th>ML_entries</th>\n",
       "    </tr>\n",
       "  </thead>\n",
       "  <tbody>\n",
       "    <tr>\n",
       "      <th>0</th>\n",
       "      <td>Fall 2018 RG-A Inbending</td>\n",
       "      <td>$\\pi^{+}\\pi^{+}$</td>\n",
       "      <td>1.407136e+06</td>\n",
       "      <td>1.407136e+06</td>\n",
       "      <td>1.359641e+06</td>\n",
       "    </tr>\n",
       "    <tr>\n",
       "      <th>1</th>\n",
       "      <td>Fall 2018 RG-A Inbending</td>\n",
       "      <td>$\\pi^{+}\\pi^{-}$</td>\n",
       "      <td>1.709595e+06</td>\n",
       "      <td>1.709595e+06</td>\n",
       "      <td>1.640709e+06</td>\n",
       "    </tr>\n",
       "    <tr>\n",
       "      <th>2</th>\n",
       "      <td>Fall 2018 RG-A Inbending</td>\n",
       "      <td>$\\pi^{-}\\pi^{-}$</td>\n",
       "      <td>6.702200e+04</td>\n",
       "      <td>6.702200e+04</td>\n",
       "      <td>6.430000e+04</td>\n",
       "    </tr>\n",
       "    <tr>\n",
       "      <th>3</th>\n",
       "      <td>Fall 2018 RG-A Inbending</td>\n",
       "      <td>$\\pi^{+}\\pi^{0}$</td>\n",
       "      <td>2.103563e+06</td>\n",
       "      <td>5.565608e+05</td>\n",
       "      <td>1.949430e+06</td>\n",
       "    </tr>\n",
       "    <tr>\n",
       "      <th>4</th>\n",
       "      <td>Fall 2018 RG-A Inbending</td>\n",
       "      <td>$\\pi^{-}\\pi^{0}$</td>\n",
       "      <td>5.282833e+05</td>\n",
       "      <td>1.631217e+05</td>\n",
       "      <td>4.791558e+05</td>\n",
       "    </tr>\n",
       "    <tr>\n",
       "      <th>5</th>\n",
       "      <td>Fall 2018 RG-A Outbending</td>\n",
       "      <td>$\\pi^{+}\\pi^{+}$</td>\n",
       "      <td>1.417909e+06</td>\n",
       "      <td>1.417909e+06</td>\n",
       "      <td>1.417909e+06</td>\n",
       "    </tr>\n",
       "    <tr>\n",
       "      <th>6</th>\n",
       "      <td>Fall 2018 RG-A Outbending</td>\n",
       "      <td>$\\pi^{+}\\pi^{-}$</td>\n",
       "      <td>5.306733e+06</td>\n",
       "      <td>5.306733e+06</td>\n",
       "      <td>5.306733e+06</td>\n",
       "    </tr>\n",
       "    <tr>\n",
       "      <th>7</th>\n",
       "      <td>Fall 2018 RG-A Outbending</td>\n",
       "      <td>$\\pi^{-}\\pi^{-}$</td>\n",
       "      <td>1.115211e+06</td>\n",
       "      <td>1.115211e+06</td>\n",
       "      <td>1.115211e+06</td>\n",
       "    </tr>\n",
       "    <tr>\n",
       "      <th>8</th>\n",
       "      <td>Fall 2018 RG-A Outbending</td>\n",
       "      <td>$\\pi^{+}\\pi^{0}$</td>\n",
       "      <td>3.657747e+06</td>\n",
       "      <td>8.910935e+05</td>\n",
       "      <td>3.396263e+06</td>\n",
       "    </tr>\n",
       "    <tr>\n",
       "      <th>9</th>\n",
       "      <td>Fall 2018 RG-A Outbending</td>\n",
       "      <td>$\\pi^{-}\\pi^{0}$</td>\n",
       "      <td>4.409613e+06</td>\n",
       "      <td>1.110549e+06</td>\n",
       "      <td>4.168587e+06</td>\n",
       "    </tr>\n",
       "    <tr>\n",
       "      <th>10</th>\n",
       "      <td>Spring 2019 RG-A Inbending</td>\n",
       "      <td>$\\pi^{+}\\pi^{+}$</td>\n",
       "      <td>1.941265e+06</td>\n",
       "      <td>1.941265e+06</td>\n",
       "      <td>1.941265e+06</td>\n",
       "    </tr>\n",
       "    <tr>\n",
       "      <th>11</th>\n",
       "      <td>Spring 2019 RG-A Inbending</td>\n",
       "      <td>$\\pi^{+}\\pi^{-}$</td>\n",
       "      <td>2.296040e+06</td>\n",
       "      <td>2.296040e+06</td>\n",
       "      <td>2.296040e+06</td>\n",
       "    </tr>\n",
       "    <tr>\n",
       "      <th>12</th>\n",
       "      <td>Spring 2019 RG-A Inbending</td>\n",
       "      <td>$\\pi^{-}\\pi^{-}$</td>\n",
       "      <td>8.633800e+04</td>\n",
       "      <td>8.633800e+04</td>\n",
       "      <td>8.633800e+04</td>\n",
       "    </tr>\n",
       "    <tr>\n",
       "      <th>13</th>\n",
       "      <td>Spring 2019 RG-A Inbending</td>\n",
       "      <td>$\\pi^{+}\\pi^{0}$</td>\n",
       "      <td>2.967677e+06</td>\n",
       "      <td>7.178021e+05</td>\n",
       "      <td>2.782379e+06</td>\n",
       "    </tr>\n",
       "    <tr>\n",
       "      <th>14</th>\n",
       "      <td>Spring 2019 RG-A Inbending</td>\n",
       "      <td>$\\pi^{-}\\pi^{0}$</td>\n",
       "      <td>7.284728e+05</td>\n",
       "      <td>2.083889e+05</td>\n",
       "      <td>6.685998e+05</td>\n",
       "    </tr>\n",
       "    <tr>\n",
       "      <th>15</th>\n",
       "      <td>MC RG-A Inbending</td>\n",
       "      <td>$\\pi^{+}\\pi^{+}$</td>\n",
       "      <td>4.179475e+06</td>\n",
       "      <td>4.179475e+06</td>\n",
       "      <td>4.179475e+06</td>\n",
       "    </tr>\n",
       "    <tr>\n",
       "      <th>16</th>\n",
       "      <td>MC RG-A Inbending</td>\n",
       "      <td>$\\pi^{+}\\pi^{-}$</td>\n",
       "      <td>4.526625e+06</td>\n",
       "      <td>4.526625e+06</td>\n",
       "      <td>4.526625e+06</td>\n",
       "    </tr>\n",
       "    <tr>\n",
       "      <th>17</th>\n",
       "      <td>MC RG-A Inbending</td>\n",
       "      <td>$\\pi^{-}\\pi^{-}$</td>\n",
       "      <td>1.977740e+05</td>\n",
       "      <td>1.977740e+05</td>\n",
       "      <td>1.977740e+05</td>\n",
       "    </tr>\n",
       "    <tr>\n",
       "      <th>18</th>\n",
       "      <td>MC RG-A Inbending</td>\n",
       "      <td>$\\pi^{+}\\pi^{0}$</td>\n",
       "      <td>6.253350e+06</td>\n",
       "      <td>1.770101e+06</td>\n",
       "      <td>5.742973e+06</td>\n",
       "    </tr>\n",
       "    <tr>\n",
       "      <th>19</th>\n",
       "      <td>MC RG-A Inbending</td>\n",
       "      <td>$\\pi^{-}\\pi^{0}$</td>\n",
       "      <td>3.123509e+05</td>\n",
       "      <td>1.010742e+05</td>\n",
       "      <td>2.812464e+05</td>\n",
       "    </tr>\n",
       "    <tr>\n",
       "      <th>20</th>\n",
       "      <td>MC RG-A Outbending</td>\n",
       "      <td>$\\pi^{+}\\pi^{+}$</td>\n",
       "      <td>1.868250e+05</td>\n",
       "      <td>1.868250e+05</td>\n",
       "      <td>1.868250e+05</td>\n",
       "    </tr>\n",
       "    <tr>\n",
       "      <th>21</th>\n",
       "      <td>MC RG-A Outbending</td>\n",
       "      <td>$\\pi^{+}\\pi^{-}$</td>\n",
       "      <td>8.697510e+05</td>\n",
       "      <td>8.697510e+05</td>\n",
       "      <td>8.697510e+05</td>\n",
       "    </tr>\n",
       "    <tr>\n",
       "      <th>22</th>\n",
       "      <td>MC RG-A Outbending</td>\n",
       "      <td>$\\pi^{-}\\pi^{-}$</td>\n",
       "      <td>2.251100e+05</td>\n",
       "      <td>2.251100e+05</td>\n",
       "      <td>2.251100e+05</td>\n",
       "    </tr>\n",
       "    <tr>\n",
       "      <th>23</th>\n",
       "      <td>MC RG-A Outbending</td>\n",
       "      <td>$\\pi^{+}\\pi^{0}$</td>\n",
       "      <td>6.524072e+05</td>\n",
       "      <td>1.518725e+05</td>\n",
       "      <td>6.061027e+05</td>\n",
       "    </tr>\n",
       "    <tr>\n",
       "      <th>24</th>\n",
       "      <td>MC RG-A Outbending</td>\n",
       "      <td>$\\pi^{-}\\pi^{0}$</td>\n",
       "      <td>9.732421e+05</td>\n",
       "      <td>2.620516e+05</td>\n",
       "      <td>9.126361e+05</td>\n",
       "    </tr>\n",
       "  </tbody>\n",
       "</table>\n",
       "</div>"
      ],
      "text/plain": [
       "                       version           channel       entries  Egcut_entries  \\\n",
       "0     Fall 2018 RG-A Inbending  $\\pi^{+}\\pi^{+}$  1.407136e+06   1.407136e+06   \n",
       "1     Fall 2018 RG-A Inbending  $\\pi^{+}\\pi^{-}$  1.709595e+06   1.709595e+06   \n",
       "2     Fall 2018 RG-A Inbending  $\\pi^{-}\\pi^{-}$  6.702200e+04   6.702200e+04   \n",
       "3     Fall 2018 RG-A Inbending  $\\pi^{+}\\pi^{0}$  2.103563e+06   5.565608e+05   \n",
       "4     Fall 2018 RG-A Inbending  $\\pi^{-}\\pi^{0}$  5.282833e+05   1.631217e+05   \n",
       "5    Fall 2018 RG-A Outbending  $\\pi^{+}\\pi^{+}$  1.417909e+06   1.417909e+06   \n",
       "6    Fall 2018 RG-A Outbending  $\\pi^{+}\\pi^{-}$  5.306733e+06   5.306733e+06   \n",
       "7    Fall 2018 RG-A Outbending  $\\pi^{-}\\pi^{-}$  1.115211e+06   1.115211e+06   \n",
       "8    Fall 2018 RG-A Outbending  $\\pi^{+}\\pi^{0}$  3.657747e+06   8.910935e+05   \n",
       "9    Fall 2018 RG-A Outbending  $\\pi^{-}\\pi^{0}$  4.409613e+06   1.110549e+06   \n",
       "10  Spring 2019 RG-A Inbending  $\\pi^{+}\\pi^{+}$  1.941265e+06   1.941265e+06   \n",
       "11  Spring 2019 RG-A Inbending  $\\pi^{+}\\pi^{-}$  2.296040e+06   2.296040e+06   \n",
       "12  Spring 2019 RG-A Inbending  $\\pi^{-}\\pi^{-}$  8.633800e+04   8.633800e+04   \n",
       "13  Spring 2019 RG-A Inbending  $\\pi^{+}\\pi^{0}$  2.967677e+06   7.178021e+05   \n",
       "14  Spring 2019 RG-A Inbending  $\\pi^{-}\\pi^{0}$  7.284728e+05   2.083889e+05   \n",
       "15           MC RG-A Inbending  $\\pi^{+}\\pi^{+}$  4.179475e+06   4.179475e+06   \n",
       "16           MC RG-A Inbending  $\\pi^{+}\\pi^{-}$  4.526625e+06   4.526625e+06   \n",
       "17           MC RG-A Inbending  $\\pi^{-}\\pi^{-}$  1.977740e+05   1.977740e+05   \n",
       "18           MC RG-A Inbending  $\\pi^{+}\\pi^{0}$  6.253350e+06   1.770101e+06   \n",
       "19           MC RG-A Inbending  $\\pi^{-}\\pi^{0}$  3.123509e+05   1.010742e+05   \n",
       "20          MC RG-A Outbending  $\\pi^{+}\\pi^{+}$  1.868250e+05   1.868250e+05   \n",
       "21          MC RG-A Outbending  $\\pi^{+}\\pi^{-}$  8.697510e+05   8.697510e+05   \n",
       "22          MC RG-A Outbending  $\\pi^{-}\\pi^{-}$  2.251100e+05   2.251100e+05   \n",
       "23          MC RG-A Outbending  $\\pi^{+}\\pi^{0}$  6.524072e+05   1.518725e+05   \n",
       "24          MC RG-A Outbending  $\\pi^{-}\\pi^{0}$  9.732421e+05   2.620516e+05   \n",
       "\n",
       "      ML_entries  \n",
       "0   1.359641e+06  \n",
       "1   1.640709e+06  \n",
       "2   6.430000e+04  \n",
       "3   1.949430e+06  \n",
       "4   4.791558e+05  \n",
       "5   1.417909e+06  \n",
       "6   5.306733e+06  \n",
       "7   1.115211e+06  \n",
       "8   3.396263e+06  \n",
       "9   4.168587e+06  \n",
       "10  1.941265e+06  \n",
       "11  2.296040e+06  \n",
       "12  8.633800e+04  \n",
       "13  2.782379e+06  \n",
       "14  6.685998e+05  \n",
       "15  4.179475e+06  \n",
       "16  4.526625e+06  \n",
       "17  1.977740e+05  \n",
       "18  5.742973e+06  \n",
       "19  2.812464e+05  \n",
       "20  1.868250e+05  \n",
       "21  8.697510e+05  \n",
       "22  2.251100e+05  \n",
       "23  6.061027e+05  \n",
       "24  9.126361e+05  "
      ]
     },
     "execution_count": 20,
     "metadata": {},
     "output_type": "execute_result"
    }
   ],
   "source": [
    "df"
   ]
  },
  {
   "cell_type": "code",
   "execution_count": 21,
   "id": "romantic-basket",
   "metadata": {},
   "outputs": [
    {
     "data": {
      "text/plain": [
       "0"
      ]
     },
     "execution_count": 21,
     "metadata": {},
     "output_type": "execute_result"
    },
    {
     "name": "stdout",
     "output_type": "stream",
     "text": [
      "This is pdfTeX, Version 3.14159265-2.6-1.40.20 (TeX Live 2019/Debian) (preloaded format=pdflatex)\n",
      " restricted \\write18 enabled.\n",
      "entering extended mode\n",
      "(./dihadron_counts_tables_2.tex\n",
      "LaTeX2e <2020-02-02> patch level 2\n",
      "L3 programming layer <2020-02-14>\n",
      "(/usr/share/texlive/texmf-dist/tex/latex/base/article.cls\n",
      "Document Class: article 2019/12/20 v1.4l Standard LaTeX document class\n",
      "(/usr/share/texlive/texmf-dist/tex/latex/base/size10.clo))\n",
      "(/usr/share/texlive/texmf-dist/tex/latex/xcolor/xcolor.sty\n",
      "(/usr/share/texlive/texmf-dist/tex/latex/graphics-cfg/color.cfg)\n",
      "(/usr/share/texlive/texmf-dist/tex/latex/graphics-def/pdftex.def)\n",
      "(/usr/share/texlive/texmf-dist/tex/latex/colortbl/colortbl.sty\n",
      "(/usr/share/texlive/texmf-dist/tex/latex/tools/array.sty)))\n",
      "(/usr/share/texlive/texmf-dist/tex/latex/geometry/geometry.sty\n",
      "(/usr/share/texlive/texmf-dist/tex/latex/graphics/keyval.sty)\n",
      "(/usr/share/texlive/texmf-dist/tex/generic/iftex/ifvtex.sty\n",
      "(/usr/share/texlive/texmf-dist/tex/generic/iftex/iftex.sty)))\n",
      "(/usr/share/texlive/texmf-dist/tex/latex/l3backend/l3backend-pdfmode.def)\n",
      "(./dihadron_counts_tables_2.aux)\n",
      "(/usr/share/texlive/texmf-dist/tex/context/base/mkii/supp-pdf.mkii\n",
      "[Loading MPS to PDF converter (version 2006.09.02).]\n",
      ")\n",
      "*geometry* driver: auto-detecting\n",
      "*geometry* detected driver: pdftex\n",
      "[1{/var/lib/texmf/fonts/map/pdftex/updmap/pdftex.map}]\n",
      "(./dihadron_counts_tables_2.aux) )</usr/share/texlive/texmf-dist/fonts/type1/pu\n",
      "blic/amsfonts/cm/cmbx12.pfb></usr/share/texlive/texmf-dist/fonts/type1/public/a\n",
      "msfonts/cm/cmmi10.pfb></usr/share/texlive/texmf-dist/fonts/type1/public/amsfont\n",
      "s/cm/cmr10.pfb></usr/share/texlive/texmf-dist/fonts/type1/public/amsfonts/cm/cm\n",
      "r7.pfb></usr/share/texlive/texmf-dist/fonts/type1/public/amsfonts/cm/cmsy7.pfb>\n",
      "Output written on dihadron_counts_tables_2.pdf (1 page, 54865 bytes).\n",
      "Transcript written on dihadron_counts_tables_2.log.\n"
     ]
    }
   ],
   "source": [
    "# Define alternating colors for table rows\n",
    "color1 = \"blue!10\"\n",
    "color2 = \"blue!20\"\n",
    "\n",
    "# Group DataFrame by version\n",
    "grouped = df.groupby(\"version\")\n",
    "\n",
    "# Write LaTeX tables to file\n",
    "with open(\"dihadron_counts_tables_2.tex\", \"w\") as f:\n",
    "    f.write(\"\\\\documentclass{article}\\n\")\n",
    "    f.write(\"\\\\usepackage[table]{xcolor}\\n\")\n",
    "    f.write(\"\\\\usepackage[margin=1in]{geometry}\\n\")\n",
    "    f.write(\"\\\\begin{document}\\n\")\n",
    "\n",
    "    for version, group in grouped:\n",
    "        # Create list of colors for each row\n",
    "        colors = [color1, color2] * ((len(group) // 2) + 1)\n",
    "\n",
    "        # Write LaTeX table code to file\n",
    "        f.write(f\"\\\\section*{{{version}}}\\n\")\n",
    "        f.write(\"\\\\begin{center}\\n\")\n",
    "        f.write(\"\\\\begin{tabular}{ccccc}\\n\")\n",
    "        f.write(\"\\\\hline\\n\")\n",
    "        f.write(\"Version & Channel & Total Entries & Legacy Entries & ML Entries \\\\\\\\\\n\")\n",
    "        f.write(\"\\\\hline\\n\")\n",
    "        for i, row in group.iterrows():\n",
    "            color = colors[i % len(colors)]\n",
    "            f.write(\"\\\\cellcolor{\" + color + \"}\" + str(row[\"version\"]) + \" & \")\n",
    "            f.write(\"\\\\cellcolor{\" + color + \"}\" + str(row[\"channel\"]) + \" & \")\n",
    "            entries_str = \"{:.1f}M\".format(row[\"entries\"] / 1e6) if row[\"entries\"] >= 1e6 else \"{:.1f}K\".format(row[\"entries\"] / 1e3)\n",
    "            f.write(\"\\\\cellcolor{\" + color + \"}\" + entries_str + \" & \")\n",
    "            Eg_entries_str = \"{:.1f}M\".format(row[\"Egcut_entries\"] / 1e6) if row[\"Egcut_entries\"] >= 1e6 else \"{:.1f}K\".format(row[\"Egcut_entries\"] / 1e3)\n",
    "            f.write(\"\\\\cellcolor{\" + color + \"}\" + (Eg_entries_str if \"0\" in row[\"channel\"] else \"---\") + \" & \")\n",
    "            ml_entries_str = \"{:.1f}M\".format(row[\"ML_entries\"] / 1e6) if row[\"ML_entries\"] >= 1e6 else \"{:.1f}K\".format(row[\"ML_entries\"] / 1e3)\n",
    "            f.write(\"\\\\cellcolor{\" + color + \"}\" + (ml_entries_str if \"0\" in row[\"channel\"] else \"---\") + \" \\\\\\\\\\n\")\n",
    "            f.write(\"\\\\hline\\n\")\n",
    "        \n",
    "        f.write(\"\\\\end{tabular}\\n\")\n",
    "        f.write(\"\\\\end{center}\\n\")\n",
    "\n",
    "    f.write(\"\\\\end{document}\\n\")\n",
    "\n",
    "# Convert LaTeX file to PDF using pdflatex\n",
    "import os\n",
    "os.system(\"pdflatex dihadron_counts_tables_2.tex\")"
   ]
  },
  {
   "cell_type": "markdown",
   "id": "celtic-miracle",
   "metadata": {},
   "source": [
    "# Comparing EventTree\n",
    "---"
   ]
  },
  {
   "cell_type": "code",
   "execution_count": 4,
   "id": "global-quantity",
   "metadata": {},
   "outputs": [],
   "source": [
    "import ROOT\n",
    "import numpy as np"
   ]
  },
  {
   "cell_type": "code",
   "execution_count": 9,
   "id": "conventional-mother",
   "metadata": {},
   "outputs": [],
   "source": [
    "def get_n_dihadrons(runNumber=None,file_name=None):\n",
    "    if(runNumber!=None):\n",
    "        file = ROOT.TFile(f\"../../projects/ana_v1/volatile/data/piplus_piminus/nSidis_RGA_{runNumber}.root\")\n",
    "    elif(file_name!=None):\n",
    "        file = ROOT.TFile(file_name)\n",
    "    tree = file.Get(\"EventTree\")\n",
    "    N=tree.GetEntries()\n",
    "    Npiplus=0\n",
    "    Npiminus=0\n",
    "    Ndihadrons=0\n",
    "    for i,iev in enumerate(tree):\n",
    "        pid=np.array(iev.pid)\n",
    "        piplus_mask = pid == 211\n",
    "        piminus_mask = pid == -211\n",
    "        _nplus = np.count_nonzero(piplus_mask)\n",
    "        _nminus = np.count_nonzero(piminus_mask)\n",
    "        Npiplus += _nplus\n",
    "        Npiminus += _nminus\n",
    "        Ndihadrons += _nplus*_nminus\n",
    "    print(\"Number of Events:\",N)\n",
    "    print(\"Number of Piplus:\",Npiplus)\n",
    "    print(\"Number of Piminus:\",Npiminus)\n",
    "    print(\"Number of Dihadrons:\",Ndihadrons)\n",
    "    print(\"Dihadrons per event:\",np.round(Ndihadrons/N,2))"
   ]
  },
  {
   "cell_type": "code",
   "execution_count": 36,
   "id": "artificial-copper",
   "metadata": {},
   "outputs": [
    {
     "name": "stdout",
     "output_type": "stream",
     "text": [
      "Number of Events: 41747\n",
      "Number of Piplus: 47065\n",
      "Number of Piminus: 42633\n",
      "Number of Dihadrons: 48135\n",
      "Dihadrons per event: 1.15\n"
     ]
    }
   ],
   "source": [
    "get_n_dihadrons(5036)\n",
    "N_5036=43208697"
   ]
  },
  {
   "cell_type": "code",
   "execution_count": 34,
   "id": "treated-updating",
   "metadata": {},
   "outputs": [
    {
     "name": "stdout",
     "output_type": "stream",
     "text": [
      "0.0009661712316851397\n"
     ]
    }
   ],
   "source": [
    "print(41747/N_5036)"
   ]
  },
  {
   "cell_type": "code",
   "execution_count": 20,
   "id": "mediterranean-attendance",
   "metadata": {},
   "outputs": [
    {
     "name": "stdout",
     "output_type": "stream",
     "text": [
      "Number of Events: 238240\n",
      "Number of Piplus: 249913\n",
      "Number of Piminus: 251574\n",
      "Number of Dihadrons: 264286\n",
      "Dihadrons per event: 1.11\n"
     ]
    }
   ],
   "source": [
    "get_n_dihadrons(5556)\n",
    "N_5556=112105269"
   ]
  },
  {
   "cell_type": "code",
   "execution_count": 35,
   "id": "molecular-small",
   "metadata": {},
   "outputs": [
    {
     "name": "stdout",
     "output_type": "stream",
     "text": [
      "0.0021251454291590878\n"
     ]
    }
   ],
   "source": [
    "print(238240/N_5556)"
   ]
  },
  {
   "cell_type": "markdown",
   "id": "composed-pasta",
   "metadata": {},
   "source": [
    "---"
   ]
  },
  {
   "cell_type": "code",
   "execution_count": 12,
   "id": "false-repair",
   "metadata": {},
   "outputs": [
    {
     "name": "stdout",
     "output_type": "stream",
     "text": [
      "Number of Events: 76192\n",
      "Number of Piplus: 85071\n",
      "Number of Piminus: 77636\n",
      "Number of Dihadrons: 86768\n",
      "Dihadrons per event: 1.14\n"
     ]
    }
   ],
   "source": [
    "get_n_dihadrons(file_name=\"../../macros/hipo2tree_5354.root\")"
   ]
  },
  {
   "cell_type": "code",
   "execution_count": 13,
   "id": "animal-lighter",
   "metadata": {},
   "outputs": [
    {
     "name": "stdout",
     "output_type": "stream",
     "text": [
      "Number of Events: 216597\n",
      "Number of Piplus: 227307\n",
      "Number of Piminus: 228904\n",
      "Number of Dihadrons: 240624\n",
      "Dihadrons per event: 1.11\n"
     ]
    }
   ],
   "source": [
    "get_n_dihadrons(file_name=\"../../macros/hipo2tree_5649.root\")"
   ]
  },
  {
   "cell_type": "markdown",
   "id": "thirty-dance",
   "metadata": {},
   "source": [
    "---"
   ]
  },
  {
   "cell_type": "code",
   "execution_count": 31,
   "id": "wanted-prevention",
   "metadata": {},
   "outputs": [],
   "source": [
    "import sys\n",
    "sys.path.append(\"/work/clas12/users/gmat/packages/clas12root/rcdb/python/\")\n",
    "import rcdb\n",
    "# Import necessary modules\n",
    "import os\n",
    "import re\n",
    "from tqdm import tqdm\n",
    "from rcdb.provider import RCDBProvider\n",
    "from rcdb.model import ConditionType\n",
    "\n",
    "db = RCDBProvider(\"mysql://rcdb@clasdb/rcdb\")"
   ]
  },
  {
   "cell_type": "code",
   "execution_count": 37,
   "id": "compatible-overhead",
   "metadata": {},
   "outputs": [],
   "source": [
    "def get_total_events_from_dir(directory):\n",
    "    files = os.listdir(directory)\n",
    "\n",
    "    run_numbers = []\n",
    "    run_events = []\n",
    "    for filename in tqdm(files):\n",
    "        if \"nSidis_00\" in filename and filename.endswith(\".hipo\"):\n",
    "            run_number = int(filename.split(\"nSidis_00\")[1][:4])\n",
    "            run_numbers.append(run_number)\n",
    "            run_events.append(get_events_from_run(run_number))\n",
    "    print(\"Nfiles =\",len(run_numbers))\n",
    "    print(\"Total Events = {:.3e}\".format(np.sum(run_events)))\n",
    "    return run_numbers,run_events"
   ]
  },
  {
   "cell_type": "code",
   "execution_count": 38,
   "id": "characteristic-bloom",
   "metadata": {},
   "outputs": [],
   "source": [
    "def get_events_from_run(run):\n",
    "    DB = db.get_run(run)\n",
    "    return DB.get_condition(\"event_count\").value"
   ]
  },
  {
   "cell_type": "code",
   "execution_count": 39,
   "id": "editorial-barcelona",
   "metadata": {},
   "outputs": [],
   "source": [
    "f18_inbending_dir = \"/cache/clas12/rg-a/production/recon/fall2018/torus-1/pass1/v1/dst/train/nSidis/\"\n",
    "f18_outbending_dir = \"/cache/clas12/rg-a/production/recon/fall2018/torus+1/pass1/v1/dst/train/nSidis/\""
   ]
  },
  {
   "cell_type": "code",
   "execution_count": 40,
   "id": "advised-norwegian",
   "metadata": {},
   "outputs": [
    {
     "name": "stderr",
     "output_type": "stream",
     "text": [
      "100%|████████████████████████████████████████| 174/174 [00:03<00:00, 46.93it/s]\n"
     ]
    },
    {
     "name": "stdout",
     "output_type": "stream",
     "text": [
      "Nfiles = 174\n",
      "Total Events = 1.030e+10\n"
     ]
    }
   ],
   "source": [
    "rn_inb,re_inb=get_total_events_from_dir(f18_inbending_dir)"
   ]
  },
  {
   "cell_type": "code",
   "execution_count": 41,
   "id": "centered-cache",
   "metadata": {},
   "outputs": [
    {
     "name": "stderr",
     "output_type": "stream",
     "text": [
      "100%|████████████████████████████████████████| 186/186 [00:04<00:00, 45.45it/s]\n"
     ]
    },
    {
     "name": "stdout",
     "output_type": "stream",
     "text": [
      "Nfiles = 186\n",
      "Total Events = 1.338e+10\n"
     ]
    }
   ],
   "source": [
    "rn_outb,re_outb=get_total_events_from_dir(f18_outbending_dir)"
   ]
  },
  {
   "cell_type": "code",
   "execution_count": 44,
   "id": "impossible-marriage",
   "metadata": {},
   "outputs": [],
   "source": [
    "def find_closest(list1, list2):\n",
    "    min_diff = float('inf')\n",
    "    min_elem1 = None\n",
    "    min_elem2 = None\n",
    "    for elem1 in list1:\n",
    "        for elem2 in list2:\n",
    "            diff = abs(elem1 - elem2)\n",
    "            if diff < min_diff:\n",
    "                min_diff = diff\n",
    "                min_elem1 = elem1\n",
    "                min_elem2 = elem2\n",
    "    return list1.index(min_elem1)"
   ]
  },
  {
   "cell_type": "code",
   "execution_count": 47,
   "id": "sought-intensity",
   "metadata": {},
   "outputs": [
    {
     "name": "stdout",
     "output_type": "stream",
     "text": [
      "5354 5649\n"
     ]
    }
   ],
   "source": [
    "idx=find_closest(re_inb,re_outb)\n",
    "print(rn_inb[idx],rn_outb[idx])"
   ]
  },
  {
   "cell_type": "code",
   "execution_count": 48,
   "id": "acceptable-preview",
   "metadata": {},
   "outputs": [
    {
     "name": "stdout",
     "output_type": "stream",
     "text": [
      "Number of Events: 76187\n",
      "Number of Piplus: 85066\n",
      "Number of Piminus: 77631\n",
      "Number of Dihadrons: 86763\n",
      "Dihadrons per event: 1.14\n"
     ]
    }
   ],
   "source": [
    "get_n_dihadrons(5354)"
   ]
  },
  {
   "cell_type": "code",
   "execution_count": 50,
   "id": "german-preliminary",
   "metadata": {},
   "outputs": [
    {
     "name": "stdout",
     "output_type": "stream",
     "text": [
      "100001531\n"
     ]
    }
   ],
   "source": [
    "print(re_inb[idx])"
   ]
  },
  {
   "cell_type": "code",
   "execution_count": 49,
   "id": "fossil-activation",
   "metadata": {},
   "outputs": [
    {
     "name": "stdout",
     "output_type": "stream",
     "text": [
      "Number of Events: 216588\n",
      "Number of Piplus: 227298\n",
      "Number of Piminus: 228895\n",
      "Number of Dihadrons: 240615\n",
      "Dihadrons per event: 1.11\n"
     ]
    }
   ],
   "source": [
    "get_n_dihadrons(5649)"
   ]
  },
  {
   "cell_type": "code",
   "execution_count": 51,
   "id": "weighted-librarian",
   "metadata": {},
   "outputs": [
    {
     "name": "stdout",
     "output_type": "stream",
     "text": [
      "100108833\n"
     ]
    }
   ],
   "source": [
    "print(re_outb[idx])"
   ]
  },
  {
   "cell_type": "markdown",
   "id": "missing-circular",
   "metadata": {},
   "source": [
    "---"
   ]
  },
  {
   "cell_type": "code",
   "execution_count": 4,
   "id": "plain-identifier",
   "metadata": {},
   "outputs": [],
   "source": [
    "import hipopy.hipopy\n",
    "import numpy as np\n",
    "import ROOT\n",
    "from particle import Particle\n",
    "import matplotlib.pyplot as plt\n",
    "from tqdm import tqdm\n",
    "plt.style.use('science')\n",
    "plt.rcParams.update({\n",
    "    \"text.usetex\": True,\n",
    "    \"font.family\": \"Helvetica\"\n",
    "})"
   ]
  },
  {
   "cell_type": "code",
   "execution_count": 11,
   "id": "comic-workstation",
   "metadata": {},
   "outputs": [],
   "source": [
    "def get_n_dihadrons_hipopy(file):\n",
    "    file = hipopy.hipopy.open(file,mode='r')\n",
    "    file.readBank('REC::Particle')\n",
    "    file.getNamesAndTypes('REC::Particle')\n",
    "    \n",
    "    Npiplus=0\n",
    "    Npiminus=0\n",
    "    Ndihadrons=0\n",
    "    N=0\n",
    "    for i,event in tqdm(enumerate(file)):\n",
    "        RECpid = np.array(file.getInts(\"REC::Particle\",\"pid\"))\n",
    "        if(np.sum(RECpid==11)==0):\n",
    "            continue\n",
    "        if(np.sum(RECpid==211)==0):\n",
    "            continue\n",
    "        if(np.sum(RECpid==-211)==0):\n",
    "            continue\n",
    "        n1=np.sum(RECpid==211)\n",
    "        n2=np.sum(RECpid==-211)\n",
    "        Npiplus+=n1\n",
    "        Npiminus+=n2\n",
    "        Ndihadrons+=(n1*n2)\n",
    "        N+=1\n",
    "    print(\"Number of Events:\",N)\n",
    "    print(\"Number of Piplus:\",Npiplus)\n",
    "    print(\"Number of Piminus:\",Npiminus)\n",
    "    print(\"Number of Dihadrons:\",Ndihadrons)\n",
    "    print(\"Dihadrons per event:\",np.round(Ndihadrons/N,2))"
   ]
  },
  {
   "cell_type": "code",
   "execution_count": 12,
   "id": "maritime-native",
   "metadata": {},
   "outputs": [
    {
     "name": "stderr",
     "output_type": "stream",
     "text": [
      "693136it [53:41, 215.18it/s]\n"
     ]
    },
    {
     "ename": "KeyboardInterrupt",
     "evalue": "",
     "output_type": "error",
     "traceback": [
      "\u001b[0;31m---------------------------------------------------------------------------\u001b[0m",
      "\u001b[0;31mKeyboardInterrupt\u001b[0m                         Traceback (most recent call last)",
      "\u001b[0;32m<ipython-input-12-53d3195204b7>\u001b[0m in \u001b[0;36m<module>\u001b[0;34m\u001b[0m\n\u001b[0;32m----> 1\u001b[0;31m \u001b[0mget_n_dihadrons_hipopy\u001b[0m\u001b[0;34m(\u001b[0m\u001b[0;34m'/cache/clas12/rg-a/production/recon/fall2018/torus-1/pass1/v1/dst/train/nSidis/nSidis_005354.hipo'\u001b[0m\u001b[0;34m)\u001b[0m\u001b[0;34m\u001b[0m\u001b[0;34m\u001b[0m\u001b[0m\n\u001b[0m",
      "\u001b[0;32m<ipython-input-11-0f9d2a0eb055>\u001b[0m in \u001b[0;36mget_n_dihadrons_hipopy\u001b[0;34m(file)\u001b[0m\n\u001b[1;32m      8\u001b[0m     \u001b[0mNdihadrons\u001b[0m\u001b[0;34m=\u001b[0m\u001b[0;36m0\u001b[0m\u001b[0;34m\u001b[0m\u001b[0;34m\u001b[0m\u001b[0m\n\u001b[1;32m      9\u001b[0m     \u001b[0mN\u001b[0m\u001b[0;34m=\u001b[0m\u001b[0;36m0\u001b[0m\u001b[0;34m\u001b[0m\u001b[0;34m\u001b[0m\u001b[0m\n\u001b[0;32m---> 10\u001b[0;31m     \u001b[0;32mfor\u001b[0m \u001b[0mi\u001b[0m\u001b[0;34m,\u001b[0m\u001b[0mevent\u001b[0m \u001b[0;32min\u001b[0m \u001b[0mtqdm\u001b[0m\u001b[0;34m(\u001b[0m\u001b[0menumerate\u001b[0m\u001b[0;34m(\u001b[0m\u001b[0mfile\u001b[0m\u001b[0;34m)\u001b[0m\u001b[0;34m)\u001b[0m\u001b[0;34m:\u001b[0m\u001b[0;34m\u001b[0m\u001b[0;34m\u001b[0m\u001b[0m\n\u001b[0m\u001b[1;32m     11\u001b[0m         \u001b[0mRECpid\u001b[0m \u001b[0;34m=\u001b[0m \u001b[0mnp\u001b[0m\u001b[0;34m.\u001b[0m\u001b[0marray\u001b[0m\u001b[0;34m(\u001b[0m\u001b[0mfile\u001b[0m\u001b[0;34m.\u001b[0m\u001b[0mgetInts\u001b[0m\u001b[0;34m(\u001b[0m\u001b[0;34m\"REC::Particle\"\u001b[0m\u001b[0;34m,\u001b[0m\u001b[0;34m\"pid\"\u001b[0m\u001b[0;34m)\u001b[0m\u001b[0;34m)\u001b[0m\u001b[0;34m\u001b[0m\u001b[0;34m\u001b[0m\u001b[0m\n\u001b[1;32m     12\u001b[0m         \u001b[0;32mif\u001b[0m\u001b[0;34m(\u001b[0m\u001b[0mnp\u001b[0m\u001b[0;34m.\u001b[0m\u001b[0msum\u001b[0m\u001b[0;34m(\u001b[0m\u001b[0mRECpid\u001b[0m\u001b[0;34m==\u001b[0m\u001b[0;36m11\u001b[0m\u001b[0;34m)\u001b[0m\u001b[0;34m==\u001b[0m\u001b[0;36m0\u001b[0m\u001b[0;34m)\u001b[0m\u001b[0;34m:\u001b[0m\u001b[0;34m\u001b[0m\u001b[0;34m\u001b[0m\u001b[0m\n",
      "\u001b[0;32m~/.local/lib/python3.8/site-packages/tqdm/std.py\u001b[0m in \u001b[0;36m__iter__\u001b[0;34m(self)\u001b[0m\n\u001b[1;32m   1176\u001b[0m \u001b[0;34m\u001b[0m\u001b[0m\n\u001b[1;32m   1177\u001b[0m         \u001b[0;32mtry\u001b[0m\u001b[0;34m:\u001b[0m\u001b[0;34m\u001b[0m\u001b[0;34m\u001b[0m\u001b[0m\n\u001b[0;32m-> 1178\u001b[0;31m             \u001b[0;32mfor\u001b[0m \u001b[0mobj\u001b[0m \u001b[0;32min\u001b[0m \u001b[0miterable\u001b[0m\u001b[0;34m:\u001b[0m\u001b[0;34m\u001b[0m\u001b[0;34m\u001b[0m\u001b[0m\n\u001b[0m\u001b[1;32m   1179\u001b[0m                 \u001b[0;32myield\u001b[0m \u001b[0mobj\u001b[0m\u001b[0;34m\u001b[0m\u001b[0;34m\u001b[0m\u001b[0m\n\u001b[1;32m   1180\u001b[0m                 \u001b[0;31m# Update and possibly print the progressbar.\u001b[0m\u001b[0;34m\u001b[0m\u001b[0;34m\u001b[0m\u001b[0;34m\u001b[0m\u001b[0m\n",
      "\u001b[0;32m~/.local/lib/python3.8/site-packages/hipopy/hipopy.py\u001b[0m in \u001b[0;36m__next__\u001b[0;34m(self)\u001b[0m\n\u001b[1;32m    799\u001b[0m                 \u001b[0mself\u001b[0m\u001b[0;34m.\u001b[0m\u001b[0mhipofile\u001b[0m\u001b[0;34m.\u001b[0m\u001b[0mevent\u001b[0m\u001b[0;34m.\u001b[0m\u001b[0mgetStructure\u001b[0m\u001b[0;34m(\u001b[0m\u001b[0mself\u001b[0m\u001b[0;34m.\u001b[0m\u001b[0mhipofile\u001b[0m\u001b[0;34m.\u001b[0m\u001b[0mbanklist\u001b[0m\u001b[0;34m[\u001b[0m\u001b[0mbank\u001b[0m\u001b[0;34m]\u001b[0m\u001b[0;34m)\u001b[0m\u001b[0;31m#NOTE: NECESSARY OR YOU WILL NOT READ ANY DATA!\u001b[0m\u001b[0;34m\u001b[0m\u001b[0;34m\u001b[0m\u001b[0m\n\u001b[1;32m    800\u001b[0m                 \u001b[0;32mfor\u001b[0m \u001b[0mitem\u001b[0m \u001b[0;32min\u001b[0m \u001b[0mself\u001b[0m\u001b[0;34m.\u001b[0m\u001b[0mitems\u001b[0m\u001b[0;34m[\u001b[0m\u001b[0mbank\u001b[0m\u001b[0;34m]\u001b[0m\u001b[0;34m:\u001b[0m\u001b[0;34m\u001b[0m\u001b[0;34m\u001b[0m\u001b[0m\n\u001b[0;32m--> 801\u001b[0;31m                     \u001b[0mdata\u001b[0m \u001b[0;34m=\u001b[0m \u001b[0;34m[\u001b[0m\u001b[0;34m]\u001b[0m\u001b[0;34m\u001b[0m\u001b[0;34m\u001b[0m\u001b[0m\n\u001b[0m\u001b[1;32m    802\u001b[0m                     \u001b[0;32mif\u001b[0m   \u001b[0mself\u001b[0m\u001b[0;34m.\u001b[0m\u001b[0mitems\u001b[0m\u001b[0;34m[\u001b[0m\u001b[0mbank\u001b[0m\u001b[0;34m]\u001b[0m\u001b[0;34m[\u001b[0m\u001b[0mitem\u001b[0m\u001b[0;34m]\u001b[0m\u001b[0;34m==\u001b[0m\u001b[0;34m\"D\"\u001b[0m\u001b[0;34m:\u001b[0m \u001b[0mdata\u001b[0m \u001b[0;34m=\u001b[0m \u001b[0mself\u001b[0m\u001b[0;34m.\u001b[0m\u001b[0mhipofile\u001b[0m\u001b[0;34m.\u001b[0m\u001b[0mgetDoubles\u001b[0m\u001b[0;34m(\u001b[0m\u001b[0mbank\u001b[0m\u001b[0;34m,\u001b[0m\u001b[0mitem\u001b[0m\u001b[0;34m)\u001b[0m\u001b[0;34m\u001b[0m\u001b[0;34m\u001b[0m\u001b[0m\n\u001b[1;32m    803\u001b[0m                     \u001b[0;32melif\u001b[0m \u001b[0mself\u001b[0m\u001b[0;34m.\u001b[0m\u001b[0mitems\u001b[0m\u001b[0;34m[\u001b[0m\u001b[0mbank\u001b[0m\u001b[0;34m]\u001b[0m\u001b[0;34m[\u001b[0m\u001b[0mitem\u001b[0m\u001b[0;34m]\u001b[0m\u001b[0;34m==\u001b[0m\u001b[0;34m\"I\"\u001b[0m\u001b[0;34m:\u001b[0m \u001b[0mdata\u001b[0m \u001b[0;34m=\u001b[0m \u001b[0mself\u001b[0m\u001b[0;34m.\u001b[0m\u001b[0mhipofile\u001b[0m\u001b[0;34m.\u001b[0m\u001b[0mgetInts\u001b[0m\u001b[0;34m(\u001b[0m\u001b[0mbank\u001b[0m\u001b[0;34m,\u001b[0m\u001b[0mitem\u001b[0m\u001b[0;34m)\u001b[0m\u001b[0;34m\u001b[0m\u001b[0;34m\u001b[0m\u001b[0m\n",
      "\u001b[0;31mKeyboardInterrupt\u001b[0m: "
     ]
    },
    {
     "name": "stdout",
     "output_type": "stream",
     "text": [
      "Error in callback <bound method StreamCapture.post_execute of <JupyROOT.helpers.utils.StreamCapture object at 0x7f4dc69f0070>> (for post_execute):\n"
     ]
    },
    {
     "ename": "KeyboardInterrupt",
     "evalue": "",
     "output_type": "error",
     "traceback": [
      "\u001b[0;31m---------------------------------------------------------------------------\u001b[0m",
      "\u001b[0;31mKeyboardInterrupt\u001b[0m                         Traceback (most recent call last)",
      "\u001b[0;32m/opt/root/lib/JupyROOT/helpers/utils.py\u001b[0m in \u001b[0;36mpost_execute\u001b[0;34m(self)\u001b[0m\n\u001b[1;32m    335\u001b[0m             \u001b[0;32mreturn\u001b[0m \u001b[0;36m0\u001b[0m\u001b[0;34m\u001b[0m\u001b[0;34m\u001b[0m\u001b[0m\n\u001b[1;32m    336\u001b[0m         \u001b[0mself\u001b[0m\u001b[0;34m.\u001b[0m\u001b[0mflag\u001b[0m \u001b[0;34m=\u001b[0m \u001b[0;32mFalse\u001b[0m\u001b[0;34m\u001b[0m\u001b[0;34m\u001b[0m\u001b[0m\n\u001b[0;32m--> 337\u001b[0;31m         \u001b[0mself\u001b[0m\u001b[0;34m.\u001b[0m\u001b[0masyncCapturer\u001b[0m\u001b[0;34m.\u001b[0m\u001b[0mWait\u001b[0m\u001b[0;34m(\u001b[0m\u001b[0;34m)\u001b[0m\u001b[0;34m\u001b[0m\u001b[0;34m\u001b[0m\u001b[0m\n\u001b[0m\u001b[1;32m    338\u001b[0m         \u001b[0mself\u001b[0m\u001b[0;34m.\u001b[0m\u001b[0mioHandler\u001b[0m\u001b[0;34m.\u001b[0m\u001b[0mPoll\u001b[0m\u001b[0;34m(\u001b[0m\u001b[0;34m)\u001b[0m\u001b[0;34m\u001b[0m\u001b[0;34m\u001b[0m\u001b[0m\n\u001b[1;32m    339\u001b[0m         \u001b[0mself\u001b[0m\u001b[0;34m.\u001b[0m\u001b[0mioHandler\u001b[0m\u001b[0;34m.\u001b[0m\u001b[0mEndCapture\u001b[0m\u001b[0;34m(\u001b[0m\u001b[0;34m)\u001b[0m\u001b[0;34m\u001b[0m\u001b[0;34m\u001b[0m\u001b[0m\n",
      "\u001b[0;32m/opt/root/lib/JupyROOT/helpers/handlers.py\u001b[0m in \u001b[0;36mWait\u001b[0;34m(self)\u001b[0m\n\u001b[1;32m    132\u001b[0m     \u001b[0;32mdef\u001b[0m \u001b[0mWait\u001b[0m\u001b[0;34m(\u001b[0m\u001b[0mself\u001b[0m\u001b[0;34m)\u001b[0m\u001b[0;34m:\u001b[0m\u001b[0;34m\u001b[0m\u001b[0;34m\u001b[0m\u001b[0m\n\u001b[1;32m    133\u001b[0m         \u001b[0;32mwhile\u001b[0m \u001b[0mself\u001b[0m\u001b[0;34m.\u001b[0m\u001b[0mpoller\u001b[0m\u001b[0;34m.\u001b[0m\u001b[0mis_running\u001b[0m\u001b[0;34m:\u001b[0m\u001b[0;34m\u001b[0m\u001b[0;34m\u001b[0m\u001b[0m\n\u001b[0;32m--> 134\u001b[0;31m             \u001b[0mtimeSleep\u001b[0m\u001b[0;34m(\u001b[0m\u001b[0;36m.1\u001b[0m\u001b[0;34m)\u001b[0m\u001b[0;34m\u001b[0m\u001b[0;34m\u001b[0m\u001b[0m\n\u001b[0m\u001b[1;32m    135\u001b[0m \u001b[0;34m\u001b[0m\u001b[0m\n\u001b[1;32m    136\u001b[0m     \u001b[0;32mdef\u001b[0m \u001b[0mHasFinished\u001b[0m\u001b[0;34m(\u001b[0m\u001b[0mself\u001b[0m\u001b[0;34m)\u001b[0m\u001b[0;34m:\u001b[0m\u001b[0;34m\u001b[0m\u001b[0;34m\u001b[0m\u001b[0m\n",
      "\u001b[0;31mKeyboardInterrupt\u001b[0m: "
     ]
    }
   ],
   "source": [
    "get_n_dihadrons_hipopy('/cache/clas12/rg-a/production/recon/fall2018/torus-1/pass1/v1/dst/train/nSidis/nSidis_005354.hipo')"
   ]
  },
  {
   "cell_type": "code",
   "execution_count": null,
   "id": "curious-bulgarian",
   "metadata": {},
   "outputs": [],
   "source": [
    "get_n_dihadrons_hipopy('/cache/clas12/rg-a/production/recon/fall2018/torus+1/pass1/v1/dst/train/nSidis/nSidis_005649.hipo')"
   ]
  },
  {
   "cell_type": "code",
   "execution_count": null,
   "id": "pleasant-america",
   "metadata": {},
   "outputs": [],
   "source": []
  }
 ],
 "metadata": {
  "kernelspec": {
   "display_name": "Python 3",
   "language": "python",
   "name": "python3"
  },
  "language_info": {
   "codemirror_mode": {
    "name": "ipython",
    "version": 3
   },
   "file_extension": ".py",
   "mimetype": "text/x-python",
   "name": "python",
   "nbconvert_exporter": "python",
   "pygments_lexer": "ipython3",
   "version": "3.8.6"
  }
 },
 "nbformat": 4,
 "nbformat_minor": 5
}

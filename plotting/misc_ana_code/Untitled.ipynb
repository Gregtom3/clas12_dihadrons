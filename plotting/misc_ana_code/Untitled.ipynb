{
 "cells": [
  {
   "cell_type": "code",
   "execution_count": 12,
   "id": "chemical-irrigation",
   "metadata": {},
   "outputs": [],
   "source": [
    "import ROOT\n",
    "ROOT.gStyle.SetPalette(ROOT.kRainBow)"
   ]
  },
  {
   "cell_type": "code",
   "execution_count": 49,
   "id": "acknowledged-ukraine",
   "metadata": {},
   "outputs": [],
   "source": [
    "file = ROOT.TFile(f\"../../projects/ana_v2/volatile/data/piplus_pi0/nSidis_RGA_5036.root\")\n",
    "tree = file.Get(\"dihadron\")"
   ]
  },
  {
   "cell_type": "code",
   "execution_count": 37,
   "id": "variable-dividend",
   "metadata": {},
   "outputs": [
    {
     "name": "stderr",
     "output_type": "stream",
     "text": [
      "Warning in <TFile::Append>: Replacing existing TH1: h1 (Potential memory leak).\n",
      "Warning in <TFile::Append>: Replacing existing TH1: h2 (Potential memory leak).\n"
     ]
    },
    {
     "data": {
      "image/png": "[encoded data removed]",
      "text/plain": [
       "<IPython.core.display.Image object>"
      ]
     },
     "metadata": {},
     "output_type": "display_data"
    }
   ],
   "source": [
    "c=ROOT.TCanvas()\n",
    "h1=ROOT.TH1F(\"h1\",\"\",100,0.106,0.16)\n",
    "h2=ROOT.TH1F(\"h2\",\"\",100,0.106,0.16)\n",
    "tree.Draw(\"M2>>h1\",\"p_21>0.9&&p_22>0.9&&xF1>0&&xF2>0&&P1>1.25\",\"PLC hist\")\n",
    "tree.Draw(\"M2>>h2\",\"isGoodEventWithoutML==1&&xF1>0&&xF2>0&&P1>1.25\",\"PLC hist same\")\n",
    "c.Draw()"
   ]
  },
  {
   "cell_type": "code",
   "execution_count": 1,
   "id": "fatty-scratch",
   "metadata": {},
   "outputs": [
    {
     "name": "stdout",
     "output_type": "stream",
     "text": [
      "Welcome to JupyROOT 6.22/06\n"
     ]
    }
   ],
   "source": [
    "import ROOT\n",
    "file = ROOT.TFile(f\"../../projects/ana_v2/volatile/data/piplus_pi0/nSidis_RGA_5036.root\")\n",
    "tree = file.Get(\"dihadron\")"
   ]
  },
  {
   "cell_type": "code",
   "execution_count": 2,
   "id": "substantial-suggestion",
   "metadata": {},
   "outputs": [
    {
     "name": "stdout",
     "output_type": "stream",
     "text": [
      "22608/6986=3.2361866590323505\n"
     ]
    }
   ],
   "source": [
    "nML=tree.GetEntries(\"p_21>0.9&&p_22>0.9&&M2>0.106&&M2<0.164&&xF1>0.0&&xF1<1.0&&xF2>0.0&&xF2<1.0&&z>0.0&&z<0.95\")\n",
    "nNoML=tree.GetEntries(\"isGoodEventWithoutML==1&&M2>0.106&&M2<0.164&&xF1>0.0&&xF1<1.0&&xF2>0.0&&xF2<1.0&&z>0.0&&z<0.95 \")\n",
    "\n",
    "print(f\"{nML}/{nNoML}={nML/nNoML}\")"
   ]
  },
  {
   "cell_type": "code",
   "execution_count": 46,
   "id": "quantitative-journal",
   "metadata": {},
   "outputs": [
    {
     "data": {
      "text/plain": [
       "854"
      ]
     },
     "execution_count": 46,
     "metadata": {},
     "output_type": "execute_result"
    }
   ],
   "source": []
  },
  {
   "cell_type": "code",
   "execution_count": 80,
   "id": "subject-rabbit",
   "metadata": {},
   "outputs": [],
   "source": [
    "import ROOT\n",
    "#file = ROOT.TFile(f\"../../projects/ana_v2/volatile/data/piplus_piminus/nSidis_RGA_5036.root\")\n",
    "file = ROOT.TFile(f\"../../macros/hipo2tree.root\")\n",
    "tree = file.Get(\"dihadron\")"
   ]
  },
  {
   "cell_type": "code",
   "execution_count": 81,
   "id": "weighted-trash",
   "metadata": {},
   "outputs": [
    {
     "data": {
      "text/plain": [
       "8283"
      ]
     },
     "execution_count": 81,
     "metadata": {},
     "output_type": "execute_result"
    }
   ],
   "source": [
    "tree.GetEntries(\"xF1>0&xF2>0&&P1>1.25&&P2>1.25&&z<0.95&&Mx>1.5&&z>0\")"
   ]
  },
  {
   "cell_type": "code",
   "execution_count": 76,
   "id": "artificial-survivor",
   "metadata": {},
   "outputs": [
    {
     "name": "stdout",
     "output_type": "stream",
     "text": [
      "PASSED CUTS: P1= 1.799098610877991 |P2= 1.4904111623764036 |x= 0.12430007387376454 |phih= -3.044114227101453 \n",
      "\n",
      "\n",
      "\n",
      "FAILED CUTS: P1= 2.527595758438111 |P2= 1.0529227256774902 |x= 0.3506600124127082 |phih= 2.289675334549418 \n",
      "\n",
      "\n",
      "\n"
     ]
    }
   ],
   "source": [
    "Mh1=[]\n",
    "for iev in tree:\n",
    "    xF1=iev.xF1\n",
    "    xF2=iev.xF2\n",
    "    P1=iev.P1\n",
    "    P2=iev.P2\n",
    "    z=iev.z\n",
    "    Mx=iev.Mx\n",
    "    if(xF1>0 and xF2>0 and P1>1.25 and P2>1.25 and z<0.95 and Mx>1.5):\n",
    "        Mh1.append(iev.Mh)\n",
    "        if(abs(iev.Mh-0.9986428457288127)<epsilon):\n",
    "            print(\"PASSED CUTS: P1=\",iev.P1,\"|P2=\",iev.P2,\"|x=\",iev.x,\"|phih=\",iev.phi_h,\"\\n\\n\\n\")\n",
    "    else:\n",
    "        if(abs(iev.Mh-0.9986428457288127)<epsilon):\n",
    "            print(\"FAILED CUTS: P1=\",iev.P1,\"|P2=\",iev.P2,\"|x=\",iev.x,\"|phih=\",iev.phi_h,\"\\n\\n\\n\")"
   ]
  },
  {
   "cell_type": "code",
   "execution_count": 78,
   "id": "continental-pointer",
   "metadata": {},
   "outputs": [],
   "source": [
    "file = ROOT.TFile(f\"../../../../Phih/data_pippim/nSidis_5036_inbending.root\")\n",
    "tree = file.Get(\"tree\")"
   ]
  },
  {
   "cell_type": "code",
   "execution_count": 79,
   "id": "stunning-subscriber",
   "metadata": {},
   "outputs": [
    {
     "name": "stdout",
     "output_type": "stream",
     "text": [
      "x= 0.2215786725282669 |phi_h= 2.791003465652466 |P1= 1.7990649938583374 |P2= 0.45731064677238464\n",
      "cA: 1\n",
      "cB: 0\n",
      "cC: 1\n",
      "cD: 1\n",
      "cE: 1\n",
      "cF: 1\n",
      "cG: 1\n",
      "cH: 1\n",
      "cI: 1\n",
      "cJ: 1\n",
      "cL: 1\n",
      "cM: 0\n",
      "cN: 1\n",
      "cO: 1\n",
      "cP: 1\n",
      "cQ: 1\n",
      "cR: 0\n",
      "cS: 1\n",
      "cT: 1\n",
      "cU: 1\n",
      "cV: 1\n",
      "cW: 1\n",
      "\n",
      "\n",
      "\n",
      "\n",
      "x= 0.19392508268356323 |phi_h= -0.6541341543197632 |P1= 1.7991336584091187 |P2= 0.9218111038208008\n",
      "cA: 1\n",
      "cB: 0\n",
      "cC: 1\n",
      "cD: 1\n",
      "cE: 1\n",
      "cF: 1\n",
      "cG: 1\n",
      "cH: 1\n",
      "cI: 1\n",
      "cJ: 1\n",
      "cL: 1\n",
      "cM: 0\n",
      "cN: 1\n",
      "cO: 1\n",
      "cP: 1\n",
      "cQ: 1\n",
      "cR: 1\n",
      "cS: 1\n",
      "cT: 1\n",
      "cU: 1\n",
      "cV: 1\n",
      "cW: 1\n",
      "\n",
      "\n",
      "\n",
      "\n",
      "x= 0.11475792527198792 |phi_h= -1.1632559299468994 |P1= 1.7991658449172974 |P2= 2.711740493774414\n",
      "cA: 0\n",
      "cB: 1\n",
      "cC: 1\n",
      "cD: 1\n",
      "cE: 1\n",
      "cF: 1\n",
      "cG: 0\n",
      "cH: 1\n",
      "cI: 1\n",
      "cJ: 1\n",
      "cL: 1\n",
      "cM: 1\n",
      "cN: 1\n",
      "cO: 1\n",
      "cP: 1\n",
      "cQ: 1\n",
      "cR: 1\n",
      "cS: 1\n",
      "cT: 1\n",
      "cU: 1\n",
      "cV: 1\n",
      "cW: 1\n",
      "\n",
      "\n",
      "\n",
      "\n",
      "x= 0.20367783308029175 |phi_h= 2.3352723121643066 |P1= 1.7991902828216553 |P2= 1.9056062698364258\n",
      "cA: 1\n",
      "cB: 1\n",
      "cC: 1\n",
      "cD: 1\n",
      "cE: 1\n",
      "cF: 1\n",
      "cG: 1\n",
      "cH: 1\n",
      "cI: 1\n",
      "cJ: 1\n",
      "cL: 1\n",
      "cM: 1\n",
      "cN: 1\n",
      "cO: 1\n",
      "cP: 0\n",
      "cQ: 1\n",
      "cR: 1\n",
      "cS: 1\n",
      "cT: 1\n",
      "cU: 1\n",
      "cV: 1\n",
      "cW: 1\n",
      "\n",
      "\n",
      "\n",
      "\n",
      "x= 0.3706793487071991 |phi_h= 2.334958553314209 |P1= 1.7990509271621704 |P2= 1.3842203617095947\n",
      "cA: 1\n",
      "cB: 1\n",
      "cC: 1\n",
      "cD: 1\n",
      "cE: 1\n",
      "cF: 1\n",
      "cG: 1\n",
      "cH: 1\n",
      "cI: 1\n",
      "cJ: 1\n",
      "cL: 1\n",
      "cM: 1\n",
      "cN: 0\n",
      "cO: 1\n",
      "cP: 1\n",
      "cQ: 1\n",
      "cR: 1\n",
      "cS: 1\n",
      "cT: 1\n",
      "cU: 1\n",
      "cV: 1\n",
      "cW: 1\n",
      "\n",
      "\n",
      "\n",
      "\n",
      "x= 0.27971163392066956 |phi_h= 2.7535836696624756 |P1= 1.7990871667861938 |P2= 1.1159218549728394\n",
      "cA: 1\n",
      "cB: 0\n",
      "cC: 1\n",
      "cD: 1\n",
      "cE: 1\n",
      "cF: 1\n",
      "cG: 1\n",
      "cH: 1\n",
      "cI: 1\n",
      "cJ: 1\n",
      "cL: 1\n",
      "cM: 0\n",
      "cN: 1\n",
      "cO: 1\n",
      "cP: 1\n",
      "cQ: 1\n",
      "cR: 1\n",
      "cS: 1\n",
      "cT: 1\n",
      "cU: 1\n",
      "cV: 1\n",
      "cW: 1\n",
      "\n",
      "\n",
      "\n",
      "\n"
     ]
    }
   ],
   "source": [
    "Mh2=[]\n",
    "for iev in tree:\n",
    "    cA=iev.cA\n",
    "    cB=iev.cB\n",
    "    cC=iev.cC\n",
    "    cD=iev.cD\n",
    "    cE=iev.cE\n",
    "    cF=iev.cF\n",
    "    cG=iev.cG\n",
    "    cH=iev.cH\n",
    "    cI=iev.cI\n",
    "    cJ=iev.cJ\n",
    "    cK=iev.cK\n",
    "    cL=iev.cL\n",
    "    cM=iev.cM\n",
    "    cN=iev.cN\n",
    "    cO=iev.cO\n",
    "    cP=iev.cP\n",
    "    cQ=iev.cQ\n",
    "    cR=iev.cR\n",
    "    cS=iev.cS\n",
    "    cT=iev.cT\n",
    "    cU=iev.cU\n",
    "    cV=iev.cV\n",
    "    cW=iev.cW\n",
    "    if cA == cB == cC == cD == cE == cF == cG == cH == cI == cJ == cL == cM == cN == cO == cP == cQ == cR == cS == cT == cU == cV == cW == 1:\n",
    "        Mh2.append(iev.Mh)\n",
    "    if(abs(iev.P1-1.799098610877991)<0.0001):\n",
    "    #if(abs(iev.Mh-0.9986428457288127)<epsilon):\n",
    "        print(\"x=\",iev.x,\"|phi_h=\",iev.phih,\"|P1=\",iev.P1,\"|P2=\",iev.P2)\n",
    "        print(\"cA:\",cA)\n",
    "        print(\"cB:\",cB)\n",
    "        print(\"cC:\",cC)\n",
    "        print(\"cD:\",cD)\n",
    "        print(\"cE:\",cE)\n",
    "        print(\"cF:\",cF)\n",
    "        print(\"cG:\",cG)\n",
    "        print(\"cH:\",cH)\n",
    "        print(\"cI:\",cI)\n",
    "        print(\"cJ:\",cJ)\n",
    "        print(\"cL:\",cL)\n",
    "        print(\"cM:\",cM)\n",
    "        print(\"cN:\",cN)\n",
    "        print(\"cO:\",cO)\n",
    "        print(\"cP:\",cP)\n",
    "        print(\"cQ:\",cQ)\n",
    "        print(\"cR:\",cR)\n",
    "        print(\"cS:\",cS)\n",
    "        print(\"cT:\",cT)\n",
    "        print(\"cU:\",cU)\n",
    "        print(\"cV:\",cV)\n",
    "        print(\"cW:\",cW)\n",
    "        print(\"\\n\\n\\n\")"
   ]
  },
  {
   "cell_type": "code",
   "execution_count": 31,
   "id": "hindu-wrong",
   "metadata": {},
   "outputs": [
    {
     "name": "stdout",
     "output_type": "stream",
     "text": [
      "[0.9176745109782712, 0.5796799111106661, 0.9986428457288127, 0.6428415571587481, 1.0285491524488413, 0.7375993755642689, 0.5219704111327202, 0.355642095546632, 0.9259163941759172, 0.32288746148321884, 0.7231406533769681, 1.0154172731001205, 0.39992508189962467, 0.6817665941463322, 0.9479185411070666, 1.3178157371390256, 0.5160488924531301, 0.5433721855142182, 1.171011725907026, 0.5771591734835271, 0.821098647216695, 0.522121125284636, 1.1252705574181747, 0.7751870092566167, 0.7198671025613989, 0.8078371133297716, 0.5740805559773902, 0.8998410351705328, 0.6762228092719936, 0.9528659385300549, 0.4104136498860627, 0.378372157869574, 1.3446552082789303, 0.7884988770354466, 0.7573250740500155, 1.148701267188854, 0.79987308318905, 0.721153577363736, 0.9419466515318904, 1.013597111634802, 0.745000295643809, 0.7383874416538704, 0.5957441241083725, 1.0516059597202607, 0.33596089292488884, 1.1135459745740295, 0.6359998196254513, 0.5027535034533699, 0.7503978290951648, 0.5053949354176177, 0.9053440034001139, 1.1403635913999084, 0.5474647056785614, 0.6534968521901786, 1.0491740372171547, 0.9722685353879214, 0.9043904726597752, 0.7789425647463972, 1.1053334946165936, 1.2228143108622218, 0.4976523938727478, 0.3410398960612644, 1.2419025447655856, 0.48605513681023726, 0.7202541987788681, 1.0745203181031253, 0.3248910744266793, 0.6922468350416859, 0.7577847327200434, 1.3064562197022238, 1.061582048309848, 0.9030239915092145, 0.3985392405196267, 0.5184948092410605, 1.2459607639527628, 0.7435321325707236, 0.6479681058467253, 0.8151870594467784, 0.8071480742674566, 0.6533607464615128]\n"
     ]
    }
   ],
   "source": [
    "epsilon = 0.00001\n",
    "\n",
    "result = [x for x in Mh1 if all(abs(x - y) > epsilon for y in Mh2)]\n",
    "\n",
    "print(result)"
   ]
  },
  {
   "cell_type": "code",
   "execution_count": 32,
   "id": "broken-manchester",
   "metadata": {},
   "outputs": [
    {
     "data": {
      "text/plain": [
       "80"
      ]
     },
     "execution_count": 32,
     "metadata": {},
     "output_type": "execute_result"
    }
   ],
   "source": [
    "len(result)"
   ]
  },
  {
   "cell_type": "code",
   "execution_count": 1,
   "id": "great-shadow",
   "metadata": {},
   "outputs": [
    {
     "name": "stdout",
     "output_type": "stream",
     "text": [
      "Welcome to JupyROOT 6.22/06\n"
     ]
    }
   ],
   "source": [
    "import ROOT"
   ]
  },
  {
   "cell_type": "code",
   "execution_count": 7,
   "id": "danish-international",
   "metadata": {},
   "outputs": [
    {
     "data": {
      "image/png": "[encoded data removed]",
      "text/plain": [
       "<IPython.core.display.Image object>"
      ]
     },
     "metadata": {},
     "output_type": "display_data"
    }
   ],
   "source": [
    "f=ROOT.TFile(\"../../projects/ana_v0/volatile/data/piplus_piminus/Fall2018_RGA_inbending_merged_cuts.root\")\n",
    "t=f.Get(\"dihadron_cuts\")\n",
    "c=ROOT.TCanvas()\n",
    "t.Draw(\"x\")\n",
    "c.Draw()"
   ]
  },
  {
   "cell_type": "code",
   "execution_count": 14,
   "id": "available-holmes",
   "metadata": {},
   "outputs": [
    {
     "data": {
      "image/png": "[encoded data removed]",
      "text/plain": [
       "<IPython.core.display.Image object>"
      ]
     },
     "metadata": {},
     "output_type": "display_data"
    }
   ],
   "source": [
    "f=ROOT.TFile(\"../../projects/ana_v0/volatile/data/piplus_piminus/Fall2019_RGB_outbending_merged.root\")\n",
    "t=f.Get(\"dihadron\")\n",
    "c=ROOT.TCanvas()\n",
    "t.Draw(\"run\")\n",
    "c.Draw()"
   ]
  },
  {
   "cell_type": "code",
   "execution_count": null,
   "id": "similar-mouth",
   "metadata": {},
   "outputs": [],
   "source": []
  }
 ],
 "metadata": {
  "kernelspec": {
   "display_name": "Python 3",
   "language": "python",
   "name": "python3"
  },
  "language_info": {
   "codemirror_mode": {
    "name": "ipython",
    "version": 3
   },
   "file_extension": ".py",
   "mimetype": "text/x-python",
   "name": "python",
   "nbconvert_exporter": "python",
   "pygments_lexer": "ipython3",
   "version": "3.8.6"
  }
 },
 "nbformat": 4,
 "nbformat_minor": 5
}

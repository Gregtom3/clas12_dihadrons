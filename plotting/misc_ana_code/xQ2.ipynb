{
 "cells": [
  {
   "cell_type": "code",
   "execution_count": 2,
   "id": "fuzzy-assessment",
   "metadata": {},
   "outputs": [
    {
     "name": "stdout",
     "output_type": "stream",
     "text": [
      "Welcome to JupyROOT 6.22/06\n"
     ]
    },
    {
     "name": "stderr",
     "output_type": "stream",
     "text": [
      "Matplotlib created a temporary config/cache directory at /tmp/matplotlib-t4umb0y6 because the default path (/home/jovyan/.cache/matplotlib) is not a writable directory; it is highly recommended to set the MPLCONFIGDIR environment variable to a writable directory, in particular to speed up the import of Matplotlib and to better support multiprocessing.\n"
     ]
    }
   ],
   "source": [
    "import ROOT\n",
    "from array import array\n",
    "import numpy as np\n",
    "import scipy\n",
    "import copy\n",
    "import matplotlib.path as mpath\n",
    "import matplotlib.pyplot as plt"
   ]
  },
  {
   "cell_type": "markdown",
   "id": "bibliographic-recycling",
   "metadata": {},
   "source": [
    "# New plotting code"
   ]
  },
  {
   "cell_type": "code",
   "execution_count": 3,
   "id": "false-tongue",
   "metadata": {},
   "outputs": [],
   "source": [
    "# Function to generate logarithmically spaced bins\n",
    "def logspace_bins(start, stop, num):\n",
    "    return np.logspace(np.log10(start), np.log10(stop), num)"
   ]
  },
  {
   "cell_type": "code",
   "execution_count": 4,
   "id": "thousand-certificate",
   "metadata": {},
   "outputs": [],
   "source": [
    "def create_boundary_tgraph(boundary_exprs, n_points=1000,repl=[\"x\",\"Q2\"]):\n",
    "    # Define the range of x and y values\n",
    "    if(repl==[\"x\",\"Q2\"]):\n",
    "        x_vals = np.linspace(0, 1, 1000)\n",
    "        y_vals = np.linspace(0, 20, 1000)\n",
    "    elif(repl==[\"z\",\"pTtot\"]):\n",
    "        x_vals = np.linspace(-0.1, 1.1, 1000)\n",
    "        y_vals = np.linspace(-0.1, 3, 1000)\n",
    "    else:\n",
    "        x_vals = np.linspace(0, 1, 1000)\n",
    "        y_vals = np.linspace(0, 20, 1000)\n",
    "    # Create a meshgrid from x and y values\n",
    "    x, y = np.meshgrid(x_vals, y_vals)\n",
    "\n",
    "    # Evaluate the inequalities for each point in the meshgrid\n",
    "    ineq = np.ones_like(x, dtype=bool)\n",
    "    for inequality in boundary_exprs:\n",
    "        inequality=inequality.replace(repl[1],\"y\").replace(repl[0],\"x\")\n",
    "        ineq = np.logical_and(ineq, eval(inequality))\n",
    "\n",
    "    # Define the levels of the contour plot\n",
    "    levels = [0.5, 1]\n",
    "\n",
    "    # Create a contour plot of the inequalities\n",
    "    contour_data= plt.contour(x, y, ineq, levels=levels, colors='k')\n",
    "    # Hide the plot\n",
    "    plt.close()\n",
    "    xy_points = np.array(contour_data.collections[0].get_paths()[0].vertices)\n",
    "    x=xy_points[:,0]\n",
    "    y=xy_points[:,1]\n",
    "    \n",
    "    # Create the TGraph object\n",
    "    graph = ROOT.TGraph(len(x), array('d', x), array('d', y))\n",
    "\n",
    "    # Set the title and axis labels\n",
    "    graph.SetTitle(\"My Graph\")\n",
    "    graph.GetXaxis().SetTitle(\"X Axis\")\n",
    "    graph.GetYaxis().SetTitle(\"Y Axis\")\n",
    "    graph.SetLineColor(1)\n",
    "    graph.SetLineWidth(2)\n",
    "    \n",
    "    return graph"
   ]
  },
  {
   "cell_type": "code",
   "execution_count": 5,
   "id": "focal-times",
   "metadata": {},
   "outputs": [],
   "source": [
    "def generate_input_boundaries(x_bins, add_middle_cut):\n",
    "    low_Q2_cut = \"Q2>0.9253 + 3.8613 * x + -9.4351 * x*x + 16.9292 * x*x*x + 17.2332 * x*x*x*x\"\n",
    "    middle_Q2_cut=\"0.6361935324019532 + 5.961630973508846*x + 12.028695097029118*x*x\"\n",
    "    high_Q2_cut = \"Q2<x*17\"\n",
    "    input_boundaries = []\n",
    "    \n",
    "    for i in range(len(x_bins)):\n",
    "        x_min=x_bins[i][0]\n",
    "        x_max=x_bins[i][1]\n",
    "        input_boundary = [f\"x<={x_max}\", f\"x>={x_min}\"]\n",
    "        if(add_middle_cut[i]==-1):\n",
    "            input_boundary.append(f\"Q2<{middle_Q2_cut}\")\n",
    "        elif(add_middle_cut[i]==1):\n",
    "            input_boundary.append(f\"Q2>{middle_Q2_cut}\")\n",
    "        input_boundary.append(high_Q2_cut)\n",
    "        input_boundary.append(low_Q2_cut)\n",
    "        input_boundaries.append(input_boundary)\n",
    "        \n",
    "    return input_boundaries"
   ]
  },
  {
   "cell_type": "code",
   "execution_count": 6,
   "id": "floating-horror",
   "metadata": {},
   "outputs": [],
   "source": [
    "def create_tpave_text(i, btgraph,textsize):\n",
    "    x_min = y_min = float('inf')\n",
    "    x_max = y_max = float('-inf')\n",
    "\n",
    "    x_center = 0\n",
    "    y_center = 0\n",
    "\n",
    "    N = btgraph.GetN()\n",
    "    for j in range(N):\n",
    "        x = btgraph.GetPointX(j)\n",
    "        y = btgraph.GetPointY(j)\n",
    "\n",
    "        x_min = min(x_min, x)\n",
    "        x_max = max(x_max, x)\n",
    "        y_min = min(y_min, y)\n",
    "        y_max = max(y_max, y)\n",
    "\n",
    "        x_center += x / N\n",
    "        y_center += y / N\n",
    "\n",
    "    tpave = ROOT.TPaveText(x_center - 0, y_center - 0, x_center + 0, y_center + 0)\n",
    "    tpave.SetTextSize(textsize)\n",
    "    tpave.AddText(str(i))\n",
    "    tpave.SetTextColor(2)\n",
    "    tpave.Draw(\"same\")\n",
    "\n",
    "    return copy.deepcopy(tpave)"
   ]
  },
  {
   "cell_type": "code",
   "execution_count": 7,
   "id": "backed-symbol",
   "metadata": {},
   "outputs": [],
   "source": [
    "def get_tgraph_boundaries(input_boundaries,repl=[\"x\",\"Q2\"]):\n",
    "    btgraphs=[]\n",
    "    for b in input_boundaries:\n",
    "        btgraph = create_boundary_tgraph(b,1000,repl)\n",
    "        btgraphs.append(btgraph)\n",
    "    return copy.deepcopy(btgraphs)"
   ]
  },
  {
   "cell_type": "code",
   "execution_count": 16,
   "id": "sufficient-terry",
   "metadata": {},
   "outputs": [],
   "source": [
    "\n",
    "def get_hists(infile,xQ2_boundaries, zpT_boundaries, var1, var2, var1_bins, var2_bins, var3, var3_bins, var4=None, var4_bins=None):\n",
    "\n",
    "    # define cut conditions\n",
    "    cut_conditions = \"xF1>0&&xF2>0&&z<0.95&&Mx>1.5\"\n",
    "    \n",
    "    # create RDataFrame and select events that satisfy the cut conditions\n",
    "    df = ROOT.RDataFrame(\"dihadron\", infile)\n",
    "    df_cut = df.Filter(cut_conditions)\n",
    "\n",
    "    # create main histogram\n",
    "    main_hist = df_cut.Histo2D((f\"h2d_main_{var1}_{var2}\", f\"{var1}-{var2} distribution\", len(var1_bins) - 1, array('d', var1_bins), len(var2_bins) - 1, array('d', var2_bins)), var1,var2)\n",
    "    \n",
    "    var1_var2_hists = []\n",
    "    var3_var4_hists = []\n",
    "    var3_var4_subhists = []\n",
    "    \n",
    "    tmp_df_cuts=[]\n",
    "    for idx, b in enumerate(xQ2_boundaries):\n",
    "        print(idx + 1, \"of\", len(xQ2_boundaries))\n",
    "        tmp_df_cut=df_cut.Filter(\"&&\".join(b))\n",
    "        tmp_df_cuts.append(tmp_df_cut)\n",
    "        \n",
    "        # create histogram for var1 and var2\n",
    "        h2d_var1_var2 = tmp_df_cuts[-1].Histo2D((f\"h2d_{var1}_{var2}_{idx}\", f\"{var1}-{var2} distribution\", len(var1_bins) - 1, array('d', var1_bins), len(var2_bins) - 1, array('d', var2_bins)), var1,var2)\n",
    "        \n",
    "        var1_var2_hists.append(h2d_var1_var2)\n",
    "\n",
    "        h2d_var3_var4 = tmp_df_cuts[-1].Histo2D((f\"h2d_{var3}_{var4}_{idx}\", f\"{var3}-{var4} distribution\", len(var3_bins) - 1, array('d', var3_bins), len(var4_bins) - 1, array('d', var4_bins)), var3,var4)\n",
    "            \n",
    "        var3_var4_hists.append(h2d_var3_var4)\n",
    "        \n",
    "        var3_var4_subhists_arr=[]\n",
    "        \n",
    "        for idxidx,bb in enumerate(zpT_boundaries):\n",
    "            tmptmp_df_cut = tmp_df_cut.Filter(\"&&\".join(bb))\n",
    "            tmp_df_cuts.append(tmptmp_df_cut)\n",
    "            h2d_var3_var4_sub = tmp_df_cuts[-1].Histo2D((f\"h2d_{var3}_{var4}_{idx}_sub\", f\"{var3}-{var4} distribution\", len(var3_bins) - 1, array('d', var3_bins), len(var4_bins) - 1, array('d', var4_bins)), var3,var4)\n",
    "            var3_var4_subhists_arr.append(h2d_var3_var4_sub)\n",
    "    \n",
    "        var3_var4_subhists.append(var3_var4_subhists_arr)\n",
    "        \n",
    "    # force z-axis to be identical to main hist\n",
    "    zmin = main_hist.GetMinimum()\n",
    "    zmax = main_hist.GetMaximum()\n",
    "    \n",
    "    for h in var1_var2_hists:\n",
    "        h.SetMinimum(zmin)\n",
    "        h.SetMaximum(zmax)\n",
    "    \n",
    "    return main_hist.GetValue(), [h.GetValue() for h in var1_var2_hists], [h.GetValue() for h in var3_var4_hists], [[h.GetValue() for h in hlist] for hlist in var3_var4_subhists]\n"
   ]
  },
  {
   "cell_type": "code",
   "execution_count": 9,
   "id": "romantic-saturn",
   "metadata": {},
   "outputs": [],
   "source": [
    "def get_hists(input_boundaries, var1, var2, var1_bins, var2_bins, var3, var3_bins, var4=None, var4_bins=None, Nmax=1e5):\n",
    "    Nmax = int(Nmax)\n",
    "    \n",
    "    cut_conditions = \"xF1>0&&xF2>0&&z<0.95&&Mx>1.5\"\n",
    "    main_hist = ROOT.TH2D(f\"h2d_main_{var1}_{var2}\", f\"{var1}-{var2} distribution\", len(var1_bins) - 1, array('d', var1_bins), len(var2_bins) - 1, array('d', var2_bins))\n",
    "    t.Draw(f\"{var2}:{var1}>>h2d_main_{var1}_{var2}\", cut_conditions, \"goff\", Nmax)\n",
    "    \n",
    "    var1_var2_hists = []\n",
    "    var3_var4_hists = []\n",
    "    \n",
    "    for idx, b in enumerate(input_boundaries):\n",
    "        print(idx + 1, \"of\", len(input_boundaries))\n",
    "        bcut_conditions = \" && \".join(b) + \"&&\" + cut_conditions\n",
    "        \n",
    "        h2d_var1_var2 = ROOT.TH2D(f\"h2d_{var1}_{var2}_{idx}\", f\"{var1}-{var2} distribution\", len(var1_bins) - 1, array('d', var1_bins), len(var2_bins) - 1, array('d', var2_bins))\n",
    "        t.Draw(f\"{var2}:{var1}>>h2d_{var1}_{var2}_{idx}\", bcut_conditions, \"goff\", Nmax)\n",
    "        \n",
    "        # force z-axis to be identical to main hist\n",
    "        h2d_var1_var2.SetMinimum(main_hist.GetMinimum())\n",
    "        h2d_var1_var2.SetMaximum(main_hist.GetMaximum())\n",
    "        \n",
    "        var1_var2_hists.append(h2d_var1_var2)\n",
    "        \n",
    "        if var4 is not None and var4_bins is not None:\n",
    "            h2d_var3_var4 = ROOT.TH2D(f\"h2d_{var3}_{var4}_{idx}\", f\"{var3}-{var4} distribution\", len(var3_bins) - 1, array('d', var3_bins), len(var4_bins) - 1, array('d', var4_bins))\n",
    "            t.Draw(f\"{var4}:{var3}>>h2d_{var3}_{var4}_{idx}\", bcut_conditions, \"goff\", Nmax)\n",
    "            var3_var4_hists.append(h2d_var3_var4)\n",
    "        else:\n",
    "            h1d_var3 = ROOT.TH1D(f\"h1d_{var3}_{idx}\", f\"{var3} distribution\", len(var3_bins) - 1, array('d', var3_bins))\n",
    "            t.Draw(f\"{var3}>>h1d_{var3}_{idx}\", bcut_conditions, \"goff\", Nmax)\n",
    "            var3_var4_hists.append(h1d_var3)\n",
    "    \n",
    "    return copy.deepcopy(main_hist), copy.deepcopy(var1_var2_hists), copy.deepcopy(var3_var4_hists)\n"
   ]
  },
  {
   "cell_type": "code",
   "execution_count": 10,
   "id": "instant-atlantic",
   "metadata": {},
   "outputs": [],
   "source": [
    "def generate_z_pt_boundaries(z_edges, pT_edges):\n",
    "    boundaries = []\n",
    "    nzbins = len(z_edges) - 1\n",
    "    npTbins = len(pT_edges) - 1\n",
    "\n",
    "    for iz in range(nzbins):\n",
    "        for ip in range(npTbins):\n",
    "            boundaries.append([f\"z>={z_edges[iz]}\", f\"z<{z_edges[iz+1]}\", f\"pTtot>={pT_edges[ip]}\", f\"pTtot<{pT_edges[ip+1]}\"])\n",
    "\n",
    "    return boundaries"
   ]
  },
  {
   "cell_type": "code",
   "execution_count": 11,
   "id": "incorrect-distributor",
   "metadata": {},
   "outputs": [],
   "source": [
    "def create_info_box(histogram):\n",
    "    # get number of entries and average x and y values\n",
    "    n_entries = histogram.GetEntries()\n",
    "    mean_x = histogram.GetMean(1)\n",
    "    mean_y = histogram.GetMean(2)\n",
    "\n",
    "    # create TPaveText object\n",
    "    text_box = ROOT.TPaveText(0.16, 0.625, 0.5, 0.85, \"NDC\")  # x1, y1, x2, y2\n",
    "    text_box.SetTextSize(0.04)\n",
    "    text_box.SetTextAlign(11)  # set text alignment to left-justified\n",
    "    text_box.SetTextFont(42)  # set font to normal weight\n",
    "    #text_box.SetFillColor(ROOT.kWhite)\n",
    "    #text_box.SetBorderSize(0)\n",
    "\n",
    "    # add text with information\n",
    "    text_box.AddText(f\"Evts: {n_entries:.2e}\")\n",
    "    text_box.AddText(f\"<x>: {mean_x:.3f}\")\n",
    "    text_box.AddText(f\"<Q^{{2}}>: {mean_y:.3f} [GeV^{{2}}]\")\n",
    "\n",
    "    return copy.deepcopy(text_box)"
   ]
  },
  {
   "cell_type": "code",
   "execution_count": 19,
   "id": "documented-instruction",
   "metadata": {},
   "outputs": [],
   "source": [
    "def gen_canvas(xQ2_boundaries=[], zpT_boundaries=[], boundary_idx=None, h_xQ2=None, h_xQ2_list=None, h_zpT_list=None, h_zpT_sublist=None):\n",
    "\n",
    "    xQ2_tgraphs = get_tgraph_boundaries(xQ2_boundaries,[\"x\",\"Q2\"])\n",
    "    zpT_tgraphs = get_tgraph_boundaries(zpT_boundaries,[\"z\",\"pTtot\"])\n",
    "    \n",
    "    # Create a canvas and divide it into two pads for x-Q2 and z-pT histograms\n",
    "    c = ROOT.TCanvas(\"c\", \"x-Q2 distribution\", 1200, 600)\n",
    "    c.Divide(2, 1)\n",
    "\n",
    "    # Prepare x-Q2 histogram for selected region with log scale axes\n",
    "    c.cd(1)\n",
    "    ROOT.gPad.SetLogx()\n",
    "    ROOT.gPad.SetLogy()\n",
    "    ROOT.gPad.SetRightMargin(0.15)\n",
    "    h2d_xQ2 = h_xQ2_list[boundary_idx]\n",
    "    prepare_hist(h2d_xQ2, \";x;Q^{2} [GeV]\", 50)\n",
    "    h2d_xQ2.Draw(\"colz\")\n",
    "    text_box = create_info_box(h2d_xQ2)\n",
    "    text_box.Draw()\n",
    "    # Draw boundaries on x-Q2 histogram\n",
    "    for xQ2_tgraph in xQ2_tgraphs:\n",
    "        xQ2_tgraph.Draw(\"L same\")\n",
    "\n",
    "    # Create z-pT histogram for selected region\n",
    "    h2d_zpT = h_zpT_list[boundary_idx]\n",
    "    h2d_zpT_sublist = h_zpT_sublist[boundary_idx]\n",
    "    \n",
    "    # Prepare z-pT histogram with log scale axes\n",
    "    c.cd(2)\n",
    "    ROOT.gPad.SetRightMargin(0.15)\n",
    "    prepare_hist(h2d_zpT, \"z pT distribution;z;p_{T} [GeV]\", 50)\n",
    "    h2d_zpT.Draw(\"colz\")\n",
    "    \n",
    "    # Draw boundaries on z-pT histogram\n",
    "    tpaves_zpT = []\n",
    "    for i,zpT_tgraph in enumerate(zpT_tgraphs):\n",
    "        zpT_tgraph.Draw(\"L same\")\n",
    "        entries=h2d_zpT_sublist[i].GetEntries()\n",
    "        tpaves_zpT.append(create_tpave_text(str(f\"{entries:.0e}\"), zpT_tgraph,0.04))\n",
    "        #tpaves_zpT[-1].Draw(\"same\")\n",
    "        \n",
    "    # Draw the x-Q2 histogram with all boundaries shown\n",
    "    c2 = ROOT.TCanvas(\"c2\", \"c2\", 600, 600)\n",
    "    ROOT.gPad.SetLogx()\n",
    "    ROOT.gPad.SetLogy()\n",
    "\n",
    "    h2d_xQ2_all = h_xQ2\n",
    "    prepare_hist(h2d_xQ2_all, \";x;Q^{2} [GeV]\", 50)\n",
    "    h2d_xQ2_all.Draw(\"colz\")\n",
    "    \n",
    "    # Draw boundaries and add labels on x-Q2 histogram\n",
    "    tpaves_xQ2 = []\n",
    "    for i,xQ2_tgraph in enumerate(xQ2_tgraphs):\n",
    "        xQ2_tgraph.Draw(\"L same\")\n",
    "        tpaves_xQ2.append(create_tpave_text(i, xQ2_tgraph,0.08))\n",
    "        tpaves_xQ2[-1].Draw(\"same\")\n",
    "\n",
    "    return copy.deepcopy(c), copy.deepcopy(c2)\n",
    "\n",
    "\n",
    "def prepare_hist(hist, title, num_contours):\n",
    "    \"\"\"Prepare histogram with specified title, number of contours, and without stats.\"\"\"\n",
    "    hist.SetTitle(title)\n",
    "    hist.SetContour(num_contours)\n",
    "    hist.SetStats(0)\n"
   ]
  },
  {
   "cell_type": "code",
   "execution_count": 22,
   "id": "multiple-wallpaper",
   "metadata": {},
   "outputs": [
    {
     "name": "stdout",
     "output_type": "stream",
     "text": [
      "1 of 9\n",
      "2 of 9\n",
      "3 of 9\n",
      "4 of 9\n",
      "5 of 9\n",
      "6 of 9\n",
      "7 of 9\n",
      "8 of 9\n",
      "9 of 9\n"
     ]
    }
   ],
   "source": [
    "# Define the boundary expressions\n",
    "xQ2_boundaries = generate_input_boundaries([[0.07,0.12],[0.12,0.2],[0.2,0.275],[0.275,0.42],[0.42,1],\n",
    "                                              [0.12,0.15],[0.15,0.22],[0.22,0.29],[0.29,0.42]],\n",
    "                                             [0,-1,-1,-1,0,1,1,1,1])\n",
    "\n",
    "zpT_boundaries = generate_z_pt_boundaries([0.15,0.3,0.38,0.5,0.6,0.7,0.95],[0,0.2,0.4,0.6,0.8,1,1.5])\n",
    "\n",
    "# Example usage\n",
    "x_bins = logspace_bins(5e-2, 1, 100)\n",
    "Q2_bins = logspace_bins(1, 20, 100)\n",
    "z_bins = np.linspace(0, 1, 100)\n",
    "pt_bins = np.linspace(-0.3, 2, 100)\n",
    "\n",
    "#infile = \"../../projects/ana_v2/volatile/data/piplus_piminus/MC_RGA_3051_0.root\"\n",
    "infile = \"../../macros/hipoLUND2tree.root\"\n",
    "xQ2_hist_main, xQ2_hists, zpT_hists, zpT_subhists = get_hists(infile, xQ2_boundaries, zpT_boundaries,\"x\", \"Q2\", x_bins, Q2_bins, \"z\", z_bins, \"pTtot\", pt_bins)"
   ]
  },
  {
   "cell_type": "code",
   "execution_count": 23,
   "id": "domestic-generation",
   "metadata": {},
   "outputs": [
    {
     "data": {
      "image/png": "[encoded data removed]",
      "text/plain": [
       "<IPython.core.display.Image object>"
      ]
     },
     "metadata": {},
     "output_type": "display_data"
    }
   ],
   "source": [
    "c1,c2=gen_canvas(xQ2_boundaries, zpT_boundaries, 0,xQ2_hist_main, xQ2_hists, zpT_hists, zpT_subhists)\n",
    "c1.Draw()"
   ]
  },
  {
   "cell_type": "code",
   "execution_count": 21,
   "id": "black-spokesman",
   "metadata": {},
   "outputs": [
    {
     "data": {
      "image/png": "[encoded data removed]",
      "text/plain": [
       "<IPython.core.display.Image object>"
      ]
     },
     "metadata": {},
     "output_type": "display_data"
    }
   ],
   "source": [
    "c2.Draw()"
   ]
  },
  {
   "cell_type": "code",
   "execution_count": null,
   "id": "stunning-jones",
   "metadata": {},
   "outputs": [],
   "source": []
  }
 ],
 "metadata": {
  "kernelspec": {
   "display_name": "Python 3",
   "language": "python",
   "name": "python3"
  },
  "language_info": {
   "codemirror_mode": {
    "name": "ipython",
    "version": 3
   },
   "file_extension": ".py",
   "mimetype": "text/x-python",
   "name": "python",
   "nbconvert_exporter": "python",
   "pygments_lexer": "ipython3",
   "version": "3.8.6"
  }
 },
 "nbformat": 4,
 "nbformat_minor": 5
}

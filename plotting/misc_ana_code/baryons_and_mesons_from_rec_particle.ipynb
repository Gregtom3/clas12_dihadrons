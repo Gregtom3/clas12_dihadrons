{
 "cells": [
  {
   "cell_type": "code",
   "execution_count": 1,
   "id": "conservative-breed",
   "metadata": {},
   "outputs": [
    {
     "name": "stdout",
     "output_type": "stream",
     "text": [
      "Welcome to JupyROOT 6.22/06\n"
     ]
    }
   ],
   "source": [
    "from particle import Particle,PDGID\n",
    "import uproot\n",
    "import numpy as np\n",
    "from IPython.display import display, Latex\n",
    "import glob\n",
    "import ROOT\n",
    "import os\n",
    "import copy"
   ]
  },
  {
   "cell_type": "code",
   "execution_count": 2,
   "id": "favorite-involvement",
   "metadata": {},
   "outputs": [],
   "source": [
    "# Define momentum ranges\n",
    "momentum_ranges = np.arange(0,5,0.5)\n",
    "num_ranges = len(momentum_ranges)"
   ]
  },
  {
   "cell_type": "code",
   "execution_count": 3,
   "id": "personalized-couple",
   "metadata": {},
   "outputs": [],
   "source": [
    "# Define plot marker styles and colors\n",
    "marker_styles = [20, 21, 22, 23, 24, 25, 26, 27, 28, 29]\n",
    "marker_colors = [1]"
   ]
  },
  {
   "cell_type": "code",
   "execution_count": 12,
   "id": "incorrect-holiday",
   "metadata": {},
   "outputs": [],
   "source": [
    "def get_list(wildcard):\n",
    "    # Load the TTree from the ROOT file\n",
    "    files = glob.glob(wildcard)\n",
    "    upid_arr = np.array([],dtype=int)\n",
    "    for file in files:\n",
    "        print(file)\n",
    "        file = uproot.open(file)\n",
    "        tree = file[\"EventTree\"]\n",
    "\n",
    "\n",
    "        for branch in ([\"pid\"]):\n",
    "            pid_arr = tree[branch].array()\n",
    "            pid_arr = [element for sublist in pid_arr for element in sublist]\n",
    "            upid_arr = np.unique(np.concatenate([upid_arr,pid_arr]))\n",
    "    \n",
    "    baryon_list = []\n",
    "    baryon_name = []\n",
    "    for pid in upid_arr:\n",
    "        if(pid==-999 or pid==91 or pid==92 or pid==0 or pid==45):\n",
    "            continue\n",
    "        particle = PDGID(pid)\n",
    "        PARTICLE = Particle.from_pdgid(pid)\n",
    "        if particle.is_baryon:\n",
    "            baryon_list.append(int(pid))\n",
    "            baryon_name.append(f\"${PARTICLE.latex_name}$\")\n",
    "    print(\"Baryon PIDs:\", baryon_list)\n",
    "    print(\"Baryon Names:\", display(Latex(\" , \".join(baryon_name))))\n",
    "\n",
    "    meson_list = []\n",
    "    meson_name = []\n",
    "    for pid in upid_arr:\n",
    "        if(pid==-999 or pid==91 or pid==92 or pid==0 or pid==45):\n",
    "            continue\n",
    "        particle = PDGID(pid)\n",
    "        PARTICLE = Particle.from_pdgid(pid)\n",
    "        if particle.is_meson:\n",
    "            meson_list.append(int(pid))\n",
    "            meson_name.append(f\"${PARTICLE.latex_name}$\")\n",
    "    print(\"Meson PIDs:\", meson_list)\n",
    "    print(\"Meson Names:\", display(Latex(\" , \".join(meson_name))))"
   ]
  },
  {
   "cell_type": "code",
   "execution_count": 13,
   "id": "efficient-warren",
   "metadata": {},
   "outputs": [
    {
     "name": "stdout",
     "output_type": "stream",
     "text": [
      "/work/clas12/users/gmat/clas12/clas12_dihadrons/projects/ana_v0/volatile/data/piplus_piminus/MC_RGA_3051_3.root\n",
      "/work/clas12/users/gmat/clas12/clas12_dihadrons/projects/ana_v0/volatile/data/piplus_piminus/MC_RGA_3051_2.root\n",
      "/work/clas12/users/gmat/clas12/clas12_dihadrons/projects/ana_v0/volatile/data/piplus_piminus/MC_RGA_3051_0.root\n",
      "/work/clas12/users/gmat/clas12/clas12_dihadrons/projects/ana_v0/volatile/data/piplus_piminus/MC_RGA_3051_4.root\n",
      "/work/clas12/users/gmat/clas12/clas12_dihadrons/projects/ana_v0/volatile/data/piplus_piminus/MC_RGA_3051_1.root\n",
      "/work/clas12/users/gmat/clas12/clas12_dihadrons/projects/ana_v0/volatile/data/piplus_piplus/MC_RGA_3051_0.root\n",
      "/work/clas12/users/gmat/clas12/clas12_dihadrons/projects/ana_v0/volatile/data/piplus_piplus/MC_RGA_3051_4.root\n",
      "/work/clas12/users/gmat/clas12/clas12_dihadrons/projects/ana_v0/volatile/data/piplus_piplus/MC_RGA_3051_1.root\n",
      "/work/clas12/users/gmat/clas12/clas12_dihadrons/projects/ana_v0/volatile/data/piplus_piplus/MC_RGA_3051_3.root\n",
      "/work/clas12/users/gmat/clas12/clas12_dihadrons/projects/ana_v0/volatile/data/piplus_piplus/MC_RGA_3051_2.root\n",
      "/work/clas12/users/gmat/clas12/clas12_dihadrons/projects/ana_v0/volatile/data/piplus_pi0/MC_RGA_3051_1.root\n",
      "/work/clas12/users/gmat/clas12/clas12_dihadrons/projects/ana_v0/volatile/data/piplus_pi0/MC_RGA_3051_4.root\n",
      "/work/clas12/users/gmat/clas12/clas12_dihadrons/projects/ana_v0/volatile/data/piplus_pi0/MC_RGA_3051_0.root\n",
      "/work/clas12/users/gmat/clas12/clas12_dihadrons/projects/ana_v0/volatile/data/piplus_pi0/MC_RGA_3051_2.root\n",
      "/work/clas12/users/gmat/clas12/clas12_dihadrons/projects/ana_v0/volatile/data/piplus_pi0/MC_RGA_3051_3.root\n",
      "/work/clas12/users/gmat/clas12/clas12_dihadrons/projects/ana_v0/volatile/data/pi0_pi0/MC_RGA_3051_3.root\n",
      "/work/clas12/users/gmat/clas12/clas12_dihadrons/projects/ana_v0/volatile/data/pi0_pi0/MC_RGA_3051_2.root\n",
      "/work/clas12/users/gmat/clas12/clas12_dihadrons/projects/ana_v0/volatile/data/pi0_pi0/MC_RGA_3051_4.root\n",
      "/work/clas12/users/gmat/clas12/clas12_dihadrons/projects/ana_v0/volatile/data/pi0_pi0/MC_RGA_3051_0.root\n",
      "/work/clas12/users/gmat/clas12/clas12_dihadrons/projects/ana_v0/volatile/data/pi0_pi0/MC_RGA_3051_1.root\n",
      "/work/clas12/users/gmat/clas12/clas12_dihadrons/projects/ana_v0/volatile/data/piminus_piminus/MC_RGA_3051_3.root\n",
      "/work/clas12/users/gmat/clas12/clas12_dihadrons/projects/ana_v0/volatile/data/piminus_piminus/MC_RGA_3051_2.root\n",
      "/work/clas12/users/gmat/clas12/clas12_dihadrons/projects/ana_v0/volatile/data/piminus_piminus/MC_RGA_3051_4.root\n",
      "/work/clas12/users/gmat/clas12/clas12_dihadrons/projects/ana_v0/volatile/data/piminus_piminus/MC_RGA_3051_0.root\n",
      "/work/clas12/users/gmat/clas12/clas12_dihadrons/projects/ana_v0/volatile/data/piminus_piminus/MC_RGA_3051_1.root\n",
      "/work/clas12/users/gmat/clas12/clas12_dihadrons/projects/ana_v0/volatile/data/piminus_pi0/MC_RGA_3051_2.root\n",
      "/work/clas12/users/gmat/clas12/clas12_dihadrons/projects/ana_v0/volatile/data/piminus_pi0/MC_RGA_3051_3.root\n",
      "/work/clas12/users/gmat/clas12/clas12_dihadrons/projects/ana_v0/volatile/data/piminus_pi0/MC_RGA_3051_1.root\n",
      "/work/clas12/users/gmat/clas12/clas12_dihadrons/projects/ana_v0/volatile/data/piminus_pi0/MC_RGA_3051_4.root\n",
      "/work/clas12/users/gmat/clas12/clas12_dihadrons/projects/ana_v0/volatile/data/piminus_pi0/MC_RGA_3051_0.root\n",
      "Baryon PIDs: [-2212, 2112, 2212]\n"
     ]
    },
    {
     "data": {
      "text/latex": [
       "$\\overline{p}$ , $n$ , $p$"
      ],
      "text/plain": [
       "<IPython.core.display.Latex object>"
      ]
     },
     "metadata": {},
     "output_type": "display_data"
    },
    {
     "name": "stdout",
     "output_type": "stream",
     "text": [
      "Baryon Names: None\n",
      "Meson PIDs: [-321, -211, 211, 321]\n"
     ]
    },
    {
     "data": {
      "text/latex": [
       "$K^{-}$ , $\\pi^{-}$ , $\\pi^{+}$ , $K^{+}$"
      ],
      "text/plain": [
       "<IPython.core.display.Latex object>"
      ]
     },
     "metadata": {},
     "output_type": "display_data"
    },
    {
     "name": "stdout",
     "output_type": "stream",
     "text": [
      "Meson Names: None\n"
     ]
    }
   ],
   "source": [
    "baryon_pids=get_list(\"/work/clas12/users/gmat/clas12/clas12_dihadrons/projects/ana_v0/volatile/data/*/MC_RGA_3051_*.root\")"
   ]
  },
  {
   "cell_type": "code",
   "execution_count": null,
   "id": "common-metabolism",
   "metadata": {},
   "outputs": [],
   "source": []
  },
  {
   "cell_type": "code",
   "execution_count": null,
   "id": "corrected-planner",
   "metadata": {},
   "outputs": [],
   "source": []
  },
  {
   "cell_type": "code",
   "execution_count": null,
   "id": "alleged-hacker",
   "metadata": {},
   "outputs": [],
   "source": []
  }
 ],
 "metadata": {
  "kernelspec": {
   "display_name": "Python 3",
   "language": "python",
   "name": "python3"
  },
  "language_info": {
   "codemirror_mode": {
    "name": "ipython",
    "version": 3
   },
   "file_extension": ".py",
   "mimetype": "text/x-python",
   "name": "python",
   "nbconvert_exporter": "python",
   "pygments_lexer": "ipython3",
   "version": "3.8.6"
  }
 },
 "nbformat": 4,
 "nbformat_minor": 5
}

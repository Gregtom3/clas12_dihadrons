{
 "cells": [
  {
   "cell_type": "code",
   "execution_count": 1,
   "id": "viral-disorder",
   "metadata": {},
   "outputs": [
    {
     "name": "stdout",
     "output_type": "stream",
     "text": [
      "Welcome to JupyROOT 6.22/06\n"
     ]
    },
    {
     "name": "stderr",
     "output_type": "stream",
     "text": [
      "Matplotlib created a temporary config/cache directory at /tmp/matplotlib-_1r9yzxc because the default path (/home/jovyan/.cache/matplotlib) is not a writable directory; it is highly recommended to set the MPLCONFIGDIR environment variable to a writable directory, in particular to speed up the import of Matplotlib and to better support multiprocessing.\n"
     ]
    }
   ],
   "source": [
    "import ROOT\n",
    "%run ../src/binning.py\n",
    "%run ../src/smearing_matrix.py"
   ]
  },
  {
   "cell_type": "code",
   "execution_count": 2,
   "id": "remarkable-consolidation",
   "metadata": {},
   "outputs": [],
   "source": [
    "#######################################################################\n",
    "# Declare ROOT files for the Analysis\n",
    "#######################################################################\n",
    "mc_files=get_first_N_files(\"../projects/test/volatile/data/piplus_piminus/\",1,\"MC_RGA_*\")\n",
    "data_files=get_first_N_files(\"../projects/test_data/volatile/data/piplus_piminus/\",5,\"nSidis_RGA_*\")"
   ]
  },
  {
   "cell_type": "code",
   "execution_count": 3,
   "id": "greatest-melissa",
   "metadata": {},
   "outputs": [],
   "source": [
    "#######################################################################\n",
    "# 1d Rectangular Binning\n",
    "#######################################################################\n",
    "\n",
    "rect_bin_factory = RectBinFactory()\n",
    "rect_bin_factory.make_bins(\"rec_z\",np.linspace(0.5,0.9,5))\n",
    "rect_bin_factory.make_bins(\"rec_phi_h\",np.linspace(-3.1415,3.1415,25))"
   ]
  },
  {
   "cell_type": "code",
   "execution_count": 4,
   "id": "smaller-movement",
   "metadata": {},
   "outputs": [],
   "source": [
    "#######################################################################\n",
    "# Custom Binning\n",
    "#######################################################################\n",
    "\n",
    "custom_bin_factory = CustomBinFactory([\"rec_z1\",\"rec_z2\"])\n",
    "\n",
    "custom_bin_factory.add_curve(\"region_1\",\"rec_z1>rec_z2\")\n",
    "custom_bin_factory.add_curve(\"region_2\",\"rec_z1<rec_z2\")\n",
    "\n",
    "custom_bin_factory.make_bin([\"region_1\"])\n",
    "custom_bin_factory.make_bin([\"region_2\"])"
   ]
  },
  {
   "cell_type": "code",
   "execution_count": 5,
   "id": "european-spider",
   "metadata": {},
   "outputs": [],
   "source": [
    "#######################################################################\n",
    "# Load 1d Rectangular Binning into the BinManager\n",
    "#######################################################################\n",
    "\n",
    "bin_manager = BinManager()\n",
    "bin_manager.load_factory(rect_bin_factory)\n",
    "#bin_manager.load_factory(custom_bin_factory)"
   ]
  },
  {
   "cell_type": "code",
   "execution_count": 6,
   "id": "ecological-nelson",
   "metadata": {},
   "outputs": [
    {
     "name": "stderr",
     "output_type": "stream",
     "text": [
      "100%|████████████████████████████████████████████| 1/1 [00:11<00:00, 11.09s/it]\n"
     ]
    }
   ],
   "source": [
    "#######################################################################\n",
    "# Create and run smearing matrix\n",
    "#######################################################################\n",
    "\n",
    "smearing_matrix = SmearingMatrix(mc_files, bin_manager)\n",
    "\n",
    "smearing_matrix.run()"
   ]
  },
  {
   "cell_type": "code",
   "execution_count": 13,
   "id": "hollywood-ribbon",
   "metadata": {},
   "outputs": [],
   "source": [
    "#######################################################################\n",
    "# Perform unfolding\n",
    "#######################################################################\n",
    "%run ../src/unfold.py"
   ]
  },
  {
   "cell_type": "code",
   "execution_count": 14,
   "id": "genetic-belize",
   "metadata": {},
   "outputs": [
    {
     "name": "stderr",
     "output_type": "stream",
     "text": [
      "100%|████████████████████████████████████████████| 5/5 [00:00<00:00, 27.50it/s]\n"
     ]
    }
   ],
   "source": [
    "usable_bins = smearing_matrix.bin_manager.total_bins - 1 # We do not unfold overflow/underflow bins\n",
    "true_bins = smearing_matrix.true_bins\n",
    "reco_bins = smearing_matrix.reco_bins\n",
    "dataloader = DataLoader(bin_manager)\n",
    "data = dataloader.read_binned_data_from_data_file(data_files)\n",
    "data_bins = bin_manager.get_bin_ids(*data)"
   ]
  },
  {
   "cell_type": "code",
   "execution_count": 15,
   "id": "promotional-chapel",
   "metadata": {},
   "outputs": [
    {
     "name": "stdout",
     "output_type": "stream",
     "text": [
      "LOADING MONTE CARLO VECTORS\n"
     ]
    },
    {
     "name": "stderr",
     "output_type": "stream",
     "text": [
      "100%|███████████████████████████| 3758810/3758810 [00:02<00:00, 1423030.16it/s]\n"
     ]
    },
    {
     "name": "stdout",
     "output_type": "stream",
     "text": [
      "LOADING EXPERIMENTAL DATA VECTORS\n"
     ]
    },
    {
     "name": "stderr",
     "output_type": "stream",
     "text": [
      "100%|███████████████████████████████| 68584/68584 [00:00<00:00, 2163296.17it/s]\n"
     ]
    },
    {
     "name": "stdout",
     "output_type": "stream",
     "text": [
      "PERFORMING UNFOLDING\n"
     ]
    },
    {
     "ename": "ReferenceError",
     "evalue": "attempt to access a null-pointer",
     "output_type": "error",
     "traceback": [
      "\u001b[0;31m---------------------------------------------------------------------------\u001b[0m",
      "\u001b[0;31mReferenceError\u001b[0m                            Traceback (most recent call last)",
      "\u001b[0;32m<ipython-input-15-92821419c331>\u001b[0m in \u001b[0;36m<module>\u001b[0;34m\u001b[0m\n\u001b[0;32m----> 1\u001b[0;31m \u001b[0mreco_hist\u001b[0m\u001b[0;34m,\u001b[0m\u001b[0mtrue_hist\u001b[0m\u001b[0;34m,\u001b[0m\u001b[0mdata_hist\u001b[0m\u001b[0;34m,\u001b[0m\u001b[0munfolded_hist\u001b[0m \u001b[0;34m=\u001b[0m \u001b[0mUnfold\u001b[0m\u001b[0;34m.\u001b[0m\u001b[0mperform_RooUnfold\u001b[0m\u001b[0;34m(\u001b[0m\u001b[0musable_bins\u001b[0m\u001b[0;34m,\u001b[0m\u001b[0mtrue_bins\u001b[0m\u001b[0;34m,\u001b[0m\u001b[0mreco_bins\u001b[0m\u001b[0;34m,\u001b[0m\u001b[0mdata_bins\u001b[0m\u001b[0;34m,\u001b[0m\u001b[0;34m\"bayes\"\u001b[0m\u001b[0;34m)\u001b[0m\u001b[0;34m\u001b[0m\u001b[0;34m\u001b[0m\u001b[0m\n\u001b[0m",
      "\u001b[0;32m/w/hallb-scshelf2102/clas12/users/gmat/clas12/clas12_dihadrons/multiplicity/src/unfold.py\u001b[0m in \u001b[0;36mperform_RooUnfold\u001b[0;34m(usable_bins, true_bins, reco_bins, data_bins, method)\u001b[0m\n\u001b[1;32m     30\u001b[0m         \u001b[0;31m# Open the saved unfolded hists file and return the histograms\u001b[0m\u001b[0;34m\u001b[0m\u001b[0;34m\u001b[0m\u001b[0;34m\u001b[0m\u001b[0m\n\u001b[1;32m     31\u001b[0m         \u001b[0mf\u001b[0m \u001b[0;34m=\u001b[0m \u001b[0mROOT\u001b[0m\u001b[0;34m.\u001b[0m\u001b[0mTFile\u001b[0m\u001b[0;34m.\u001b[0m\u001b[0mOpen\u001b[0m\u001b[0;34m(\u001b[0m\u001b[0;34m\"/work/clas12/users/gmat/tmp/unfolded_hists.root\"\u001b[0m\u001b[0;34m)\u001b[0m\u001b[0;34m\u001b[0m\u001b[0;34m\u001b[0m\u001b[0m\n\u001b[0;32m---> 32\u001b[0;31m         \u001b[0mreco_hist\u001b[0m \u001b[0;34m=\u001b[0m \u001b[0mf\u001b[0m\u001b[0;34m.\u001b[0m\u001b[0mGet\u001b[0m\u001b[0;34m(\u001b[0m\u001b[0;34m\"reco_hist\"\u001b[0m\u001b[0;34m)\u001b[0m\u001b[0;34m\u001b[0m\u001b[0;34m\u001b[0m\u001b[0m\n\u001b[0m\u001b[1;32m     33\u001b[0m         \u001b[0mtrue_hist\u001b[0m \u001b[0;34m=\u001b[0m \u001b[0mf\u001b[0m\u001b[0;34m.\u001b[0m\u001b[0mGet\u001b[0m\u001b[0;34m(\u001b[0m\u001b[0;34m\"true_hist\"\u001b[0m\u001b[0;34m)\u001b[0m\u001b[0;34m\u001b[0m\u001b[0;34m\u001b[0m\u001b[0m\n\u001b[1;32m     34\u001b[0m         \u001b[0mdata_hist\u001b[0m \u001b[0;34m=\u001b[0m \u001b[0mf\u001b[0m\u001b[0;34m.\u001b[0m\u001b[0mGet\u001b[0m\u001b[0;34m(\u001b[0m\u001b[0;34m\"data_hist\"\u001b[0m\u001b[0;34m)\u001b[0m\u001b[0;34m\u001b[0m\u001b[0;34m\u001b[0m\u001b[0m\n",
      "\u001b[0;31mReferenceError\u001b[0m: attempt to access a null-pointer"
     ]
    },
    {
     "name": "stdout",
     "output_type": "stream",
     "text": [
      "3758810\n",
      "26.1063\n",
      "An additional truth bin is added to handle 653 fakes.\n",
      "Now unfolding...\n",
      "Iteration : 0\n",
      "Chi^2 of change 77665.6\n",
      "Iteration : 1\n",
      "Chi^2 of change 2352.56\n",
      "Iteration : 2\n",
      "Chi^2 of change 375.074\n",
      "Iteration : 3\n",
      "Chi^2 of change 138.842\n",
      "Iteration : 4\n",
      "Chi^2 of change 68.0948\n",
      "Iteration : 5\n",
      "Chi^2 of change 38.3355\n",
      "Iteration : 6\n",
      "Chi^2 of change 23.4314\n",
      "Iteration : 7\n",
      "Chi^2 of change 15.1323\n",
      "Iteration : 8\n",
      "Chi^2 of change 10.1678\n",
      "Iteration : 9\n",
      "Chi^2 of change 7.04093\n",
      "Iteration : 10\n",
      "Chi^2 of change 4.99347\n",
      "Iteration : 11\n",
      "Chi^2 of change 3.61125\n",
      "Iteration : 12\n",
      "Chi^2 of change 2.65479\n",
      "Iteration : 13\n",
      "Chi^2 of change 1.9792\n",
      "Iteration : 14\n",
      "Chi^2 of change 1.49362\n",
      "Iteration : 15\n",
      "Chi^2 of change 1.13933\n",
      "Iteration : 16\n",
      "Chi^2 of change 0.877406\n",
      "Iteration : 17\n",
      "Chi^2 of change 0.681501\n",
      "Iteration : 18\n",
      "Chi^2 of change 0.533441\n",
      "Iteration : 19\n",
      "Chi^2 of change 0.420484\n",
      "Iteration : 20\n",
      "Chi^2 of change 0.333568\n",
      "Iteration : 21\n",
      "Chi^2 of change 0.266164\n",
      "Iteration : 22\n",
      "Chi^2 of change 0.213517\n",
      "Iteration : 23\n",
      "Chi^2 of change 0.172122\n",
      "Iteration : 24\n",
      "Chi^2 of change 0.139376\n",
      "Calculating covariances due to number of measured events\n"
     ]
    },
    {
     "name": "stderr",
     "output_type": "stream",
     "text": [
      "Error in <TApplication::ProcessLine>: macro ./unfold.C not found in path .:/opt/root/macros\n",
      "Error in <TFile::TFile>: file /work/clas12/users/gmat/tmp/unfolded_hists.root does not exist\n"
     ]
    }
   ],
   "source": [
    "reco_hist,true_hist,data_hist,unfolded_hist = Unfold.perform_RooUnfold(usable_bins,true_bins,reco_bins,data_bins,\"bayes\")"
   ]
  },
  {
   "cell_type": "code",
   "execution_count": 40,
   "id": "spoken-angle",
   "metadata": {},
   "outputs": [],
   "source": [
    "%run ../src/plot.py"
   ]
  },
  {
   "cell_type": "code",
   "execution_count": 41,
   "id": "generic-scenario",
   "metadata": {},
   "outputs": [
    {
     "name": "stdout",
     "output_type": "stream",
     "text": [
      "Usage for the plot method:\n",
      "plot(*args, plot_type='bar', make_title=True)\n",
      "args: Integers or '<X-AXIS>', '<LABELS>' representing dimensions. Use integers to fix a dimension to a specific bin.\n",
      "plot_type: 'bar' or 'line'. Default is 'bar'.\n",
      "make_title: Boolean. If True, a title will be generated from the fixed indices. Default is True.\n",
      "log_scale: Boolean. If True, the y-axis will be set to a logarithmic scale. Default is False.\n",
      "\n",
      "Dimensions and their labels:\n",
      "Dimension 0: rec_z\n",
      "Dimension 1: rec_phi_h\n",
      "\n",
      "Number of bins in each dimension:\n",
      "Dimension 0: 4 bins\n",
      "Dimension 1: 24 bins\n"
     ]
    },
    {
     "data": {
      "image/png": "[encoded data removed]",
      "text/plain": [
       "<Figure size 432x288 with 1 Axes>"
      ]
     },
     "metadata": {
      "needs_background": "light"
     },
     "output_type": "display_data"
    }
   ],
   "source": [
    "reco_multihist = MultidimensionalHist(bin_manager,reco_hist)\n",
    "reco_multihist.print_usage()\n",
    "reco_multihist.plot(\"<LABELS>\",\"<X-AXIS>\",plot_type=\"line\")"
   ]
  },
  {
   "cell_type": "code",
   "execution_count": 42,
   "id": "static-scanner",
   "metadata": {},
   "outputs": [
    {
     "name": "stdout",
     "output_type": "stream",
     "text": [
      "Usage for the plot method:\n",
      "plot(*args, plot_type='bar', make_title=True)\n",
      "args: Integers or '<X-AXIS>', '<LABELS>' representing dimensions. Use integers to fix a dimension to a specific bin.\n",
      "plot_type: 'bar' or 'line'. Default is 'bar'.\n",
      "make_title: Boolean. If True, a title will be generated from the fixed indices. Default is True.\n",
      "log_scale: Boolean. If True, the y-axis will be set to a logarithmic scale. Default is False.\n",
      "\n",
      "Dimensions and their labels:\n",
      "Dimension 0: rec_z\n",
      "Dimension 1: rec_phi_h\n",
      "\n",
      "Number of bins in each dimension:\n",
      "Dimension 0: 4 bins\n",
      "Dimension 1: 24 bins\n"
     ]
    },
    {
     "data": {
      "image/png": "[encoded data removed]",
      "text/plain": [
       "<Figure size 432x288 with 1 Axes>"
      ]
     },
     "metadata": {
      "needs_background": "light"
     },
     "output_type": "display_data"
    }
   ],
   "source": [
    "unfolded_multihist = MultidimensionalHist(bin_manager,data_hist)\n",
    "unfolded_multihist.print_usage()\n",
    "unfolded_multihist.plot(\"<LABELS>\",\"<X-AXIS>\",plot_type=\"line\")"
   ]
  }
 ],
 "metadata": {
  "kernelspec": {
   "display_name": "Python 3",
   "language": "python",
   "name": "python3"
  },
  "language_info": {
   "codemirror_mode": {
    "name": "ipython",
    "version": 3
   },
   "file_extension": ".py",
   "mimetype": "text/x-python",
   "name": "python",
   "nbconvert_exporter": "python",
   "pygments_lexer": "ipython3",
   "version": "3.8.6"
  }
 },
 "nbformat": 4,
 "nbformat_minor": 5
}

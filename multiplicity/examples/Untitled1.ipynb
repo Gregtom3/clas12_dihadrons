{
 "cells": [
  {
   "cell_type": "code",
   "execution_count": 11,
   "id": "substantial-porcelain",
   "metadata": {},
   "outputs": [],
   "source": [
    "def average_x_Q2(region_str):\n",
    "    # Parse region string\n",
    "    conditions = region_str.split('&')\n",
    "    q2_lower_str, q2_upper_str, x_lower_str, x_upper_str = conditions\n",
    "    x_lower = float(x_lower_str.split('>')[-1].strip().replace(')', ''))\n",
    "    x_upper = float(x_upper_str.split('<')[-1].strip().replace(')', ''))\n",
    "    \n",
    "    # Correctly replace [x] with 'x'\n",
    "    q2_lower_str = q2_lower_str.replace('[x]', 'x').replace('*x*', '*x').replace('**', '*')\n",
    "    q2_upper_str = q2_upper_str.replace('[x]', 'x').replace('*x*', '*x').replace('**', '*')\n",
    "\n",
    "    # Create lambda functions\n",
    "    q2_lower_func = eval('lambda x: ' + q2_lower_str.split('>')[-1].strip())\n",
    "    q2_upper_func = eval('lambda x: ' + q2_upper_str.split('<')[-1].strip())\n",
    "    \n",
    "    # Monte Carlo sampling\n",
    "    N_samples = 1000000  # The number of samples\n",
    "    x_samples = np.random.uniform(x_lower, x_upper, N_samples)\n",
    "    Q2_samples = np.random.uniform(np.min([q2_lower_func(i) for i in x_samples]), \n",
    "                                   np.max([q2_upper_func(i) for i in x_samples]), N_samples)\n",
    "    valid_samples = np.logical_and(q2_lower_func(x_samples) <= Q2_samples, Q2_samples <= q2_upper_func(x_samples))\n",
    "\n",
    "    # Calculate averages\n",
    "    x_avg = np.mean(x_samples[valid_samples])\n",
    "    Q2_avg = np.mean(Q2_samples[valid_samples])\n",
    "\n",
    "    return x_avg, Q2_avg"
   ]
  },
  {
   "cell_type": "code",
   "execution_count": 12,
   "id": "chinese-throat",
   "metadata": {},
   "outputs": [
    {
     "ename": "ZeroDivisionError",
     "evalue": "division by zero",
     "output_type": "error",
     "traceback": [
      "\u001b[0;31m---------------------------------------------------------------------------\u001b[0m",
      "\u001b[0;31mZeroDivisionError\u001b[0m                         Traceback (most recent call last)",
      "\u001b[0;32m<ipython-input-12-fd83a72f915f>\u001b[0m in \u001b[0;36m<module>\u001b[0;34m\u001b[0m\n\u001b[1;32m      1\u001b[0m \u001b[0mexpression\u001b[0m \u001b[0;34m=\u001b[0m \u001b[0;34m\"([Q2]>1.4144 + -5.4708 * [x] + 40.5357 * [x]*[x] + -40.0208 * [x]*[x]*[x] + 29.2121 * [x]*[x]*[x]*[x])&([Q2]<0.6361935324019532 + 5.961630973508846*[x] + 12.028695097029118*[x]*[x])&([x]>0.12)&([x]<0.2)\"\u001b[0m\u001b[0;34m\u001b[0m\u001b[0;34m\u001b[0m\u001b[0m\n\u001b[0;32m----> 2\u001b[0;31m \u001b[0mavg_x\u001b[0m\u001b[0;34m,\u001b[0m \u001b[0mavg_Q2\u001b[0m \u001b[0;34m=\u001b[0m \u001b[0mcalculate_average_values\u001b[0m\u001b[0;34m(\u001b[0m\u001b[0mexpression\u001b[0m\u001b[0;34m)\u001b[0m\u001b[0;34m\u001b[0m\u001b[0;34m\u001b[0m\u001b[0m\n\u001b[0m\u001b[1;32m      3\u001b[0m \u001b[0mprint\u001b[0m\u001b[0;34m(\u001b[0m\u001b[0;34m\"Average x:\"\u001b[0m\u001b[0;34m,\u001b[0m \u001b[0mavg_x\u001b[0m\u001b[0;34m)\u001b[0m\u001b[0;34m\u001b[0m\u001b[0;34m\u001b[0m\u001b[0m\n\u001b[1;32m      4\u001b[0m \u001b[0mprint\u001b[0m\u001b[0;34m(\u001b[0m\u001b[0;34m\"Average Q2:\"\u001b[0m\u001b[0;34m,\u001b[0m \u001b[0mavg_Q2\u001b[0m\u001b[0;34m)\u001b[0m\u001b[0;34m\u001b[0m\u001b[0;34m\u001b[0m\u001b[0m\n",
      "\u001b[0;32m<ipython-input-4-f9a8653ee3e2>\u001b[0m in \u001b[0;36mcalculate_average_values\u001b[0;34m(expression)\u001b[0m\n\u001b[1;32m     24\u001b[0m \u001b[0;34m\u001b[0m\u001b[0m\n\u001b[1;32m     25\u001b[0m     \u001b[0;31m# Calculate the average values of x and Q2\u001b[0m\u001b[0;34m\u001b[0m\u001b[0;34m\u001b[0m\u001b[0;34m\u001b[0m\u001b[0m\n\u001b[0;32m---> 26\u001b[0;31m     \u001b[0mavg_x\u001b[0m \u001b[0;34m=\u001b[0m \u001b[0msum\u001b[0m\u001b[0;34m(\u001b[0m\u001b[0mx\u001b[0m \u001b[0;32mfor\u001b[0m \u001b[0mx\u001b[0m\u001b[0;34m,\u001b[0m \u001b[0m_\u001b[0m \u001b[0;32min\u001b[0m \u001b[0mvalid_solutions\u001b[0m\u001b[0;34m)\u001b[0m \u001b[0;34m/\u001b[0m \u001b[0mlen\u001b[0m\u001b[0;34m(\u001b[0m\u001b[0mvalid_solutions\u001b[0m\u001b[0;34m)\u001b[0m\u001b[0;34m\u001b[0m\u001b[0;34m\u001b[0m\u001b[0m\n\u001b[0m\u001b[1;32m     27\u001b[0m     \u001b[0mavg_Q2\u001b[0m \u001b[0;34m=\u001b[0m \u001b[0msum\u001b[0m\u001b[0;34m(\u001b[0m\u001b[0mQ2\u001b[0m \u001b[0;32mfor\u001b[0m \u001b[0m_\u001b[0m\u001b[0;34m,\u001b[0m \u001b[0mQ2\u001b[0m \u001b[0;32min\u001b[0m \u001b[0mvalid_solutions\u001b[0m\u001b[0;34m)\u001b[0m \u001b[0;34m/\u001b[0m \u001b[0mlen\u001b[0m\u001b[0;34m(\u001b[0m\u001b[0mvalid_solutions\u001b[0m\u001b[0;34m)\u001b[0m\u001b[0;34m\u001b[0m\u001b[0;34m\u001b[0m\u001b[0m\n\u001b[1;32m     28\u001b[0m \u001b[0;34m\u001b[0m\u001b[0m\n",
      "\u001b[0;31mZeroDivisionError\u001b[0m: division by zero"
     ]
    }
   ],
   "source": [
    "expression = \"([Q2]>1.4144 + -5.4708 * [x] + 40.5357 * [x]*[x] + -40.0208 * [x]*[x]*[x] + 29.2121 * [x]*[x]*[x]*[x])&([Q2]<0.6361935324019532 + 5.961630973508846*[x] + 12.028695097029118*[x]*[x])&([x]>0.12)&([x]<0.2)\"\n",
    "avg_x, avg_Q2 = calculate_average_values(expression)\n",
    "print(\"Average x:\", avg_x)\n",
    "print(\"Average Q2:\", avg_Q2)\n"
   ]
  },
  {
   "cell_type": "code",
   "execution_count": 17,
   "id": "impressive-purpose",
   "metadata": {},
   "outputs": [],
   "source": [
    "def average_x_Q2(region_str):\n",
    "    # Parse region string\n",
    "    conditions = region_str.split('&')\n",
    "    q2_lower_str, q2_upper_str, x_lower_str, x_upper_str = conditions\n",
    "    x_lower = float(x_lower_str.split('>')[-1].strip().replace(')', ''))\n",
    "    x_upper = float(x_upper_str.split('<')[-1].strip().replace(')', ''))\n",
    "    \n",
    "    # Correctly replace [x] with 'x'\n",
    "    q2_lower_str = q2_lower_str.replace('[x]', 'x').replace('*x*', '*x').replace('**', '*').replace(\"xx\",\"x*x\").replace(\")\",\"\")\n",
    "    q2_upper_str = q2_upper_str.replace('[x]', 'x').replace('*x*', '*x').replace('**', '*').replace(\"xx\",\"x*x\").replace(\")\",\"\")\n",
    "\n",
    "    # Create lambda functions\n",
    "    q2_lower_func = eval('lambda x: ' + q2_lower_str.split('>')[-1].strip())\n",
    "    q2_upper_func = eval('lambda x: ' + q2_upper_str.split('<')[-1].strip())\n",
    "    \n",
    "    # Monte Carlo sampling\n",
    "    N_samples = 1000000  # The number of samples\n",
    "    x_samples = np.random.uniform(x_lower, x_upper, N_samples)\n",
    "    Q2_samples = np.random.uniform(np.min([q2_lower_func(i) for i in x_samples]), \n",
    "                                   np.max([q2_upper_func(i) for i in x_samples]), N_samples)\n",
    "    valid_samples = np.logical_and(q2_lower_func(x_samples) <= Q2_samples, Q2_samples <= q2_upper_func(x_samples))\n",
    "\n",
    "    # Calculate averages\n",
    "    x_avg = np.mean(x_samples[valid_samples])\n",
    "    Q2_avg = np.mean(Q2_samples[valid_samples])\n",
    "\n",
    "    return x_avg, Q2_avg"
   ]
  },
  {
   "cell_type": "code",
   "execution_count": 18,
   "id": "internal-consensus",
   "metadata": {},
   "outputs": [
    {
     "name": "stdout",
     "output_type": "stream",
     "text": [
      "Average x: 0.16572917485917066, Average Q2: 1.7168900129775508\n"
     ]
    }
   ],
   "source": [
    "region_str = \"([Q2]>1.4144 + -5.4708 * [x] + 40.5357 * [x]*[x] + -40.0208 * [x]*[x]*[x] + 29.2121 * [x]*[x]*[x]*[x])&([Q2]<0.6361935324019532 + 5.961630973508846*[x] + 12.028695097029118*[x]*[x])&([x]>0.12)&([x]<0.2)\"\n",
    "x_avg, Q2_avg = average_x_Q2(region_str)\n",
    "print(f\"Average x: {x_avg}, Average Q2: {Q2_avg}\")\n"
   ]
  },
  {
   "cell_type": "code",
   "execution_count": 19,
   "id": "formed-syndication",
   "metadata": {},
   "outputs": [
    {
     "name": "stdout",
     "output_type": "stream",
     "text": [
      "Average x: 0.15001916947766586, Average Q2: 1.5001302365399618\n"
     ]
    }
   ],
   "source": [
    "region_str = \"([Q2]>1)&([Q2]<2)&([x]>0.1)&([x]<0.2)\"\n",
    "x_avg, Q2_avg = average_x_Q2(region_str)\n",
    "print(f\"Average x: {x_avg}, Average Q2: {Q2_avg}\")\n"
   ]
  },
  {
   "cell_type": "code",
   "execution_count": 20,
   "id": "continuous-second",
   "metadata": {},
   "outputs": [],
   "source": [
    "from scipy import integrate\n",
    "\n",
    "def area_x_Q2(region_str):\n",
    "    # Parse region string\n",
    "    conditions = region_str.split('&')\n",
    "    q2_lower_str, q2_upper_str, x_lower_str, x_upper_str = conditions\n",
    "    x_lower = float(x_lower_str.split('>')[-1].strip().replace(')', ''))\n",
    "    x_upper = float(x_upper_str.split('<')[-1].strip().replace(')', ''))\n",
    "    \n",
    "    # Correctly replace [x] with 'x'\n",
    "    q2_lower_str = q2_lower_str.replace('[x]', 'x').replace('*x*', '*x').replace('**', '*').replace(\"xx\",\"x*x\").replace(\")\",\"\")\n",
    "    q2_upper_str = q2_upper_str.replace('[x]', 'x').replace('*x*', '*x').replace('**', '*').replace(\"xx\",\"x*x\").replace(\")\",\"\")\n",
    "\n",
    "    # Create lambda functions\n",
    "    q2_lower_func = eval('lambda x: ' + q2_lower_str.split('>')[-1].strip())\n",
    "    q2_upper_func = eval('lambda x: ' + q2_upper_str.split('<')[-1].strip())\n",
    "    \n",
    "    # Calculate area\n",
    "    area, _ = integrate.quad(lambda x: q2_upper_func(x) - q2_lower_func(x), x_lower, x_upper)\n",
    "    return area"
   ]
  },
  {
   "cell_type": "code",
   "execution_count": 22,
   "id": "pacific-armor",
   "metadata": {},
   "outputs": [
    {
     "name": "stdout",
     "output_type": "stream",
     "text": [
      "Area: 0.03668939956926903\n"
     ]
    }
   ],
   "source": [
    "region_str = \"([Q2]>1.4144 + -5.4708 * [x] + 40.5357 * [x]*[x] + -40.0208 * [x]*[x]*[x] + 29.2121 * [x]*[x]*[x]*[x])&([Q2]<0.6361935324019532 + 5.961630973508846*[x] + 12.028695097029118*[x]*[x])&([x]>0.12)&([x]<0.2)\"\n",
    "area = area_x_Q2(region_str)\n",
    "print(f\"Area: {area}\")\n"
   ]
  },
  {
   "cell_type": "code",
   "execution_count": 47,
   "id": "bearing-motor",
   "metadata": {},
   "outputs": [],
   "source": [
    "import numpy as np\n",
    "from scipy.optimize import minimize\n",
    "\n",
    "def parse_conditions(conditions):\n",
    "    parsed_conditions = {}\n",
    "    for condition in conditions:\n",
    "        var = condition.split('[')[-1].split(']')[0]\n",
    "        if var not in parsed_conditions:\n",
    "            parsed_conditions[var] = {\"lower\": None, \"upper\": None}\n",
    "\n",
    "        if '>' in condition:\n",
    "            parsed_conditions[var][\"lower\"] = condition\n",
    "        elif '<' in condition:\n",
    "            parsed_conditions[var][\"upper\"] = condition\n",
    "    return parsed_conditions\n",
    "\n",
    "def average_x_Q2(region_str_list):\n",
    "    conditions = [i.strip() for region_str in region_str_list for i in region_str.split('&')]\n",
    "    \n",
    "    parsed_conditions = parse_conditions(conditions)\n",
    "    \n",
    "    for var, condition in parsed_conditions.items():\n",
    "        for bound in ['lower', 'upper']:\n",
    "            condition_str = condition[bound]\n",
    "            if condition_str is not None:\n",
    "                condition_str = condition_str.replace(f'[{var}]', 'x').replace('*x*', '*x').replace('**', '*').replace(\"xx\",\"x*x\")\n",
    "                condition[bound] = eval('lambda x: ' + condition_str.split(f'>{bound==\"lower\"}')[-1].strip())\n",
    "\n",
    "    variables = list(parsed_conditions.keys())\n",
    "    \n",
    "    # Monte Carlo sampling\n",
    "    N_samples = 1000000  # The number of samples\n",
    "    \n",
    "    result = {}\n",
    "    for var in variables:\n",
    "        x_lower = parsed_conditions[var]['lower'](0) if callable(parsed_conditions[var]['lower']) else parsed_conditions[var]['lower']\n",
    "        x_upper = parsed_conditions[var]['upper'](0) if callable(parsed_conditions[var]['upper']) else parsed_conditions[var]['upper']\n",
    "        \n",
    "        x_samples = np.random.uniform(x_lower, x_upper, N_samples)\n",
    "        result[var] = np.mean(x_samples)\n",
    "    return result"
   ]
  },
  {
   "cell_type": "code",
   "execution_count": 48,
   "id": "weird-strip",
   "metadata": {},
   "outputs": [
    {
     "name": "stdout",
     "output_type": "stream",
     "text": [
      "Average z: 0.5004524542952219\n",
      "Average pTtot: 0.5002807932634944\n",
      "Average x: 0.49986114019209255\n"
     ]
    }
   ],
   "source": [
    "region_str_list = [\n",
    "    \"([z]>0.5)&([z]<0.6)\",\n",
    "    \"([pTtot]>0.2)&([pTtot]<0.4)\",\n",
    "    \"([Q2]>1.4144 + -5.4708 * [x] + 40.5357 * [x]*[x] + -40.0208 * [x]*[x]*[x] + 29.2121 * [x]*[x]*[x]*[x])&([Q2]<0.6361935324019532 + 5.961630973508846*[x] + 12.028695097029118*[x]*[x])&([x]>0.12)&([x]<0.2)\"\n",
    "]\n",
    "\n",
    "result = average_x_Q2(region_str_list)\n",
    "for var, avg in result.items():\n",
    "    print(f\"Average {var}: {avg}\")"
   ]
  },
  {
   "cell_type": "code",
   "execution_count": 38,
   "id": "knowing-gender",
   "metadata": {},
   "outputs": [],
   "source": [
    "import ROOT\n",
    "f=ROOT.TFile(\"../projects/test/volatile/data/piplus_piminus/MC_RGA_3051_0.root\")"
   ]
  },
  {
   "cell_type": "code",
   "execution_count": 39,
   "id": "similar-suffering",
   "metadata": {},
   "outputs": [],
   "source": [
    "t=f.Get(\"dihadron_cuts\")\n",
    "region_str = \"&\".join(region_str_list)\n",
    "region_str = region_str.replace(\"&\",\"&&\").replace(\"[\",\"rec_\").replace(\"]\",\"\")"
   ]
  },
  {
   "cell_type": "code",
   "execution_count": 40,
   "id": "valued-composition",
   "metadata": {},
   "outputs": [
    {
     "data": {
      "text/plain": [
       "1646"
      ]
     },
     "execution_count": 40,
     "metadata": {},
     "output_type": "execute_result"
    }
   ],
   "source": [
    "t.Draw(\"rec_z\",region_str)"
   ]
  },
  {
   "cell_type": "code",
   "execution_count": 46,
   "id": "polished-frost",
   "metadata": {},
   "outputs": [
    {
     "name": "stdout",
     "output_type": "stream",
     "text": [
      "Average value: 0.16648292426598763\n"
     ]
    }
   ],
   "source": [
    "def calculate_average(tree_name, branch_name, cut_expression, file_name):\n",
    "    c=ROOT.TCanvas()\n",
    "    file = ROOT.TFile(file_name)\n",
    "    tree = file.Get(tree_name)\n",
    "  \n",
    "    tree.Draw(branch_name + \">>hist_name\", cut_expression)\n",
    "  \n",
    "    hist = ROOT.gPad.GetPrimitive(\"hist_name\")\n",
    "    average = hist.GetMean()\n",
    "  \n",
    "    file.Close()\n",
    "  \n",
    "    return average\n",
    "\n",
    "tree_name = \"dihadron_cuts\"\n",
    "branch_name = \"rec_x\"\n",
    "cut_expression = region_str\n",
    "file_name = \"../projects/test/volatile/data/piplus_piminus/MC_RGA_3051_1.root\"\n",
    "\n",
    "average = calculate_average(tree_name, branch_name, cut_expression, file_name)\n",
    "print(\"Average value:\", average)"
   ]
  },
  {
   "cell_type": "code",
   "execution_count": 14,
   "id": "younger-philosophy",
   "metadata": {},
   "outputs": [
    {
     "name": "stdout",
     "output_type": "stream",
     "text": [
      "Earth Mover's Distance:  16.0\n"
     ]
    },
    {
     "name": "stderr",
     "output_type": "stream",
     "text": [
      "Warning in <TROOT::Append>: Replacing existing TH1: hist_1 (Potential memory leak).\n",
      "Warning in <TROOT::Append>: Replacing existing TH1: hist_2 (Potential memory leak).\n"
     ]
    }
   ],
   "source": [
    "import ROOT\n",
    "import numpy as np\n",
    "from scipy.stats import wasserstein_distance\n",
    "\n",
    "# Generate random data for histograms\n",
    "np.random.seed(42)\n",
    "data_1 = np.random.normal(loc=0, scale=1, size=10000)\n",
    "data_2 = np.random.normal(loc=0, scale=1, size=10000)\n",
    "\n",
    "# Create ROOT histograms\n",
    "hist_1 = ROOT.TH1F(\"hist_1\", \"Histogram 1\", 20, -5, 5)\n",
    "hist_2 = ROOT.TH1F(\"hist_2\", \"Histogram 2\", 20, -5, 5)\n",
    "\n",
    "# Fill histograms with data\n",
    "for value in data_1:\n",
    "    hist_1.Fill(value)\n",
    "\n",
    "for value in data_2:\n",
    "    hist_2.Fill(value)\n",
    "\n",
    "# Convert ROOT histograms to numpy arrays\n",
    "hist_data_1 = []\n",
    "hist_data_2 = []\n",
    "for i in range(1, hist_1.GetNbinsX() + 1):\n",
    "    hist_data_1.append(hist_1.GetBinContent(i))\n",
    "    hist_data_2.append(hist_2.GetBinContent(i))\n",
    "\n",
    "# Calculate the Earth Mover's Distance (EMD)\n",
    "emd = wasserstein_distance(hist_data_1, hist_data_2)\n",
    "\n",
    "# Print the result\n",
    "print(\"Earth Mover's Distance: \", emd)\n"
   ]
  },
  {
   "cell_type": "code",
   "execution_count": 8,
   "id": "nasty-louis",
   "metadata": {},
   "outputs": [
    {
     "ename": "ReferenceError",
     "evalue": "attempt to access a null-pointer",
     "output_type": "error",
     "traceback": [
      "\u001b[0;31m---------------------------------------------------------------------------\u001b[0m",
      "\u001b[0;31mReferenceError\u001b[0m                            Traceback (most recent call last)",
      "\u001b[0;32m<ipython-input-8-b448f9ec8104>\u001b[0m in \u001b[0;36m<module>\u001b[0;34m\u001b[0m\n\u001b[1;32m      7\u001b[0m \u001b[0mroot_hist_name_2\u001b[0m \u001b[0;34m=\u001b[0m \u001b[0;34m'histogram_name_2'\u001b[0m\u001b[0;34m\u001b[0m\u001b[0;34m\u001b[0m\u001b[0m\n\u001b[1;32m      8\u001b[0m \u001b[0;34m\u001b[0m\u001b[0m\n\u001b[0;32m----> 9\u001b[0;31m \u001b[0mhist_1\u001b[0m \u001b[0;34m=\u001b[0m \u001b[0mroot_file\u001b[0m\u001b[0;34m.\u001b[0m\u001b[0mGet\u001b[0m\u001b[0;34m(\u001b[0m\u001b[0mroot_hist_name_1\u001b[0m\u001b[0;34m)\u001b[0m\u001b[0;34m\u001b[0m\u001b[0;34m\u001b[0m\u001b[0m\n\u001b[0m\u001b[1;32m     10\u001b[0m \u001b[0mhist_2\u001b[0m \u001b[0;34m=\u001b[0m \u001b[0mroot_file\u001b[0m\u001b[0;34m.\u001b[0m\u001b[0mGet\u001b[0m\u001b[0;34m(\u001b[0m\u001b[0mroot_hist_name_2\u001b[0m\u001b[0;34m)\u001b[0m\u001b[0;34m\u001b[0m\u001b[0;34m\u001b[0m\u001b[0m\n\u001b[1;32m     11\u001b[0m \u001b[0;34m\u001b[0m\u001b[0m\n",
      "\u001b[0;31mReferenceError\u001b[0m: attempt to access a null-pointer"
     ]
    },
    {
     "name": "stderr",
     "output_type": "stream",
     "text": [
      "Error in <TFile::TFile>: file path/to/your/root/file.root does not exist\n"
     ]
    }
   ],
   "source": [
    "import ROOT\n",
    "from scipy.stats import wasserstein_distance\n",
    "\n",
    "# Load ROOT histogram data\n",
    "root_file = ROOT.TFile.Open('path/to/your/root/file.root')\n",
    "root_hist_name_1 = 'histogram_name_1'\n",
    "root_hist_name_2 = 'histogram_name_2'\n",
    "\n",
    "hist_1 = root_file.Get(root_hist_name_1)\n",
    "hist_2 = root_file.Get(root_hist_name_2)\n",
    "\n",
    "# Convert ROOT histograms to numpy arrays\n",
    "hist_data_1 = []\n",
    "hist_data_2 = []\n",
    "for i in range(1, hist_1.GetNbinsX() + 1):\n",
    "    hist_data_1.append(hist_1.GetBinContent(i))\n",
    "    hist_data_2.append(hist_2.GetBinContent(i))\n",
    "\n",
    "# Calculate the Earth Mover's Distance (EMD)\n",
    "emd = wasserstein_distance(hist_data_1, hist_data_2)\n",
    "\n",
    "# Print the result\n",
    "print(\"Earth Mover's Distance: \", emd)"
   ]
  },
  {
   "cell_type": "code",
   "execution_count": 65,
   "id": "norman-tobago",
   "metadata": {},
   "outputs": [
    {
     "data": {
      "image/png": "[encoded data removed]",
      "text/plain": [
       "<Figure size 600x600 with 1 Axes>"
      ]
     },
     "metadata": {
      "needs_background": "light"
     },
     "output_type": "display_data"
    }
   ],
   "source": [
    "import uproot\n",
    "import matplotlib.pyplot as plt\n",
    "# Set the backend to generate LaTeX output\n",
    "plt.rcParams[\"text.usetex\"] = True\n",
    "# Open the ROOT file and get the TTree\n",
    "file = uproot.open(\"../projects/test/volatile/data/piplus_piminus/MC_RGA_3051_0.root\")\n",
    "tree = file[\"dihadron_cuts\"]\n",
    "\n",
    "# Read the data from the TTree using uproot\n",
    "gen_phi_h = tree[\"gen_phi_h\"].array()\n",
    "rec_phi_h = tree[\"rec_phi_h\"].array()\n",
    "rec_passDihadron = tree[\"rec_passDihadron\"].array()\n",
    "\n",
    "# Plot histograms with plt.hist()\n",
    "plt.figure(dpi=150,figsize=(4,4))\n",
    "plt.hist(gen_phi_h, bins=25, range=(-3.6, 3.6), histtype='bar', color='blue', ec=\"black\",alpha=0.5, label='Generated')\n",
    "plt.hist(rec_phi_h[rec_passDihadron==1], bins=25, range=(-3.6, 3.6), histtype='bar', ec=\"black\", color='orange',alpha=0.5, label='Reconstructed')\n",
    "\n",
    "\n",
    "# Set plot properties\n",
    "plt.xlabel(\"$\\phi_{h}$\",fontsize=15)\n",
    "plt.ylabel(\"Counts\",fontsize=15)\n",
    "plt.yscale(\"log\")\n",
    "plt.title(\"e+p Monte Carlo Simulations\")\n",
    "plt.ylim(1, 1000000)\n",
    "plt.legend(fontsize=15)\n",
    "\n",
    "# Show the plot\n",
    "plt.show()\n"
   ]
  },
  {
   "cell_type": "code",
   "execution_count": 35,
   "id": "fatal-conversion",
   "metadata": {},
   "outputs": [
    {
     "data": {
      "text/html": [
       "<pre>[0.0805,\n",
       " 1.56,\n",
       " -2.56,\n",
       " 2.37,\n",
       " 2.03,\n",
       " 2.51,\n",
       " 0.0054,\n",
       " 1.86,\n",
       " -2.24,\n",
       " -2.18,\n",
       " ...,\n",
       " 1.29,\n",
       " -2.17,\n",
       " 1.65,\n",
       " -0.24,\n",
       " 0.863,\n",
       " -1.75,\n",
       " -2.98,\n",
       " 2.06,\n",
       " 3.03]\n",
       "---------------------\n",
       "type: 26385 * float64</pre>"
      ],
      "text/plain": [
       "<Array [0.0805, 1.56, -2.56, ..., -2.98, 2.06, 3.03] type='26385 * float64'>"
      ]
     },
     "execution_count": 35,
     "metadata": {},
     "output_type": "execute_result"
    }
   ],
   "source": [
    "rec_phi_h[rec_passDihadron==1]"
   ]
  },
  {
   "cell_type": "code",
   "execution_count": null,
   "id": "alert-hypothetical",
   "metadata": {},
   "outputs": [],
   "source": []
  }
 ],
 "metadata": {
  "kernelspec": {
   "display_name": "Python 3",
   "language": "python",
   "name": "python3"
  },
  "language_info": {
   "codemirror_mode": {
    "name": "ipython",
    "version": 3
   },
   "file_extension": ".py",
   "mimetype": "text/x-python",
   "name": "python",
   "nbconvert_exporter": "python",
   "pygments_lexer": "ipython3",
   "version": "3.8.6"
  }
 },
 "nbformat": 4,
 "nbformat_minor": 5
}

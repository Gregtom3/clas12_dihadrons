{
 "cells": [
  {
   "cell_type": "code",
   "execution_count": 1,
   "id": "pending-strip",
   "metadata": {},
   "outputs": [
    {
     "name": "stdout",
     "output_type": "stream",
     "text": [
      "Welcome to JupyROOT 6.22/06\n"
     ]
    },
    {
     "name": "stderr",
     "output_type": "stream",
     "text": [
      "Matplotlib created a temporary config/cache directory at /tmp/matplotlib-5j98m4it because the default path (/home/jovyan/.cache/matplotlib) is not a writable directory; it is highly recommended to set the MPLCONFIGDIR environment variable to a writable directory, in particular to speed up the import of Matplotlib and to better support multiprocessing.\n"
     ]
    }
   ],
   "source": [
    "%run ../../src/binning.py\n",
    "%run ../../src/plot.py\n",
    "ROOT.EnableImplicitMT(8)"
   ]
  },
  {
   "cell_type": "code",
   "execution_count": 2,
   "id": "educational-columbus",
   "metadata": {},
   "outputs": [],
   "source": [
    "#######################################################################\n",
    "# 2d Rectangular Binning\n",
    "#######################################################################\n",
    "\n",
    "rect_bin_factory = RectBinFactory()\n",
    "rect_bin_factory.make_bins(\"rec_z\",np.array([0.3,0.38,0.5,0.6,0.7,0.9]))\n",
    "rect_bin_factory.make_bins(\"rec_pTtot\",np.array([0,0.2,0.4,0.6,0.8,1,1.5]))\n",
    "#rect_bin_factory.make_bins(\"Mh\",np.array([0,0.2,0.4,0.6,0.8,1,1.5]))"
   ]
  },
  {
   "cell_type": "code",
   "execution_count": 3,
   "id": "black-brief",
   "metadata": {},
   "outputs": [],
   "source": [
    "#######################################################################\n",
    "# Custom Binning\n",
    "#######################################################################\n",
    "\n",
    "custom_bin_factory = CustomBinFactory([\"rec_x\",\"rec_Q2\"])\n",
    "\n",
    "# Add (x,Q2) boundaries\n",
    "low_Q2 = \"rec_Q2>1.4144 + -5.4708 * rec_x + 40.5357 * rec_x*rec_x + -40.0208 * rec_x*rec_x*rec_x + 29.2121 * rec_x*rec_x*rec_x*rec_x\"\n",
    "lmiddle_Q2=\"rec_Q2<0.6361935324019532 + 5.961630973508846*rec_x + 12.028695097029118*rec_x*rec_x\"\n",
    "hmiddle_Q2=\"rec_Q2>0.6361935324019532 + 5.961630973508846*rec_x + 12.028695097029118*rec_x*rec_x\"\n",
    "high_Q2 = \"rec_Q2<rec_x*17\"\n",
    "\n",
    "custom_bin_factory.add_curve(\"low_Q2\",low_Q2)\n",
    "custom_bin_factory.add_curve(\"lmiddle_Q2\",lmiddle_Q2)\n",
    "custom_bin_factory.add_curve(\"hmiddle_Q2\",hmiddle_Q2)\n",
    "custom_bin_factory.add_curve(\"high_Q2\",high_Q2)\n",
    "\n",
    "custom_bin_factory.make_bin([\"low_Q2\",\"high_Q2\"],\"rec_x>0.07\",\"rec_x<0.12\")\n",
    "custom_bin_factory.make_bin([\"hmiddle_Q2\",\"high_Q2\"],\"rec_x>0.12\",\"rec_x<0.15\")\n",
    "custom_bin_factory.make_bin([\"low_Q2\",\"lmiddle_Q2\"],\"rec_x>0.12\",\"rec_x<0.2\")\n",
    "custom_bin_factory.make_bin([\"hmiddle_Q2\",\"high_Q2\"],\"rec_x>0.15\",\"rec_x<0.22\")\n",
    "custom_bin_factory.make_bin([\"low_Q2\",\"lmiddle_Q2\"],\"rec_x>0.2\",\"rec_x<0.275\")\n",
    "custom_bin_factory.make_bin([\"hmiddle_Q2\",\"high_Q2\"],\"rec_x>0.22\",\"rec_x<0.29\")\n",
    "custom_bin_factory.make_bin([\"low_Q2\",\"lmiddle_Q2\"],\"rec_x>0.275\",\"rec_x<0.42\")\n",
    "custom_bin_factory.make_bin([\"hmiddle_Q2\",\"high_Q2\"],\"rec_x>0.29\",\"rec_x<0.42\")\n",
    "custom_bin_factory.make_bin([\"low_Q2\",\"high_Q2\"],\"rec_x>0.42\",\"rec_x<1\")"
   ]
  },
  {
   "cell_type": "code",
   "execution_count": 4,
   "id": "understanding-hometown",
   "metadata": {},
   "outputs": [],
   "source": [
    "#######################################################################\n",
    "# Load all Binnings into the BinManager\n",
    "#######################################################################\n",
    "\n",
    "bin_manager = BinManager()\n",
    "bin_manager.load_factory(rect_bin_factory)\n",
    "bin_manager.load_factory(custom_bin_factory)"
   ]
  },
  {
   "cell_type": "code",
   "execution_count": 14,
   "id": "instructional-shore",
   "metadata": {},
   "outputs": [],
   "source": [
    "%run ../../src/plot.py"
   ]
  },
  {
   "cell_type": "code",
   "execution_count": 15,
   "id": "medical-medline",
   "metadata": {},
   "outputs": [],
   "source": [
    "data_files=get_first_N_files(\"../../projects/test_data/volatile/data/piplus_piminus/\",25,\"nSidis_RGA_*\")\n",
    "mc_files=get_first_N_files(\"../../projects/test/volatile/data/piplus_piminus/\",10,\"MC_RGA*\")\n",
    "data_tree=ROOT.TChain(\"dihadron_cuts\")\n",
    "mc_tree=ROOT.TChain(\"dihadron_cuts\")\n",
    "for data_file in data_files:\n",
    "    data_tree.Add(data_file)\n",
    "for mc_file in mc_files:\n",
    "    mc_tree.Add(mc_file)"
   ]
  },
  {
   "cell_type": "code",
   "execution_count": 16,
   "id": "medieval-somalia",
   "metadata": {},
   "outputs": [],
   "source": [
    "histograms=make_multiple_bin_histos(bin_manager, data_tree, mc_tree, \n",
    "                         [(\";x;Q^{2} [GeV^{2}]\",100,0,0.8,100,0,12),\n",
    "                         (\";z;p_{T} [GeV]\",100,0.25,1,100,0,1.5),\n",
    "                         (\";M_{h} [GeV];Counts\",100,0,2.5)],\n",
    "                                    plot_variable=\"rec_Mh\")"
   ]
  },
  {
   "cell_type": "code",
   "execution_count": null,
   "id": "computational-allergy",
   "metadata": {},
   "outputs": [],
   "source": [
    "canvas = plot_map(bin_manager,histograms,data_tree,mc_tree,64)\n",
    "canvas.Draw()"
   ]
  },
  {
   "cell_type": "code",
   "execution_count": null,
   "id": "coupled-austin",
   "metadata": {},
   "outputs": [],
   "source": []
  }
 ],
 "metadata": {
  "kernelspec": {
   "display_name": "Python 3",
   "language": "python",
   "name": "python3"
  },
  "language_info": {
   "codemirror_mode": {
    "name": "ipython",
    "version": 3
   },
   "file_extension": ".py",
   "mimetype": "text/x-python",
   "name": "python",
   "nbconvert_exporter": "python",
   "pygments_lexer": "ipython3",
   "version": "3.8.6"
  }
 },
 "nbformat": 4,
 "nbformat_minor": 5
}
